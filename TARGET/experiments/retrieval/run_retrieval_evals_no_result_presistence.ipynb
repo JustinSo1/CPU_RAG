{
 "cells": [
  {
   "cell_type": "code",
   "execution_count": 1,
   "metadata": {},
   "outputs": [
    {
     "name": "stderr",
     "output_type": "stream",
     "text": [
      "2024-09-19 16:31:18.972262: I external/local_tsl/tsl/cuda/cudart_stub.cc:32] Could not find cuda drivers on your machine, GPU will not be used.\n",
      "2024-09-19 16:31:18.976064: I external/local_tsl/tsl/cuda/cudart_stub.cc:32] Could not find cuda drivers on your machine, GPU will not be used.\n",
      "2024-09-19 16:31:19.028581: I tensorflow/core/platform/cpu_feature_guard.cc:210] This TensorFlow binary is optimized to use available CPU instructions in performance-critical operations.\n",
      "To enable the following instructions: AVX2 FMA, in other operations, rebuild TensorFlow with the appropriate compiler flags.\n",
      "2024-09-19 16:31:20.176281: W tensorflow/compiler/tf2tensorrt/utils/py_utils.cc:38] TF-TRT Warning: Could not find TensorRT\n"
     ]
    }
   ],
   "source": [
    "from target_benchmark.evaluators import TARGET, get_task_names\n",
    "target_fetaqa = TARGET((\"Table Retrieval Task\", \"fetaqa\"))\n",
    "target_ottqa = TARGET((\"Table Retrieval Task\", \"ottqa\"))\n",
    "target_tabfact = TARGET((\"Table Retrieval Task\", \"tabfact\"))\n",
    "target_spider = TARGET((\"Table Retrieval Task\", \"spider-test\"))\n",
    "target_bird = TARGET((\"Table Retrieval Task\", \"bird-validation\"))\n",
    "target_infiagentda = TARGET((\"Table Retrieval Task\", \"infiagentda\"))\n",
    "\n",
    "top_ks = [1, 5, 10, 25, 50]\n",
    "\n",
    "def run_eval_for_top_ks(retriever, retriever_name: str, top_ks: list[int], target: TARGET, dataset_name: str, split: str):\n",
    "    results = []\n",
    "    for top_k in top_ks:\n",
    "        performance = target.run(retriever=retriever, split=split, batch_size=100, top_k=top_k)\n",
    "        results.append(performance)\n",
    "        print(performance)\n",
    "    return results\n",
    "    "
   ]
  },
  {
   "cell_type": "markdown",
   "metadata": {},
   "source": [
    "# Llamaindex (Done)"
   ]
  },
  {
   "cell_type": "code",
   "execution_count": 8,
   "metadata": {},
   "outputs": [],
   "source": [
    "from target_benchmark.retrievers import LlamaIndexRetriever\n",
    "llamaindex_retriever = LlamaIndexRetriever()"
   ]
  },
  {
   "cell_type": "code",
   "execution_count": null,
   "metadata": {},
   "outputs": [],
   "source": [
    "# fetaqa test\n",
    "llamaindex_results_fetaqa_test = run_eval_for_top_ks(llamaindex_retriever, \"llamaindex\",top_ks, target_fetaqa, \"fetaqa\", \"test\")"
   ]
  },
  {
   "cell_type": "code",
   "execution_count": 6,
   "metadata": {},
   "outputs": [
    {
     "data": {
      "text/plain": [
       "[{'Table Retrieval Task': {'fetaqa': TaskResultsDataModel(retrieval_performance=RetrievalPerformanceDataModel(k=1, accuracy=0.2381427858212681, precision=None, recall=None, retrieval_time=405.29509, avg_retrieval_time=0.20234), downstream_task_performance=DownstreamTaskPerformanceDataModel(task_name=None, scores=None), embedding_statistics=EmbeddingStatisticsDataModel(embedding_creation_duration=152.35639, avg_embedding_creation_duration=0.07606, embedding_size=8.53197, avg_embedding_size=0.00426))}},\n",
       " {'Table Retrieval Task': {'fetaqa': TaskResultsDataModel(retrieval_performance=RetrievalPerformanceDataModel(k=5, accuracy=0.37993010484273587, precision=None, recall=None, retrieval_time=429.66376, avg_retrieval_time=0.21451), downstream_task_performance=DownstreamTaskPerformanceDataModel(task_name=None, scores=None), embedding_statistics=EmbeddingStatisticsDataModel(embedding_creation_duration=20.32173, avg_embedding_creation_duration=0.01015, embedding_size=0.0, avg_embedding_size=0.0))}},\n",
       " {'Table Retrieval Task': {'fetaqa': TaskResultsDataModel(retrieval_performance=RetrievalPerformanceDataModel(k=10, accuracy=0.436345481777334, precision=None, recall=None, retrieval_time=412.36555, avg_retrieval_time=0.20587), downstream_task_performance=DownstreamTaskPerformanceDataModel(task_name=None, scores=None), embedding_statistics=EmbeddingStatisticsDataModel(embedding_creation_duration=20.23989, avg_embedding_creation_duration=0.0101, embedding_size=0.0, avg_embedding_size=0.0))}},\n",
       " {'Table Retrieval Task': {'fetaqa': TaskResultsDataModel(retrieval_performance=RetrievalPerformanceDataModel(k=25, accuracy=0.545681477783325, precision=None, recall=None, retrieval_time=413.68584, avg_retrieval_time=0.20653), downstream_task_performance=DownstreamTaskPerformanceDataModel(task_name=None, scores=None), embedding_statistics=EmbeddingStatisticsDataModel(embedding_creation_duration=20.08907, avg_embedding_creation_duration=0.01003, embedding_size=0.0041, avg_embedding_size=0.0))}},\n",
       " {'Table Retrieval Task': {'fetaqa': TaskResultsDataModel(retrieval_performance=RetrievalPerformanceDataModel(k=50, accuracy=0.6230654018971543, precision=None, recall=None, retrieval_time=418.37355, avg_retrieval_time=0.20887), downstream_task_performance=DownstreamTaskPerformanceDataModel(task_name=None, scores=None), embedding_statistics=EmbeddingStatisticsDataModel(embedding_creation_duration=20.56766, avg_embedding_creation_duration=0.01027, embedding_size=0.0041, avg_embedding_size=0.0))}}]"
      ]
     },
     "execution_count": 6,
     "metadata": {},
     "output_type": "execute_result"
    }
   ],
   "source": [
    "llamaindex_results_fetaqa_test"
   ]
  },
  {
   "cell_type": "code",
   "execution_count": 10,
   "metadata": {},
   "outputs": [
    {
     "name": "stderr",
     "output_type": "stream",
     "text": [
      "Retrieving Tables for ottqa...: 100%|██████████| 2214/2214 [09:59<00:00,  3.70it/s]\n",
      "Retrieving Tables for ottqa...: 100%|██████████| 2214/2214 [12:49<00:00,  2.88it/s]\n",
      "Retrieving Tables for ottqa...: 100%|██████████| 2214/2214 [09:45<00:00,  3.78it/s]\n",
      "Retrieving Tables for ottqa...: 100%|██████████| 2214/2214 [10:24<00:00,  3.55it/s]\n",
      "Retrieving Tables for ottqa...: 100%|██████████| 2214/2214 [11:18<00:00,  3.26it/s]"
     ]
    },
    {
     "name": "stdout",
     "output_type": "stream",
     "text": [
      "[{'Table Retrieval Task': {'ottqa': TaskResultsDataModel(retrieval_performance=RetrievalPerformanceDataModel(k=1, accuracy=0.498193315266486, precision=None, recall=None, retrieval_time=183.93012, avg_retrieval_time=0.08308), downstream_task_performance=DownstreamTaskPerformanceDataModel(task_name=None, scores=None), embedding_statistics=EmbeddingStatisticsDataModel(embedding_creation_duration=33.0656, avg_embedding_creation_duration=0.04191, embedding_size=7.13933, avg_embedding_size=0.00905))}}, {'Table Retrieval Task': {'ottqa': TaskResultsDataModel(retrieval_performance=RetrievalPerformanceDataModel(k=5, accuracy=0.7335140018066847, precision=None, recall=None, retrieval_time=205.72068, avg_retrieval_time=0.09292), downstream_task_performance=DownstreamTaskPerformanceDataModel(task_name=None, scores=None), embedding_statistics=EmbeddingStatisticsDataModel(embedding_creation_duration=6.65169, avg_embedding_creation_duration=0.00843, embedding_size=0.0, avg_embedding_size=0.0))}}, {'Table Retrieval Task': {'ottqa': TaskResultsDataModel(retrieval_performance=RetrievalPerformanceDataModel(k=10, accuracy=0.8206865401987353, precision=None, recall=None, retrieval_time=189.23705, avg_retrieval_time=0.08547), downstream_task_performance=DownstreamTaskPerformanceDataModel(task_name=None, scores=None), embedding_statistics=EmbeddingStatisticsDataModel(embedding_creation_duration=6.62422, avg_embedding_creation_duration=0.0084, embedding_size=0.0041, avg_embedding_size=1e-05))}}, {'Table Retrieval Task': {'ottqa': TaskResultsDataModel(retrieval_performance=RetrievalPerformanceDataModel(k=25, accuracy=0.9019873532068654, precision=None, recall=None, retrieval_time=191.48488, avg_retrieval_time=0.08649), downstream_task_performance=DownstreamTaskPerformanceDataModel(task_name=None, scores=None), embedding_statistics=EmbeddingStatisticsDataModel(embedding_creation_duration=6.26533, avg_embedding_creation_duration=0.00794, embedding_size=0.0, avg_embedding_size=0.0))}}, {'Table Retrieval Task': {'ottqa': TaskResultsDataModel(retrieval_performance=RetrievalPerformanceDataModel(k=50, accuracy=0.948509485094851, precision=None, recall=None, retrieval_time=194.59505, avg_retrieval_time=0.08789), downstream_task_performance=DownstreamTaskPerformanceDataModel(task_name=None, scores=None), embedding_statistics=EmbeddingStatisticsDataModel(embedding_creation_duration=6.21754, avg_embedding_creation_duration=0.00788, embedding_size=0.0, avg_embedding_size=0.0))}}]\n"
     ]
    },
    {
     "name": "stderr",
     "output_type": "stream",
     "text": [
      "\n"
     ]
    }
   ],
   "source": [
    "# ottqa\n",
    "llamaindex_retriever_results_ottqa_val = run_eval_for_top_ks(llamaindex_retriever, \"llamaindex\",top_ks, target_ottqa, \"ottqa\", \"validation\")"
   ]
  },
  {
   "cell_type": "code",
   "execution_count": 11,
   "metadata": {},
   "outputs": [
    {
     "data": {
      "text/plain": [
       "[{'Table Retrieval Task': {'ottqa': TaskResultsDataModel(retrieval_performance=RetrievalPerformanceDataModel(k=1, accuracy=0.498193315266486, precision=None, recall=None, retrieval_time=183.93012, avg_retrieval_time=0.08308), downstream_task_performance=DownstreamTaskPerformanceDataModel(task_name=None, scores=None), embedding_statistics=EmbeddingStatisticsDataModel(embedding_creation_duration=33.0656, avg_embedding_creation_duration=0.04191, embedding_size=7.13933, avg_embedding_size=0.00905))}},\n",
       " {'Table Retrieval Task': {'ottqa': TaskResultsDataModel(retrieval_performance=RetrievalPerformanceDataModel(k=5, accuracy=0.7335140018066847, precision=None, recall=None, retrieval_time=205.72068, avg_retrieval_time=0.09292), downstream_task_performance=DownstreamTaskPerformanceDataModel(task_name=None, scores=None), embedding_statistics=EmbeddingStatisticsDataModel(embedding_creation_duration=6.65169, avg_embedding_creation_duration=0.00843, embedding_size=0.0, avg_embedding_size=0.0))}},\n",
       " {'Table Retrieval Task': {'ottqa': TaskResultsDataModel(retrieval_performance=RetrievalPerformanceDataModel(k=10, accuracy=0.8206865401987353, precision=None, recall=None, retrieval_time=189.23705, avg_retrieval_time=0.08547), downstream_task_performance=DownstreamTaskPerformanceDataModel(task_name=None, scores=None), embedding_statistics=EmbeddingStatisticsDataModel(embedding_creation_duration=6.62422, avg_embedding_creation_duration=0.0084, embedding_size=0.0041, avg_embedding_size=1e-05))}},\n",
       " {'Table Retrieval Task': {'ottqa': TaskResultsDataModel(retrieval_performance=RetrievalPerformanceDataModel(k=25, accuracy=0.9019873532068654, precision=None, recall=None, retrieval_time=191.48488, avg_retrieval_time=0.08649), downstream_task_performance=DownstreamTaskPerformanceDataModel(task_name=None, scores=None), embedding_statistics=EmbeddingStatisticsDataModel(embedding_creation_duration=6.26533, avg_embedding_creation_duration=0.00794, embedding_size=0.0, avg_embedding_size=0.0))}},\n",
       " {'Table Retrieval Task': {'ottqa': TaskResultsDataModel(retrieval_performance=RetrievalPerformanceDataModel(k=50, accuracy=0.948509485094851, precision=None, recall=None, retrieval_time=194.59505, avg_retrieval_time=0.08789), downstream_task_performance=DownstreamTaskPerformanceDataModel(task_name=None, scores=None), embedding_statistics=EmbeddingStatisticsDataModel(embedding_creation_duration=6.21754, avg_embedding_creation_duration=0.00788, embedding_size=0.0, avg_embedding_size=0.0))}}]"
      ]
     },
     "execution_count": 11,
     "metadata": {},
     "output_type": "execute_result"
    }
   ],
   "source": [
    "llamaindex_retriever_results_ottqa_val"
   ]
  },
  {
   "cell_type": "code",
   "execution_count": 5,
   "metadata": {},
   "outputs": [
    {
     "name": "stderr",
     "output_type": "stream",
     "text": [
      "Retrieving Tables for tabfact...: 100%|██████████| 12779/12779 [1:19:20<00:00,  2.68it/s]\n",
      "Retrieving Tables for tabfact...: 100%|██████████| 12779/12779 [1:15:03<00:00,  2.84it/s]\n",
      "Retrieving Tables for tabfact...: 100%|██████████| 12779/12779 [1:15:02<00:00,  2.84it/s]\n",
      "Retrieving Tables for tabfact...: 100%|██████████| 12779/12779 [1:15:06<00:00,  2.84it/s]\n",
      "Retrieving Tables for tabfact...: 100%|██████████| 12779/12779 [1:20:14<00:00,  2.65it/s]"
     ]
    },
    {
     "name": "stdout",
     "output_type": "stream",
     "text": [
      "[{'Table Retrieval Task': {'tabfact': TaskResultsDataModel(retrieval_performance=RetrievalPerformanceDataModel(k=1, accuracy=0.20893653650520386, precision=None, recall=None, retrieval_time=2229.16026, avg_retrieval_time=0.17444), downstream_task_performance=DownstreamTaskPerformanceDataModel(task_name=None, scores=None), embedding_statistics=EmbeddingStatisticsDataModel(embedding_creation_duration=130.40129, avg_embedding_creation_duration=0.07693, embedding_size=14.50803, avg_embedding_size=0.00856))}}, {'Table Retrieval Task': {'tabfact': TaskResultsDataModel(retrieval_performance=RetrievalPerformanceDataModel(k=5, accuracy=0.3801549417012286, precision=None, recall=None, retrieval_time=2271.32262, avg_retrieval_time=0.17774), downstream_task_performance=DownstreamTaskPerformanceDataModel(task_name=None, scores=None), embedding_statistics=EmbeddingStatisticsDataModel(embedding_creation_duration=15.38721, avg_embedding_creation_duration=0.00908, embedding_size=0.0, avg_embedding_size=0.0))}}, {'Table Retrieval Task': {'tabfact': TaskResultsDataModel(retrieval_performance=RetrievalPerformanceDataModel(k=10, accuracy=0.4692072932154316, precision=None, recall=None, retrieval_time=2278.1252, avg_retrieval_time=0.17827), downstream_task_performance=DownstreamTaskPerformanceDataModel(task_name=None, scores=None), embedding_statistics=EmbeddingStatisticsDataModel(embedding_creation_duration=15.70132, avg_embedding_creation_duration=0.00926, embedding_size=0.01229, avg_embedding_size=1e-05))}}, {'Table Retrieval Task': {'tabfact': TaskResultsDataModel(retrieval_performance=RetrievalPerformanceDataModel(k=25, accuracy=0.5949604820408483, precision=None, recall=None, retrieval_time=2301.45407, avg_retrieval_time=0.1801), downstream_task_performance=DownstreamTaskPerformanceDataModel(task_name=None, scores=None), embedding_statistics=EmbeddingStatisticsDataModel(embedding_creation_duration=14.91744, avg_embedding_creation_duration=0.0088, embedding_size=0.0, avg_embedding_size=0.0))}}, {'Table Retrieval Task': {'tabfact': TaskResultsDataModel(retrieval_performance=RetrievalPerformanceDataModel(k=50, accuracy=0.7024806322873465, precision=None, recall=None, retrieval_time=2305.25449, avg_retrieval_time=0.18039), downstream_task_performance=DownstreamTaskPerformanceDataModel(task_name=None, scores=None), embedding_statistics=EmbeddingStatisticsDataModel(embedding_creation_duration=15.64626, avg_embedding_creation_duration=0.00923, embedding_size=0.0041, avg_embedding_size=0.0))}}]\n"
     ]
    },
    {
     "name": "stderr",
     "output_type": "stream",
     "text": [
      "\n"
     ]
    }
   ],
   "source": [
    "# tabfact\n",
    "llamaindex_retriever_results_tabfact_test = run_eval_for_top_ks(llamaindex_retriever, \"llamaindex\",top_ks, target_tabfact, \"tabfact\", \"test\")"
   ]
  },
  {
   "cell_type": "code",
   "execution_count": 7,
   "metadata": {},
   "outputs": [
    {
     "data": {
      "text/plain": [
       "[{'Table Retrieval Task': {'tabfact': TaskResultsDataModel(retrieval_performance=RetrievalPerformanceDataModel(k=1, accuracy=0.20893653650520386, precision=None, recall=None, retrieval_time=2229.16026, avg_retrieval_time=0.17444), downstream_task_performance=DownstreamTaskPerformanceDataModel(task_name=None, scores=None), embedding_statistics=EmbeddingStatisticsDataModel(embedding_creation_duration=130.40129, avg_embedding_creation_duration=0.07693, embedding_size=14.50803, avg_embedding_size=0.00856))}},\n",
       " {'Table Retrieval Task': {'tabfact': TaskResultsDataModel(retrieval_performance=RetrievalPerformanceDataModel(k=5, accuracy=0.3801549417012286, precision=None, recall=None, retrieval_time=2271.32262, avg_retrieval_time=0.17774), downstream_task_performance=DownstreamTaskPerformanceDataModel(task_name=None, scores=None), embedding_statistics=EmbeddingStatisticsDataModel(embedding_creation_duration=15.38721, avg_embedding_creation_duration=0.00908, embedding_size=0.0, avg_embedding_size=0.0))}},\n",
       " {'Table Retrieval Task': {'tabfact': TaskResultsDataModel(retrieval_performance=RetrievalPerformanceDataModel(k=10, accuracy=0.4692072932154316, precision=None, recall=None, retrieval_time=2278.1252, avg_retrieval_time=0.17827), downstream_task_performance=DownstreamTaskPerformanceDataModel(task_name=None, scores=None), embedding_statistics=EmbeddingStatisticsDataModel(embedding_creation_duration=15.70132, avg_embedding_creation_duration=0.00926, embedding_size=0.01229, avg_embedding_size=1e-05))}},\n",
       " {'Table Retrieval Task': {'tabfact': TaskResultsDataModel(retrieval_performance=RetrievalPerformanceDataModel(k=25, accuracy=0.5949604820408483, precision=None, recall=None, retrieval_time=2301.45407, avg_retrieval_time=0.1801), downstream_task_performance=DownstreamTaskPerformanceDataModel(task_name=None, scores=None), embedding_statistics=EmbeddingStatisticsDataModel(embedding_creation_duration=14.91744, avg_embedding_creation_duration=0.0088, embedding_size=0.0, avg_embedding_size=0.0))}},\n",
       " {'Table Retrieval Task': {'tabfact': TaskResultsDataModel(retrieval_performance=RetrievalPerformanceDataModel(k=50, accuracy=0.7024806322873465, precision=None, recall=None, retrieval_time=2305.25449, avg_retrieval_time=0.18039), downstream_task_performance=DownstreamTaskPerformanceDataModel(task_name=None, scores=None), embedding_statistics=EmbeddingStatisticsDataModel(embedding_creation_duration=15.64626, avg_embedding_creation_duration=0.00923, embedding_size=0.0041, avg_embedding_size=0.0))}}]"
      ]
     },
     "execution_count": 7,
     "metadata": {},
     "output_type": "execute_result"
    }
   ],
   "source": [
    "llamaindex_retriever_results_tabfact_test"
   ]
  },
  {
   "cell_type": "code",
   "execution_count": null,
   "metadata": {},
   "outputs": [],
   "source": [
    "# spider\n",
    "llamaindex_retriever_results_spider_test = run_eval_for_top_ks(llamaindex_retriever, \"llamaindex\",top_ks, target_spider, \"spider\", \"test\")"
   ]
  },
  {
   "cell_type": "code",
   "execution_count": 9,
   "metadata": {},
   "outputs": [
    {
     "data": {
      "text/plain": [
       "[{'Table Retrieval Task': {'spider-test': TaskResultsDataModel(retrieval_performance=RetrievalPerformanceDataModel(k=1, accuracy=0.7414997671169073, precision=None, recall=None, retrieval_time=52.92199, avg_retrieval_time=0.02465), downstream_task_performance=DownstreamTaskPerformanceDataModel(task_name=None, scores=None), embedding_statistics=EmbeddingStatisticsDataModel(embedding_creation_duration=4.45271, avg_embedding_creation_duration=0.02474, embedding_size=1.67117, avg_embedding_size=0.00928))}},\n",
       " {'Table Retrieval Task': {'spider-test': TaskResultsDataModel(retrieval_performance=RetrievalPerformanceDataModel(k=5, accuracy=0.9436422915696321, precision=None, recall=None, retrieval_time=52.83807, avg_retrieval_time=0.02461), downstream_task_performance=DownstreamTaskPerformanceDataModel(task_name=None, scores=None), embedding_statistics=EmbeddingStatisticsDataModel(embedding_creation_duration=1.30946, avg_embedding_creation_duration=0.00727, embedding_size=0.0, avg_embedding_size=0.0))}},\n",
       " {'Table Retrieval Task': {'spider-test': TaskResultsDataModel(retrieval_performance=RetrievalPerformanceDataModel(k=10, accuracy=0.9711224965067536, precision=None, recall=None, retrieval_time=70.40954, avg_retrieval_time=0.03279), downstream_task_performance=DownstreamTaskPerformanceDataModel(task_name=None, scores=None), embedding_statistics=EmbeddingStatisticsDataModel(embedding_creation_duration=1.27806, avg_embedding_creation_duration=0.0071, embedding_size=0.0, avg_embedding_size=0.0))}},\n",
       " {'Table Retrieval Task': {'spider-test': TaskResultsDataModel(retrieval_performance=RetrievalPerformanceDataModel(k=25, accuracy=0.9888216115510013, precision=None, recall=None, retrieval_time=55.35131, avg_retrieval_time=0.02578), downstream_task_performance=DownstreamTaskPerformanceDataModel(task_name=None, scores=None), embedding_statistics=EmbeddingStatisticsDataModel(embedding_creation_duration=1.29194, avg_embedding_creation_duration=0.00718, embedding_size=0.0, avg_embedding_size=0.0))}},\n",
       " {'Table Retrieval Task': {'spider-test': TaskResultsDataModel(retrieval_performance=RetrievalPerformanceDataModel(k=50, accuracy=0.9967396367023754, precision=None, recall=None, retrieval_time=59.54303, avg_retrieval_time=0.02773), downstream_task_performance=DownstreamTaskPerformanceDataModel(task_name=None, scores=None), embedding_statistics=EmbeddingStatisticsDataModel(embedding_creation_duration=1.31658, avg_embedding_creation_duration=0.00731, embedding_size=0.0, avg_embedding_size=0.0))}}]"
      ]
     },
     "execution_count": 9,
     "metadata": {},
     "output_type": "execute_result"
    }
   ],
   "source": [
    "llamaindex_retriever_results_spider_test"
   ]
  },
  {
   "cell_type": "code",
   "execution_count": 10,
   "metadata": {},
   "outputs": [
    {
     "name": "stderr",
     "output_type": "stream",
     "text": [
      "Retrieving Tables for bird-validation...: 100%|██████████| 1534/1534 [05:53<00:00,  4.34it/s]\n"
     ]
    },
    {
     "name": "stdout",
     "output_type": "stream",
     "text": [
      "{'Table Retrieval Task': {'bird-validation': TaskResultsDataModel(retrieval_performance=RetrievalPerformanceDataModel(k=1, accuracy=0.9485006518904824, precision=None, recall=None, retrieval_time=21.72289, avg_retrieval_time=0.01416), downstream_task_performance=DownstreamTaskPerformanceDataModel(task_name=None, scores=None), embedding_statistics=EmbeddingStatisticsDataModel(embedding_creation_duration=6.92583, avg_embedding_creation_duration=0.09234, embedding_size=0.04915, avg_embedding_size=0.00066))}}\n"
     ]
    },
    {
     "name": "stderr",
     "output_type": "stream",
     "text": [
      "Retrieving Tables for bird-validation...: 100%|██████████| 1534/1534 [04:47<00:00,  5.34it/s]\n"
     ]
    },
    {
     "name": "stdout",
     "output_type": "stream",
     "text": [
      "{'Table Retrieval Task': {'bird-validation': TaskResultsDataModel(retrieval_performance=RetrievalPerformanceDataModel(k=5, accuracy=0.9915254237288136, precision=None, recall=None, retrieval_time=22.50523, avg_retrieval_time=0.01467), downstream_task_performance=DownstreamTaskPerformanceDataModel(task_name=None, scores=None), embedding_statistics=EmbeddingStatisticsDataModel(embedding_creation_duration=6.9244, avg_embedding_creation_duration=0.09233, embedding_size=0.0041, avg_embedding_size=5e-05))}}\n"
     ]
    },
    {
     "name": "stderr",
     "output_type": "stream",
     "text": [
      "Retrieving Tables for bird-validation...: 100%|██████████| 1534/1534 [05:28<00:00,  4.66it/s]\n"
     ]
    },
    {
     "name": "stdout",
     "output_type": "stream",
     "text": [
      "{'Table Retrieval Task': {'bird-validation': TaskResultsDataModel(retrieval_performance=RetrievalPerformanceDataModel(k=10, accuracy=0.9973924380704041, precision=None, recall=None, retrieval_time=36.25858, avg_retrieval_time=0.02364), downstream_task_performance=DownstreamTaskPerformanceDataModel(task_name=None, scores=None), embedding_statistics=EmbeddingStatisticsDataModel(embedding_creation_duration=6.80067, avg_embedding_creation_duration=0.09068, embedding_size=0.0041, avg_embedding_size=5e-05))}}\n"
     ]
    },
    {
     "name": "stderr",
     "output_type": "stream",
     "text": [
      "Retrieving Tables for bird-validation...: 100%|██████████| 1534/1534 [04:53<00:00,  5.23it/s]\n"
     ]
    },
    {
     "name": "stdout",
     "output_type": "stream",
     "text": [
      "{'Table Retrieval Task': {'bird-validation': TaskResultsDataModel(retrieval_performance=RetrievalPerformanceDataModel(k=25, accuracy=1.0, precision=None, recall=None, retrieval_time=24.2084, avg_retrieval_time=0.01578), downstream_task_performance=DownstreamTaskPerformanceDataModel(task_name=None, scores=None), embedding_statistics=EmbeddingStatisticsDataModel(embedding_creation_duration=6.74689, avg_embedding_creation_duration=0.08996, embedding_size=0.0, avg_embedding_size=0.0))}}\n"
     ]
    },
    {
     "name": "stderr",
     "output_type": "stream",
     "text": [
      "Retrieving Tables for bird-validation...: 100%|██████████| 1534/1534 [05:06<00:00,  5.00it/s]"
     ]
    },
    {
     "name": "stdout",
     "output_type": "stream",
     "text": [
      "{'Table Retrieval Task': {'bird-validation': TaskResultsDataModel(retrieval_performance=RetrievalPerformanceDataModel(k=50, accuracy=1.0, precision=None, recall=None, retrieval_time=26.21474, avg_retrieval_time=0.01709), downstream_task_performance=DownstreamTaskPerformanceDataModel(task_name=None, scores=None), embedding_statistics=EmbeddingStatisticsDataModel(embedding_creation_duration=6.81597, avg_embedding_creation_duration=0.09088, embedding_size=0.0, avg_embedding_size=0.0))}}\n"
     ]
    },
    {
     "name": "stderr",
     "output_type": "stream",
     "text": [
      "\n"
     ]
    }
   ],
   "source": [
    "# bird\n",
    "llamaindex_retriever_results_bird_validation = run_eval_for_top_ks(llamaindex_retriever, \"llamaindex\", top_ks, target_bird, \"bird\", \"validation\")"
   ]
  },
  {
   "cell_type": "code",
   "execution_count": 11,
   "metadata": {},
   "outputs": [
    {
     "data": {
      "text/plain": [
       "[{'Table Retrieval Task': {'bird-validation': TaskResultsDataModel(retrieval_performance=RetrievalPerformanceDataModel(k=1, accuracy=0.9485006518904824, precision=None, recall=None, retrieval_time=21.72289, avg_retrieval_time=0.01416), downstream_task_performance=DownstreamTaskPerformanceDataModel(task_name=None, scores=None), embedding_statistics=EmbeddingStatisticsDataModel(embedding_creation_duration=6.92583, avg_embedding_creation_duration=0.09234, embedding_size=0.04915, avg_embedding_size=0.00066))}},\n",
       " {'Table Retrieval Task': {'bird-validation': TaskResultsDataModel(retrieval_performance=RetrievalPerformanceDataModel(k=5, accuracy=0.9915254237288136, precision=None, recall=None, retrieval_time=22.50523, avg_retrieval_time=0.01467), downstream_task_performance=DownstreamTaskPerformanceDataModel(task_name=None, scores=None), embedding_statistics=EmbeddingStatisticsDataModel(embedding_creation_duration=6.9244, avg_embedding_creation_duration=0.09233, embedding_size=0.0041, avg_embedding_size=5e-05))}},\n",
       " {'Table Retrieval Task': {'bird-validation': TaskResultsDataModel(retrieval_performance=RetrievalPerformanceDataModel(k=10, accuracy=0.9973924380704041, precision=None, recall=None, retrieval_time=36.25858, avg_retrieval_time=0.02364), downstream_task_performance=DownstreamTaskPerformanceDataModel(task_name=None, scores=None), embedding_statistics=EmbeddingStatisticsDataModel(embedding_creation_duration=6.80067, avg_embedding_creation_duration=0.09068, embedding_size=0.0041, avg_embedding_size=5e-05))}},\n",
       " {'Table Retrieval Task': {'bird-validation': TaskResultsDataModel(retrieval_performance=RetrievalPerformanceDataModel(k=25, accuracy=1.0, precision=None, recall=None, retrieval_time=24.2084, avg_retrieval_time=0.01578), downstream_task_performance=DownstreamTaskPerformanceDataModel(task_name=None, scores=None), embedding_statistics=EmbeddingStatisticsDataModel(embedding_creation_duration=6.74689, avg_embedding_creation_duration=0.08996, embedding_size=0.0, avg_embedding_size=0.0))}},\n",
       " {'Table Retrieval Task': {'bird-validation': TaskResultsDataModel(retrieval_performance=RetrievalPerformanceDataModel(k=50, accuracy=1.0, precision=None, recall=None, retrieval_time=26.21474, avg_retrieval_time=0.01709), downstream_task_performance=DownstreamTaskPerformanceDataModel(task_name=None, scores=None), embedding_statistics=EmbeddingStatisticsDataModel(embedding_creation_duration=6.81597, avg_embedding_creation_duration=0.09088, embedding_size=0.0, avg_embedding_size=0.0))}}]"
      ]
     },
     "execution_count": 11,
     "metadata": {},
     "output_type": "execute_result"
    }
   ],
   "source": [
    "llamaindex_retriever_results_bird_validation"
   ]
  },
  {
   "cell_type": "markdown",
   "metadata": {},
   "source": [
    "# OTTQA bm25 with Title (Done)"
   ]
  },
  {
   "cell_type": "code",
   "execution_count": 2,
   "metadata": {},
   "outputs": [],
   "source": [
    "from target_benchmark.retrievers import OTTQARetriever\n",
    "bm25_with_title = OTTQARetriever(encoding=\"bm25\", withtitle=True)"
   ]
  },
  {
   "cell_type": "code",
   "execution_count": 3,
   "metadata": {},
   "outputs": [
    {
     "name": "stderr",
     "output_type": "stream",
     "text": [
      "1it [00:00, 31.07it/s]00:00<?, ?it/s]\n",
      "100%|██████████| 1/1 [00:00<00:00, 27.86it/s]\n",
      "Retrieving Tables for fetaqa...: 100%|██████████| 2003/2003 [00:01<00:00, 1572.25it/s]"
     ]
    },
    {
     "name": "stdout",
     "output_type": "stream",
     "text": [
      "{'Table Retrieval Task': {'fetaqa': TaskResultsDataModel(retrieval_performance=RetrievalPerformanceDataModel(k=1, accuracy=0.02895656515227159, precision=None, recall=None, retrieval_duration_process=1.24768, avg_retrieval_duration_process=0.00062, retrieval_duration_wall_clock=1.24705, avg_retrieval_duration_wall_clock=0.00062), downstream_task_performance=DownstreamTaskPerformanceDataModel(task_name=None, scores=None), embedding_statistics=EmbeddingStatisticsDataModel(embedding_creation_duration_process=4.64923, avg_embedding_creation_duration_process=0.00232, embedding_creation_duration_wall_clock=5.8622, avg_embedding_creation_duration_wall_clock=0.00293, embedding_size=204.68122, avg_embedding_size=0.10219))}}\n"
     ]
    },
    {
     "name": "stderr",
     "output_type": "stream",
     "text": [
      "\n",
      "1it [00:00, 54.36it/s]00:00<?, ?it/s]\n",
      "100%|██████████| 1/1 [00:00<00:00, 45.35it/s]\n",
      "Retrieving Tables for fetaqa...: 100%|██████████| 2003/2003 [00:01<00:00, 1445.64it/s]"
     ]
    },
    {
     "name": "stdout",
     "output_type": "stream",
     "text": [
      "{'Table Retrieval Task': {'fetaqa': TaskResultsDataModel(retrieval_performance=RetrievalPerformanceDataModel(k=5, accuracy=0.06090863704443335, precision=None, recall=None, retrieval_duration_process=1.35806, avg_retrieval_duration_process=0.00068, retrieval_duration_wall_clock=1.35755, avg_retrieval_duration_wall_clock=0.00068), downstream_task_performance=DownstreamTaskPerformanceDataModel(task_name=None, scores=None), embedding_statistics=EmbeddingStatisticsDataModel(embedding_creation_duration_process=4.36401, avg_embedding_creation_duration_process=0.00218, embedding_creation_duration_wall_clock=4.96417, avg_embedding_creation_duration_wall_clock=0.00248, embedding_size=0.0041, avg_embedding_size=0.0))}}\n"
     ]
    },
    {
     "name": "stderr",
     "output_type": "stream",
     "text": [
      "\n",
      "1it [00:00, 56.25it/s]00:00<?, ?it/s]\n",
      "100%|██████████| 1/1 [00:00<00:00, 46.07it/s]\n",
      "Retrieving Tables for fetaqa...: 100%|██████████| 2003/2003 [00:01<00:00, 1355.14it/s]\n"
     ]
    },
    {
     "name": "stdout",
     "output_type": "stream",
     "text": [
      "{'Table Retrieval Task': {'fetaqa': TaskResultsDataModel(retrieval_performance=RetrievalPerformanceDataModel(k=10, accuracy=0.08237643534697953, precision=None, recall=None, retrieval_duration_process=1.44878, avg_retrieval_duration_process=0.00072, retrieval_duration_wall_clock=1.44833, avg_retrieval_duration_wall_clock=0.00072), downstream_task_performance=DownstreamTaskPerformanceDataModel(task_name=None, scores=None), embedding_statistics=EmbeddingStatisticsDataModel(embedding_creation_duration_process=4.23363, avg_embedding_creation_duration_process=0.00211, embedding_creation_duration_wall_clock=4.82976, avg_embedding_creation_duration_wall_clock=0.00241, embedding_size=0.0041, avg_embedding_size=0.0))}}\n"
     ]
    },
    {
     "name": "stderr",
     "output_type": "stream",
     "text": [
      "1it [00:00, 70.96it/s]00:00<?, ?it/s]\n",
      "100%|██████████| 1/1 [00:00<00:00, 57.02it/s]\n",
      "Retrieving Tables for fetaqa...: 100%|██████████| 2003/2003 [00:01<00:00, 1220.30it/s]\n"
     ]
    },
    {
     "name": "stdout",
     "output_type": "stream",
     "text": [
      "{'Table Retrieval Task': {'fetaqa': TaskResultsDataModel(retrieval_performance=RetrievalPerformanceDataModel(k=25, accuracy=0.13030454318522217, precision=None, recall=None, retrieval_duration_process=1.60962, avg_retrieval_duration_process=0.0008, retrieval_duration_wall_clock=1.60916, avg_retrieval_duration_wall_clock=0.0008), downstream_task_performance=DownstreamTaskPerformanceDataModel(task_name=None, scores=None), embedding_statistics=EmbeddingStatisticsDataModel(embedding_creation_duration_process=4.30518, avg_embedding_creation_duration_process=0.00215, embedding_creation_duration_wall_clock=4.71814, avg_embedding_creation_duration_wall_clock=0.00236, embedding_size=0.0041, avg_embedding_size=0.0))}}\n"
     ]
    },
    {
     "name": "stderr",
     "output_type": "stream",
     "text": [
      "1it [00:00, 64.44it/s]00:00<?, ?it/s]\n",
      "100%|██████████| 1/1 [00:00<00:00, 52.28it/s]\n",
      "Retrieving Tables for fetaqa...: 100%|██████████| 2003/2003 [00:01<00:00, 1116.46it/s]"
     ]
    },
    {
     "name": "stdout",
     "output_type": "stream",
     "text": [
      "{'Table Retrieval Task': {'fetaqa': TaskResultsDataModel(retrieval_performance=RetrievalPerformanceDataModel(k=50, accuracy=0.18172740888667, precision=None, recall=None, retrieval_duration_process=1.75935, avg_retrieval_duration_process=0.00088, retrieval_duration_wall_clock=1.75884, avg_retrieval_duration_wall_clock=0.00088), downstream_task_performance=DownstreamTaskPerformanceDataModel(task_name=None, scores=None), embedding_statistics=EmbeddingStatisticsDataModel(embedding_creation_duration_process=4.26175, avg_embedding_creation_duration_process=0.00213, embedding_creation_duration_wall_clock=4.85769, avg_embedding_creation_duration_wall_clock=0.00243, embedding_size=0.0041, avg_embedding_size=0.0))}}\n"
     ]
    },
    {
     "name": "stderr",
     "output_type": "stream",
     "text": [
      "\n"
     ]
    }
   ],
   "source": [
    "# fetaqa\n",
    "bm25_with_title_results_fetaqa_test = run_eval_for_top_ks(bm25_with_title, \"bm25_with_title\",top_ks, target_fetaqa, \"fetaqa\", \"test\")"
   ]
  },
  {
   "cell_type": "code",
   "execution_count": 4,
   "metadata": {},
   "outputs": [
    {
     "data": {
      "text/plain": [
       "[{'Table Retrieval Task': {'fetaqa': TaskResultsDataModel(retrieval_performance=RetrievalPerformanceDataModel(k=1, accuracy=0.02895656515227159, precision=None, recall=None, retrieval_duration_process=1.24768, avg_retrieval_duration_process=0.00062, retrieval_duration_wall_clock=1.24705, avg_retrieval_duration_wall_clock=0.00062), downstream_task_performance=DownstreamTaskPerformanceDataModel(task_name=None, scores=None), embedding_statistics=EmbeddingStatisticsDataModel(embedding_creation_duration_process=4.64923, avg_embedding_creation_duration_process=0.00232, embedding_creation_duration_wall_clock=5.8622, avg_embedding_creation_duration_wall_clock=0.00293, embedding_size=204.68122, avg_embedding_size=0.10219))}},\n",
       " {'Table Retrieval Task': {'fetaqa': TaskResultsDataModel(retrieval_performance=RetrievalPerformanceDataModel(k=5, accuracy=0.06090863704443335, precision=None, recall=None, retrieval_duration_process=1.35806, avg_retrieval_duration_process=0.00068, retrieval_duration_wall_clock=1.35755, avg_retrieval_duration_wall_clock=0.00068), downstream_task_performance=DownstreamTaskPerformanceDataModel(task_name=None, scores=None), embedding_statistics=EmbeddingStatisticsDataModel(embedding_creation_duration_process=4.36401, avg_embedding_creation_duration_process=0.00218, embedding_creation_duration_wall_clock=4.96417, avg_embedding_creation_duration_wall_clock=0.00248, embedding_size=0.0041, avg_embedding_size=0.0))}},\n",
       " {'Table Retrieval Task': {'fetaqa': TaskResultsDataModel(retrieval_performance=RetrievalPerformanceDataModel(k=10, accuracy=0.08237643534697953, precision=None, recall=None, retrieval_duration_process=1.44878, avg_retrieval_duration_process=0.00072, retrieval_duration_wall_clock=1.44833, avg_retrieval_duration_wall_clock=0.00072), downstream_task_performance=DownstreamTaskPerformanceDataModel(task_name=None, scores=None), embedding_statistics=EmbeddingStatisticsDataModel(embedding_creation_duration_process=4.23363, avg_embedding_creation_duration_process=0.00211, embedding_creation_duration_wall_clock=4.82976, avg_embedding_creation_duration_wall_clock=0.00241, embedding_size=0.0041, avg_embedding_size=0.0))}},\n",
       " {'Table Retrieval Task': {'fetaqa': TaskResultsDataModel(retrieval_performance=RetrievalPerformanceDataModel(k=25, accuracy=0.13030454318522217, precision=None, recall=None, retrieval_duration_process=1.60962, avg_retrieval_duration_process=0.0008, retrieval_duration_wall_clock=1.60916, avg_retrieval_duration_wall_clock=0.0008), downstream_task_performance=DownstreamTaskPerformanceDataModel(task_name=None, scores=None), embedding_statistics=EmbeddingStatisticsDataModel(embedding_creation_duration_process=4.30518, avg_embedding_creation_duration_process=0.00215, embedding_creation_duration_wall_clock=4.71814, avg_embedding_creation_duration_wall_clock=0.00236, embedding_size=0.0041, avg_embedding_size=0.0))}},\n",
       " {'Table Retrieval Task': {'fetaqa': TaskResultsDataModel(retrieval_performance=RetrievalPerformanceDataModel(k=50, accuracy=0.18172740888667, precision=None, recall=None, retrieval_duration_process=1.75935, avg_retrieval_duration_process=0.00088, retrieval_duration_wall_clock=1.75884, avg_retrieval_duration_wall_clock=0.00088), downstream_task_performance=DownstreamTaskPerformanceDataModel(task_name=None, scores=None), embedding_statistics=EmbeddingStatisticsDataModel(embedding_creation_duration_process=4.26175, avg_embedding_creation_duration_process=0.00213, embedding_creation_duration_wall_clock=4.85769, avg_embedding_creation_duration_wall_clock=0.00243, embedding_size=0.0041, avg_embedding_size=0.0))}}]"
      ]
     },
     "execution_count": 4,
     "metadata": {},
     "output_type": "execute_result"
    }
   ],
   "source": [
    "bm25_with_title_results_fetaqa_test"
   ]
  },
  {
   "cell_type": "code",
   "execution_count": 5,
   "metadata": {},
   "outputs": [
    {
     "name": "stderr",
     "output_type": "stream",
     "text": [
      "1it [00:00, 165.20it/s]0:00<?, ?it/s]\n",
      "100%|██████████| 1/1 [00:00<00:00, 102.35it/s]\n",
      "Retrieving Tables for ottqa...: 100%|██████████| 2214/2214 [00:01<00:00, 1270.15it/s]"
     ]
    },
    {
     "name": "stdout",
     "output_type": "stream",
     "text": [
      "{'Table Retrieval Task': {'ottqa': TaskResultsDataModel(retrieval_performance=RetrievalPerformanceDataModel(k=1, accuracy=0.7389340560072267, precision=None, recall=None, retrieval_duration_process=1.71284, avg_retrieval_duration_process=0.00077, retrieval_duration_wall_clock=1.71232, avg_retrieval_duration_wall_clock=0.00077), downstream_task_performance=DownstreamTaskPerformanceDataModel(task_name=None, scores=None), embedding_statistics=EmbeddingStatisticsDataModel(embedding_creation_duration_process=3.55117, avg_embedding_creation_duration_process=0.0045, embedding_creation_duration_wall_clock=3.7153, avg_embedding_creation_duration_wall_clock=0.00471, embedding_size=202.15398, avg_embedding_size=0.25622))}}\n"
     ]
    },
    {
     "name": "stderr",
     "output_type": "stream",
     "text": [
      "\n",
      "1it [00:00, 148.84it/s]0:00<?, ?it/s]\n",
      "100%|██████████| 1/1 [00:00<00:00, 100.18it/s]\n",
      "Retrieving Tables for ottqa...: 100%|██████████| 2214/2214 [00:02<00:00, 954.31it/s] "
     ]
    },
    {
     "name": "stdout",
     "output_type": "stream",
     "text": [
      "{'Table Retrieval Task': {'ottqa': TaskResultsDataModel(retrieval_performance=RetrievalPerformanceDataModel(k=5, accuracy=0.9155374887082204, precision=None, recall=None, retrieval_duration_process=2.28166, avg_retrieval_duration_process=0.00103, retrieval_duration_wall_clock=2.28588, avg_retrieval_duration_wall_clock=0.00103), downstream_task_performance=DownstreamTaskPerformanceDataModel(task_name=None, scores=None), embedding_statistics=EmbeddingStatisticsDataModel(embedding_creation_duration_process=3.48419, avg_embedding_creation_duration_process=0.00442, embedding_creation_duration_wall_clock=4.61569, avg_embedding_creation_duration_wall_clock=0.00585, embedding_size=0.0041, avg_embedding_size=1e-05))}}\n"
     ]
    },
    {
     "name": "stderr",
     "output_type": "stream",
     "text": [
      "\n",
      "1it [00:00, 375.13it/s]0:00<?, ?it/s]\n",
      "100%|██████████| 1/1 [00:00<00:00, 54.62it/s]\n",
      "Retrieving Tables for ottqa...: 100%|██████████| 2214/2214 [00:02<00:00, 1078.27it/s]\n"
     ]
    },
    {
     "name": "stdout",
     "output_type": "stream",
     "text": [
      "{'Table Retrieval Task': {'ottqa': TaskResultsDataModel(retrieval_performance=RetrievalPerformanceDataModel(k=10, accuracy=0.9552845528455285, precision=None, recall=None, retrieval_duration_process=2.01511, avg_retrieval_duration_process=0.00091, retrieval_duration_wall_clock=2.01858, avg_retrieval_duration_wall_clock=0.00091), downstream_task_performance=DownstreamTaskPerformanceDataModel(task_name=None, scores=None), embedding_statistics=EmbeddingStatisticsDataModel(embedding_creation_duration_process=3.50982, avg_embedding_creation_duration_process=0.00445, embedding_creation_duration_wall_clock=4.06686, avg_embedding_creation_duration_wall_clock=0.00515, embedding_size=0.0041, avg_embedding_size=1e-05))}}\n"
     ]
    },
    {
     "name": "stderr",
     "output_type": "stream",
     "text": [
      "1it [00:00, 156.44it/s]0:00<?, ?it/s]\n",
      "100%|██████████| 1/1 [00:00<00:00, 81.01it/s]\n",
      "Retrieving Tables for ottqa...: 100%|██████████| 2214/2214 [00:02<00:00, 932.22it/s]"
     ]
    },
    {
     "name": "stdout",
     "output_type": "stream",
     "text": [
      "{'Table Retrieval Task': {'ottqa': TaskResultsDataModel(retrieval_performance=RetrievalPerformanceDataModel(k=25, accuracy=0.971996386630533, precision=None, recall=None, retrieval_duration_process=2.32577, avg_retrieval_duration_process=0.00105, retrieval_duration_wall_clock=2.32456, avg_retrieval_duration_wall_clock=0.00105), downstream_task_performance=DownstreamTaskPerformanceDataModel(task_name=None, scores=None), embedding_statistics=EmbeddingStatisticsDataModel(embedding_creation_duration_process=3.53255, avg_embedding_creation_duration_process=0.00448, embedding_creation_duration_wall_clock=4.08576, avg_embedding_creation_duration_wall_clock=0.00518, embedding_size=0.0041, avg_embedding_size=1e-05))}}\n"
     ]
    },
    {
     "name": "stderr",
     "output_type": "stream",
     "text": [
      "\n",
      "1it [00:00, 112.83it/s]0:00<?, ?it/s]\n",
      "100%|██████████| 1/1 [00:00<00:00, 78.54it/s]\n",
      "Retrieving Tables for ottqa...: 100%|██████████| 2214/2214 [00:02<00:00, 777.94it/s]"
     ]
    },
    {
     "name": "stdout",
     "output_type": "stream",
     "text": [
      "{'Table Retrieval Task': {'ottqa': TaskResultsDataModel(retrieval_performance=RetrievalPerformanceDataModel(k=50, accuracy=0.9778681120144534, precision=None, recall=None, retrieval_duration_process=2.78671, avg_retrieval_duration_process=0.00126, retrieval_duration_wall_clock=2.78561, avg_retrieval_duration_wall_clock=0.00126), downstream_task_performance=DownstreamTaskPerformanceDataModel(task_name=None, scores=None), embedding_statistics=EmbeddingStatisticsDataModel(embedding_creation_duration_process=3.49284, avg_embedding_creation_duration_process=0.00443, embedding_creation_duration_wall_clock=4.04801, avg_embedding_creation_duration_wall_clock=0.00513, embedding_size=0.0041, avg_embedding_size=1e-05))}}\n"
     ]
    },
    {
     "name": "stderr",
     "output_type": "stream",
     "text": [
      "\n"
     ]
    }
   ],
   "source": [
    "# ottqa\n",
    "bm25_with_title_results_ottqa_val = run_eval_for_top_ks(bm25_with_title, \"bm25_with_title\",top_ks, target_ottqa, \"ottqa\", \"validation\")"
   ]
  },
  {
   "cell_type": "code",
   "execution_count": 6,
   "metadata": {},
   "outputs": [
    {
     "data": {
      "text/plain": [
       "[{'Table Retrieval Task': {'ottqa': TaskResultsDataModel(retrieval_performance=RetrievalPerformanceDataModel(k=1, accuracy=0.7389340560072267, precision=None, recall=None, retrieval_duration_process=1.71284, avg_retrieval_duration_process=0.00077, retrieval_duration_wall_clock=1.71232, avg_retrieval_duration_wall_clock=0.00077), downstream_task_performance=DownstreamTaskPerformanceDataModel(task_name=None, scores=None), embedding_statistics=EmbeddingStatisticsDataModel(embedding_creation_duration_process=3.55117, avg_embedding_creation_duration_process=0.0045, embedding_creation_duration_wall_clock=3.7153, avg_embedding_creation_duration_wall_clock=0.00471, embedding_size=202.15398, avg_embedding_size=0.25622))}},\n",
       " {'Table Retrieval Task': {'ottqa': TaskResultsDataModel(retrieval_performance=RetrievalPerformanceDataModel(k=5, accuracy=0.9155374887082204, precision=None, recall=None, retrieval_duration_process=2.28166, avg_retrieval_duration_process=0.00103, retrieval_duration_wall_clock=2.28588, avg_retrieval_duration_wall_clock=0.00103), downstream_task_performance=DownstreamTaskPerformanceDataModel(task_name=None, scores=None), embedding_statistics=EmbeddingStatisticsDataModel(embedding_creation_duration_process=3.48419, avg_embedding_creation_duration_process=0.00442, embedding_creation_duration_wall_clock=4.61569, avg_embedding_creation_duration_wall_clock=0.00585, embedding_size=0.0041, avg_embedding_size=1e-05))}},\n",
       " {'Table Retrieval Task': {'ottqa': TaskResultsDataModel(retrieval_performance=RetrievalPerformanceDataModel(k=10, accuracy=0.9552845528455285, precision=None, recall=None, retrieval_duration_process=2.01511, avg_retrieval_duration_process=0.00091, retrieval_duration_wall_clock=2.01858, avg_retrieval_duration_wall_clock=0.00091), downstream_task_performance=DownstreamTaskPerformanceDataModel(task_name=None, scores=None), embedding_statistics=EmbeddingStatisticsDataModel(embedding_creation_duration_process=3.50982, avg_embedding_creation_duration_process=0.00445, embedding_creation_duration_wall_clock=4.06686, avg_embedding_creation_duration_wall_clock=0.00515, embedding_size=0.0041, avg_embedding_size=1e-05))}},\n",
       " {'Table Retrieval Task': {'ottqa': TaskResultsDataModel(retrieval_performance=RetrievalPerformanceDataModel(k=25, accuracy=0.971996386630533, precision=None, recall=None, retrieval_duration_process=2.32577, avg_retrieval_duration_process=0.00105, retrieval_duration_wall_clock=2.32456, avg_retrieval_duration_wall_clock=0.00105), downstream_task_performance=DownstreamTaskPerformanceDataModel(task_name=None, scores=None), embedding_statistics=EmbeddingStatisticsDataModel(embedding_creation_duration_process=3.53255, avg_embedding_creation_duration_process=0.00448, embedding_creation_duration_wall_clock=4.08576, avg_embedding_creation_duration_wall_clock=0.00518, embedding_size=0.0041, avg_embedding_size=1e-05))}},\n",
       " {'Table Retrieval Task': {'ottqa': TaskResultsDataModel(retrieval_performance=RetrievalPerformanceDataModel(k=50, accuracy=0.9778681120144534, precision=None, recall=None, retrieval_duration_process=2.78671, avg_retrieval_duration_process=0.00126, retrieval_duration_wall_clock=2.78561, avg_retrieval_duration_wall_clock=0.00126), downstream_task_performance=DownstreamTaskPerformanceDataModel(task_name=None, scores=None), embedding_statistics=EmbeddingStatisticsDataModel(embedding_creation_duration_process=3.49284, avg_embedding_creation_duration_process=0.00443, embedding_creation_duration_wall_clock=4.04801, avg_embedding_creation_duration_wall_clock=0.00513, embedding_size=0.0041, avg_embedding_size=1e-05))}}]"
      ]
     },
     "execution_count": 6,
     "metadata": {},
     "output_type": "execute_result"
    }
   ],
   "source": [
    "bm25_with_title_results_ottqa_val"
   ]
  },
  {
   "cell_type": "code",
   "execution_count": 7,
   "metadata": {},
   "outputs": [
    {
     "name": "stderr",
     "output_type": "stream",
     "text": [
      "1it [00:00, 71.75it/s]00:00<?, ?it/s]\n",
      "100%|██████████| 1/1 [00:00<00:00, 56.51it/s]\n",
      "Retrieving Tables for tabfact...: 100%|██████████| 12779/12779 [00:08<00:00, 1509.22it/s]"
     ]
    },
    {
     "name": "stdout",
     "output_type": "stream",
     "text": [
      "{'Table Retrieval Task': {'tabfact': TaskResultsDataModel(retrieval_performance=RetrievalPerformanceDataModel(k=1, accuracy=0.14719461616714924, precision=None, recall=None, retrieval_duration_process=8.30324, avg_retrieval_duration_process=0.00065, retrieval_duration_wall_clock=8.29969, avg_retrieval_duration_wall_clock=0.00065), downstream_task_performance=DownstreamTaskPerformanceDataModel(task_name=None, scores=None), embedding_statistics=EmbeddingStatisticsDataModel(embedding_creation_duration_process=4.31374, avg_embedding_creation_duration_process=0.00254, embedding_creation_duration_wall_clock=4.41236, avg_embedding_creation_duration_wall_clock=0.0026, embedding_size=204.36582, avg_embedding_size=0.12057))}}\n"
     ]
    },
    {
     "name": "stderr",
     "output_type": "stream",
     "text": [
      "\n",
      "1it [00:00, 85.95it/s]00:00<?, ?it/s]\n",
      "100%|██████████| 1/1 [00:00<00:00, 65.72it/s]\n",
      "Retrieving Tables for tabfact...: 100%|██████████| 12779/12779 [00:09<00:00, 1393.60it/s]"
     ]
    },
    {
     "name": "stdout",
     "output_type": "stream",
     "text": [
      "{'Table Retrieval Task': {'tabfact': TaskResultsDataModel(retrieval_performance=RetrievalPerformanceDataModel(k=5, accuracy=0.27341732529931917, precision=None, recall=None, retrieval_duration_process=8.99817, avg_retrieval_duration_process=0.0007, retrieval_duration_wall_clock=8.9945, avg_retrieval_duration_wall_clock=0.0007), downstream_task_performance=DownstreamTaskPerformanceDataModel(task_name=None, scores=None), embedding_statistics=EmbeddingStatisticsDataModel(embedding_creation_duration_process=4.10998, avg_embedding_creation_duration_process=0.00242, embedding_creation_duration_wall_clock=4.45014, avg_embedding_creation_duration_wall_clock=0.00263, embedding_size=0.0041, avg_embedding_size=0.0))}}\n"
     ]
    },
    {
     "name": "stderr",
     "output_type": "stream",
     "text": [
      "\n",
      "1it [00:00, 90.26it/s]00:00<?, ?it/s]\n",
      "100%|██████████| 1/1 [00:00<00:00, 68.82it/s]\n",
      "Retrieving Tables for tabfact...: 100%|██████████| 12779/12779 [00:10<00:00, 1233.12it/s]"
     ]
    },
    {
     "name": "stdout",
     "output_type": "stream",
     "text": [
      "{'Table Retrieval Task': {'tabfact': TaskResultsDataModel(retrieval_performance=RetrievalPerformanceDataModel(k=10, accuracy=0.33813287424681115, precision=None, recall=None, retrieval_duration_process=10.16404, avg_retrieval_duration_process=0.0008, retrieval_duration_wall_clock=10.16194, avg_retrieval_duration_wall_clock=0.0008), downstream_task_performance=DownstreamTaskPerformanceDataModel(task_name=None, scores=None), embedding_statistics=EmbeddingStatisticsDataModel(embedding_creation_duration_process=4.03729, avg_embedding_creation_duration_process=0.00238, embedding_creation_duration_wall_clock=5.12373, avg_embedding_creation_duration_wall_clock=0.00302, embedding_size=0.0041, avg_embedding_size=0.0))}}\n"
     ]
    },
    {
     "name": "stderr",
     "output_type": "stream",
     "text": [
      "\n",
      "1it [00:00, 75.20it/s]00:00<?, ?it/s]\n",
      "100%|██████████| 1/1 [00:00<00:00, 59.29it/s]\n",
      "Retrieving Tables for tabfact...: 100%|██████████| 12779/12779 [00:11<00:00, 1102.39it/s]\n"
     ]
    },
    {
     "name": "stdout",
     "output_type": "stream",
     "text": [
      "{'Table Retrieval Task': {'tabfact': TaskResultsDataModel(retrieval_performance=RetrievalPerformanceDataModel(k=25, accuracy=0.4433836763440019, precision=None, recall=None, retrieval_duration_process=11.3779, avg_retrieval_duration_process=0.00089, retrieval_duration_wall_clock=11.37444, avg_retrieval_duration_wall_clock=0.00089), downstream_task_performance=DownstreamTaskPerformanceDataModel(task_name=None, scores=None), embedding_statistics=EmbeddingStatisticsDataModel(embedding_creation_duration_process=4.10952, avg_embedding_creation_duration_process=0.00242, embedding_creation_duration_wall_clock=4.61879, avg_embedding_creation_duration_wall_clock=0.00272, embedding_size=0.0, avg_embedding_size=0.0))}}\n"
     ]
    },
    {
     "name": "stderr",
     "output_type": "stream",
     "text": [
      "1it [00:00, 87.07it/s]00:00<?, ?it/s]\n",
      "100%|██████████| 1/1 [00:00<00:00, 65.66it/s]\n",
      "Retrieving Tables for tabfact...: 100%|██████████| 12779/12779 [00:15<00:00, 848.52it/s]"
     ]
    },
    {
     "name": "stdout",
     "output_type": "stream",
     "text": [
      "{'Table Retrieval Task': {'tabfact': TaskResultsDataModel(retrieval_performance=RetrievalPerformanceDataModel(k=50, accuracy=0.536818217387902, precision=None, recall=None, retrieval_duration_process=14.75262, avg_retrieval_duration_process=0.00115, retrieval_duration_wall_clock=14.74554, avg_retrieval_duration_wall_clock=0.00115), downstream_task_performance=DownstreamTaskPerformanceDataModel(task_name=None, scores=None), embedding_statistics=EmbeddingStatisticsDataModel(embedding_creation_duration_process=4.07642, avg_embedding_creation_duration_process=0.0024, embedding_creation_duration_wall_clock=4.57249, avg_embedding_creation_duration_wall_clock=0.0027, embedding_size=0.0041, avg_embedding_size=0.0))}}\n"
     ]
    },
    {
     "name": "stderr",
     "output_type": "stream",
     "text": [
      "\n"
     ]
    }
   ],
   "source": [
    "# tabfact\n",
    "bm25_with_title_results_tabfact_test = run_eval_for_top_ks(bm25_with_title, \"bm25_with_title\",top_ks, target_tabfact, \"tabfact\", \"test\")"
   ]
  },
  {
   "cell_type": "code",
   "execution_count": 8,
   "metadata": {},
   "outputs": [
    {
     "data": {
      "text/plain": [
       "[{'Table Retrieval Task': {'tabfact': TaskResultsDataModel(retrieval_performance=RetrievalPerformanceDataModel(k=1, accuracy=0.14719461616714924, precision=None, recall=None, retrieval_duration_process=8.30324, avg_retrieval_duration_process=0.00065, retrieval_duration_wall_clock=8.29969, avg_retrieval_duration_wall_clock=0.00065), downstream_task_performance=DownstreamTaskPerformanceDataModel(task_name=None, scores=None), embedding_statistics=EmbeddingStatisticsDataModel(embedding_creation_duration_process=4.31374, avg_embedding_creation_duration_process=0.00254, embedding_creation_duration_wall_clock=4.41236, avg_embedding_creation_duration_wall_clock=0.0026, embedding_size=204.36582, avg_embedding_size=0.12057))}},\n",
       " {'Table Retrieval Task': {'tabfact': TaskResultsDataModel(retrieval_performance=RetrievalPerformanceDataModel(k=5, accuracy=0.27341732529931917, precision=None, recall=None, retrieval_duration_process=8.99817, avg_retrieval_duration_process=0.0007, retrieval_duration_wall_clock=8.9945, avg_retrieval_duration_wall_clock=0.0007), downstream_task_performance=DownstreamTaskPerformanceDataModel(task_name=None, scores=None), embedding_statistics=EmbeddingStatisticsDataModel(embedding_creation_duration_process=4.10998, avg_embedding_creation_duration_process=0.00242, embedding_creation_duration_wall_clock=4.45014, avg_embedding_creation_duration_wall_clock=0.00263, embedding_size=0.0041, avg_embedding_size=0.0))}},\n",
       " {'Table Retrieval Task': {'tabfact': TaskResultsDataModel(retrieval_performance=RetrievalPerformanceDataModel(k=10, accuracy=0.33813287424681115, precision=None, recall=None, retrieval_duration_process=10.16404, avg_retrieval_duration_process=0.0008, retrieval_duration_wall_clock=10.16194, avg_retrieval_duration_wall_clock=0.0008), downstream_task_performance=DownstreamTaskPerformanceDataModel(task_name=None, scores=None), embedding_statistics=EmbeddingStatisticsDataModel(embedding_creation_duration_process=4.03729, avg_embedding_creation_duration_process=0.00238, embedding_creation_duration_wall_clock=5.12373, avg_embedding_creation_duration_wall_clock=0.00302, embedding_size=0.0041, avg_embedding_size=0.0))}},\n",
       " {'Table Retrieval Task': {'tabfact': TaskResultsDataModel(retrieval_performance=RetrievalPerformanceDataModel(k=25, accuracy=0.4433836763440019, precision=None, recall=None, retrieval_duration_process=11.3779, avg_retrieval_duration_process=0.00089, retrieval_duration_wall_clock=11.37444, avg_retrieval_duration_wall_clock=0.00089), downstream_task_performance=DownstreamTaskPerformanceDataModel(task_name=None, scores=None), embedding_statistics=EmbeddingStatisticsDataModel(embedding_creation_duration_process=4.10952, avg_embedding_creation_duration_process=0.00242, embedding_creation_duration_wall_clock=4.61879, avg_embedding_creation_duration_wall_clock=0.00272, embedding_size=0.0, avg_embedding_size=0.0))}},\n",
       " {'Table Retrieval Task': {'tabfact': TaskResultsDataModel(retrieval_performance=RetrievalPerformanceDataModel(k=50, accuracy=0.536818217387902, precision=None, recall=None, retrieval_duration_process=14.75262, avg_retrieval_duration_process=0.00115, retrieval_duration_wall_clock=14.74554, avg_retrieval_duration_wall_clock=0.00115), downstream_task_performance=DownstreamTaskPerformanceDataModel(task_name=None, scores=None), embedding_statistics=EmbeddingStatisticsDataModel(embedding_creation_duration_process=4.07642, avg_embedding_creation_duration_process=0.0024, embedding_creation_duration_wall_clock=4.57249, avg_embedding_creation_duration_wall_clock=0.0027, embedding_size=0.0041, avg_embedding_size=0.0))}}]"
      ]
     },
     "execution_count": 8,
     "metadata": {},
     "output_type": "execute_result"
    }
   ],
   "source": [
    "bm25_with_title_results_tabfact_test"
   ]
  },
  {
   "cell_type": "code",
   "execution_count": 9,
   "metadata": {},
   "outputs": [
    {
     "data": {
      "application/vnd.jupyter.widget-view+json": {
       "model_id": "eaf83dcc449e410ea51b5fe1efc6d477",
       "version_major": 2,
       "version_minor": 0
      },
      "text/plain": [
       "Fetching 132 files:   0%|          | 0/132 [00:00<?, ?it/s]"
      ]
     },
     "metadata": {},
     "output_type": "display_data"
    },
    {
     "name": "stderr",
     "output_type": "stream",
     "text": [
      "1it [00:00, 572.44it/s]0:00<?, ?it/s]\n",
      "100%|██████████| 1/1 [00:00<00:00, 169.36it/s]\n",
      "Retrieving Tables for spider-test...: 100%|██████████| 2147/2147 [00:01<00:00, 1134.14it/s]\n"
     ]
    },
    {
     "name": "stdout",
     "output_type": "stream",
     "text": [
      "{'Table Retrieval Task': {'spider-test': TaskResultsDataModel(retrieval_performance=RetrievalPerformanceDataModel(k=1, accuracy=0.6348393106660456, precision=None, recall=None, retrieval_duration_process=1.86394, avg_retrieval_duration_process=0.00087, retrieval_duration_wall_clock=1.86257, avg_retrieval_duration_wall_clock=0.00087), downstream_task_performance=DownstreamTaskPerformanceDataModel(task_name=None, scores=None), embedding_statistics=EmbeddingStatisticsDataModel(embedding_creation_duration_process=3.75929, avg_embedding_creation_duration_process=0.02088, embedding_creation_duration_wall_clock=3.86743, avg_embedding_creation_duration_wall_clock=0.02149, embedding_size=209.80531, avg_embedding_size=1.16559))}}\n"
     ]
    },
    {
     "name": "stderr",
     "output_type": "stream",
     "text": [
      "1it [00:00, 524.35it/s]0:00<?, ?it/s]\n",
      "100%|██████████| 1/1 [00:00<00:00, 171.87it/s]\n",
      "Retrieving Tables for spider-test...: 100%|██████████| 2147/2147 [00:01<00:00, 1509.57it/s]\n"
     ]
    },
    {
     "name": "stdout",
     "output_type": "stream",
     "text": [
      "{'Table Retrieval Task': {'spider-test': TaskResultsDataModel(retrieval_performance=RetrievalPerformanceDataModel(k=5, accuracy=0.8304611085235212, precision=None, recall=None, retrieval_duration_process=1.39085, avg_retrieval_duration_process=0.00065, retrieval_duration_wall_clock=1.39011, avg_retrieval_duration_wall_clock=0.00065), downstream_task_performance=DownstreamTaskPerformanceDataModel(task_name=None, scores=None), embedding_statistics=EmbeddingStatisticsDataModel(embedding_creation_duration_process=3.46593, avg_embedding_creation_duration_process=0.01926, embedding_creation_duration_wall_clock=3.94415, avg_embedding_creation_duration_wall_clock=0.02191, embedding_size=0.0041, avg_embedding_size=2e-05))}}\n"
     ]
    },
    {
     "name": "stderr",
     "output_type": "stream",
     "text": [
      "1it [00:00, 511.75it/s]0:00<?, ?it/s]\n",
      "100%|██████████| 1/1 [00:00<00:00, 172.14it/s]\n",
      "Retrieving Tables for spider-test...: 100%|██████████| 2147/2147 [00:01<00:00, 1433.66it/s]\n"
     ]
    },
    {
     "name": "stdout",
     "output_type": "stream",
     "text": [
      "{'Table Retrieval Task': {'spider-test': TaskResultsDataModel(retrieval_performance=RetrievalPerformanceDataModel(k=10, accuracy=0.8602701443875175, precision=None, recall=None, retrieval_duration_process=1.46069, avg_retrieval_duration_process=0.00068, retrieval_duration_wall_clock=1.46036, avg_retrieval_duration_wall_clock=0.00068), downstream_task_performance=DownstreamTaskPerformanceDataModel(task_name=None, scores=None), embedding_statistics=EmbeddingStatisticsDataModel(embedding_creation_duration_process=3.44288, avg_embedding_creation_duration_process=0.01913, embedding_creation_duration_wall_clock=3.92975, avg_embedding_creation_duration_wall_clock=0.02183, embedding_size=0.0041, avg_embedding_size=2e-05))}}\n"
     ]
    },
    {
     "name": "stderr",
     "output_type": "stream",
     "text": [
      "1it [00:00, 464.43it/s]0:00<?, ?it/s]\n",
      "100%|██████████| 1/1 [00:00<00:00, 170.38it/s]\n",
      "Retrieving Tables for spider-test...: 100%|██████████| 2147/2147 [00:01<00:00, 1325.70it/s]\n"
     ]
    },
    {
     "name": "stdout",
     "output_type": "stream",
     "text": [
      "{'Table Retrieval Task': {'spider-test': TaskResultsDataModel(retrieval_performance=RetrievalPerformanceDataModel(k=25, accuracy=0.8737773637633908, precision=None, recall=None, retrieval_duration_process=1.57816, avg_retrieval_duration_process=0.00074, retrieval_duration_wall_clock=1.58334, avg_retrieval_duration_wall_clock=0.00074), downstream_task_performance=DownstreamTaskPerformanceDataModel(task_name=None, scores=None), embedding_statistics=EmbeddingStatisticsDataModel(embedding_creation_duration_process=3.42337, avg_embedding_creation_duration_process=0.01902, embedding_creation_duration_wall_clock=3.90709, avg_embedding_creation_duration_wall_clock=0.02171, embedding_size=0.0041, avg_embedding_size=2e-05))}}\n"
     ]
    },
    {
     "name": "stderr",
     "output_type": "stream",
     "text": [
      "1it [00:00, 610.97it/s]0:00<?, ?it/s]\n",
      "100%|██████████| 1/1 [00:00<00:00, 170.93it/s]\n",
      "Retrieving Tables for spider-test...: 100%|██████████| 2147/2147 [00:01<00:00, 1272.42it/s]"
     ]
    },
    {
     "name": "stdout",
     "output_type": "stream",
     "text": [
      "{'Table Retrieval Task': {'spider-test': TaskResultsDataModel(retrieval_performance=RetrievalPerformanceDataModel(k=50, accuracy=0.8779692594317653, precision=None, recall=None, retrieval_duration_process=1.64968, avg_retrieval_duration_process=0.00077, retrieval_duration_wall_clock=1.64914, avg_retrieval_duration_wall_clock=0.00077), downstream_task_performance=DownstreamTaskPerformanceDataModel(task_name=None, scores=None), embedding_statistics=EmbeddingStatisticsDataModel(embedding_creation_duration_process=3.44096, avg_embedding_creation_duration_process=0.01912, embedding_creation_duration_wall_clock=3.91709, avg_embedding_creation_duration_wall_clock=0.02176, embedding_size=0.0041, avg_embedding_size=2e-05))}}\n"
     ]
    },
    {
     "name": "stderr",
     "output_type": "stream",
     "text": [
      "\n"
     ]
    }
   ],
   "source": [
    "# spider\n",
    "bm25_with_title_results_spider_test = run_eval_for_top_ks(bm25_with_title, \"bm25_with_title\",top_ks, target_spider, \"spider\", \"test\")"
   ]
  },
  {
   "cell_type": "code",
   "execution_count": 10,
   "metadata": {},
   "outputs": [
    {
     "data": {
      "text/plain": [
       "[{'Table Retrieval Task': {'spider-test': TaskResultsDataModel(retrieval_performance=RetrievalPerformanceDataModel(k=1, accuracy=0.6348393106660456, precision=None, recall=None, retrieval_duration_process=1.86394, avg_retrieval_duration_process=0.00087, retrieval_duration_wall_clock=1.86257, avg_retrieval_duration_wall_clock=0.00087), downstream_task_performance=DownstreamTaskPerformanceDataModel(task_name=None, scores=None), embedding_statistics=EmbeddingStatisticsDataModel(embedding_creation_duration_process=3.75929, avg_embedding_creation_duration_process=0.02088, embedding_creation_duration_wall_clock=3.86743, avg_embedding_creation_duration_wall_clock=0.02149, embedding_size=209.80531, avg_embedding_size=1.16559))}},\n",
       " {'Table Retrieval Task': {'spider-test': TaskResultsDataModel(retrieval_performance=RetrievalPerformanceDataModel(k=5, accuracy=0.8304611085235212, precision=None, recall=None, retrieval_duration_process=1.39085, avg_retrieval_duration_process=0.00065, retrieval_duration_wall_clock=1.39011, avg_retrieval_duration_wall_clock=0.00065), downstream_task_performance=DownstreamTaskPerformanceDataModel(task_name=None, scores=None), embedding_statistics=EmbeddingStatisticsDataModel(embedding_creation_duration_process=3.46593, avg_embedding_creation_duration_process=0.01926, embedding_creation_duration_wall_clock=3.94415, avg_embedding_creation_duration_wall_clock=0.02191, embedding_size=0.0041, avg_embedding_size=2e-05))}},\n",
       " {'Table Retrieval Task': {'spider-test': TaskResultsDataModel(retrieval_performance=RetrievalPerformanceDataModel(k=10, accuracy=0.8602701443875175, precision=None, recall=None, retrieval_duration_process=1.46069, avg_retrieval_duration_process=0.00068, retrieval_duration_wall_clock=1.46036, avg_retrieval_duration_wall_clock=0.00068), downstream_task_performance=DownstreamTaskPerformanceDataModel(task_name=None, scores=None), embedding_statistics=EmbeddingStatisticsDataModel(embedding_creation_duration_process=3.44288, avg_embedding_creation_duration_process=0.01913, embedding_creation_duration_wall_clock=3.92975, avg_embedding_creation_duration_wall_clock=0.02183, embedding_size=0.0041, avg_embedding_size=2e-05))}},\n",
       " {'Table Retrieval Task': {'spider-test': TaskResultsDataModel(retrieval_performance=RetrievalPerformanceDataModel(k=25, accuracy=0.8737773637633908, precision=None, recall=None, retrieval_duration_process=1.57816, avg_retrieval_duration_process=0.00074, retrieval_duration_wall_clock=1.58334, avg_retrieval_duration_wall_clock=0.00074), downstream_task_performance=DownstreamTaskPerformanceDataModel(task_name=None, scores=None), embedding_statistics=EmbeddingStatisticsDataModel(embedding_creation_duration_process=3.42337, avg_embedding_creation_duration_process=0.01902, embedding_creation_duration_wall_clock=3.90709, avg_embedding_creation_duration_wall_clock=0.02171, embedding_size=0.0041, avg_embedding_size=2e-05))}},\n",
       " {'Table Retrieval Task': {'spider-test': TaskResultsDataModel(retrieval_performance=RetrievalPerformanceDataModel(k=50, accuracy=0.8779692594317653, precision=None, recall=None, retrieval_duration_process=1.64968, avg_retrieval_duration_process=0.00077, retrieval_duration_wall_clock=1.64914, avg_retrieval_duration_wall_clock=0.00077), downstream_task_performance=DownstreamTaskPerformanceDataModel(task_name=None, scores=None), embedding_statistics=EmbeddingStatisticsDataModel(embedding_creation_duration_process=3.44096, avg_embedding_creation_duration_process=0.01912, embedding_creation_duration_wall_clock=3.91709, avg_embedding_creation_duration_wall_clock=0.02176, embedding_size=0.0041, avg_embedding_size=2e-05))}}]"
      ]
     },
     "execution_count": 10,
     "metadata": {},
     "output_type": "execute_result"
    }
   ],
   "source": [
    "bm25_with_title_results_spider_test"
   ]
  },
  {
   "cell_type": "code",
   "execution_count": 11,
   "metadata": {},
   "outputs": [
    {
     "data": {
      "application/vnd.jupyter.widget-view+json": {
       "model_id": "daf8333465d4436980d5ba7de08e6e0c",
       "version_major": 2,
       "version_minor": 0
      },
      "text/plain": [
       "Fetching 104 files:   0%|          | 0/104 [00:00<?, ?it/s]"
      ]
     },
     "metadata": {},
     "output_type": "display_data"
    },
    {
     "name": "stderr",
     "output_type": "stream",
     "text": [
      "1it [00:00, 468.27it/s]0:00<?, ?it/s]\n",
      "100%|██████████| 1/1 [00:00<00:00, 151.80it/s]\n",
      "Retrieving Tables for bird-validation...: 100%|██████████| 1534/1534 [00:03<00:00, 438.48it/s]\n"
     ]
    },
    {
     "name": "stdout",
     "output_type": "stream",
     "text": [
      "{'Table Retrieval Task': {'bird-validation': TaskResultsDataModel(retrieval_performance=RetrievalPerformanceDataModel(k=1, accuracy=0.7086049543676662, precision=None, recall=None, retrieval_duration_process=3.47387, avg_retrieval_duration_process=0.00226, retrieval_duration_wall_clock=3.4675, avg_retrieval_duration_wall_clock=0.00226), downstream_task_performance=DownstreamTaskPerformanceDataModel(task_name=None, scores=None), embedding_statistics=EmbeddingStatisticsDataModel(embedding_creation_duration_process=29.2025, avg_embedding_creation_duration_process=0.38937, embedding_creation_duration_wall_clock=29.44466, avg_embedding_creation_duration_wall_clock=0.3926, embedding_size=1332.65408, avg_embedding_size=17.76872))}}\n"
     ]
    },
    {
     "name": "stderr",
     "output_type": "stream",
     "text": [
      "1it [00:00, 926.92it/s]0:00<?, ?it/s]\n",
      "100%|██████████| 1/1 [00:00<00:00, 131.18it/s]\n",
      "Retrieving Tables for bird-validation...: 100%|██████████| 1534/1534 [00:01<00:00, 1362.66it/s]\n"
     ]
    },
    {
     "name": "stdout",
     "output_type": "stream",
     "text": [
      "{'Table Retrieval Task': {'bird-validation': TaskResultsDataModel(retrieval_performance=RetrievalPerformanceDataModel(k=5, accuracy=0.833767926988266, precision=None, recall=None, retrieval_duration_process=1.0968, avg_retrieval_duration_process=0.00071, retrieval_duration_wall_clock=1.09656, avg_retrieval_duration_wall_clock=0.00071), downstream_task_performance=DownstreamTaskPerformanceDataModel(task_name=None, scores=None), embedding_statistics=EmbeddingStatisticsDataModel(embedding_creation_duration_process=13.47446, avg_embedding_creation_duration_process=0.17966, embedding_creation_duration_wall_clock=19.72417, avg_embedding_creation_duration_wall_clock=0.26299, embedding_size=0.00819, avg_embedding_size=0.00011))}}\n"
     ]
    },
    {
     "name": "stderr",
     "output_type": "stream",
     "text": [
      "1it [00:00, 773.57it/s]0:00<?, ?it/s]\n",
      "100%|██████████| 1/1 [00:00<00:00, 176.20it/s]\n",
      "Retrieving Tables for bird-validation...: 100%|██████████| 1534/1534 [00:01<00:00, 1367.57it/s]\n"
     ]
    },
    {
     "name": "stdout",
     "output_type": "stream",
     "text": [
      "{'Table Retrieval Task': {'bird-validation': TaskResultsDataModel(retrieval_performance=RetrievalPerformanceDataModel(k=10, accuracy=0.8428943937418514, precision=None, recall=None, retrieval_duration_process=1.09612, avg_retrieval_duration_process=0.00071, retrieval_duration_wall_clock=1.09577, avg_retrieval_duration_wall_clock=0.00071), downstream_task_performance=DownstreamTaskPerformanceDataModel(task_name=None, scores=None), embedding_statistics=EmbeddingStatisticsDataModel(embedding_creation_duration_process=13.14943, avg_embedding_creation_duration_process=0.17533, embedding_creation_duration_wall_clock=13.88812, avg_embedding_creation_duration_wall_clock=0.18517, embedding_size=0.0, avg_embedding_size=0.0))}}\n"
     ]
    },
    {
     "name": "stderr",
     "output_type": "stream",
     "text": [
      "1it [00:00, 863.20it/s]0:00<?, ?it/s]\n",
      "100%|██████████| 1/1 [00:00<00:00, 179.13it/s]\n",
      "Retrieving Tables for bird-validation...: 100%|██████████| 1534/1534 [00:01<00:00, 1352.28it/s]\n"
     ]
    },
    {
     "name": "stdout",
     "output_type": "stream",
     "text": [
      "{'Table Retrieval Task': {'bird-validation': TaskResultsDataModel(retrieval_performance=RetrievalPerformanceDataModel(k=25, accuracy=0.8585397653194263, precision=None, recall=None, retrieval_duration_process=1.10765, avg_retrieval_duration_process=0.00072, retrieval_duration_wall_clock=1.10745, avg_retrieval_duration_wall_clock=0.00072), downstream_task_performance=DownstreamTaskPerformanceDataModel(task_name=None, scores=None), embedding_statistics=EmbeddingStatisticsDataModel(embedding_creation_duration_process=13.05505, avg_embedding_creation_duration_process=0.17407, embedding_creation_duration_wall_clock=13.77149, avg_embedding_creation_duration_wall_clock=0.18362, embedding_size=0.0, avg_embedding_size=0.0))}}\n"
     ]
    },
    {
     "name": "stderr",
     "output_type": "stream",
     "text": [
      "1it [00:00, 974.29it/s]0:00<?, ?it/s]\n",
      "100%|██████████| 1/1 [00:00<00:00, 178.09it/s]\n",
      "Retrieving Tables for bird-validation...: 100%|██████████| 1534/1534 [00:01<00:00, 1329.84it/s]"
     ]
    },
    {
     "name": "stdout",
     "output_type": "stream",
     "text": [
      "{'Table Retrieval Task': {'bird-validation': TaskResultsDataModel(retrieval_performance=RetrievalPerformanceDataModel(k=50, accuracy=0.8585397653194263, precision=None, recall=None, retrieval_duration_process=1.12727, avg_retrieval_duration_process=0.00073, retrieval_duration_wall_clock=1.12697, avg_retrieval_duration_wall_clock=0.00073), downstream_task_performance=DownstreamTaskPerformanceDataModel(task_name=None, scores=None), embedding_statistics=EmbeddingStatisticsDataModel(embedding_creation_duration_process=13.20144, avg_embedding_creation_duration_process=0.17602, embedding_creation_duration_wall_clock=13.91305, avg_embedding_creation_duration_wall_clock=0.18551, embedding_size=0.0041, avg_embedding_size=5e-05))}}\n"
     ]
    },
    {
     "name": "stderr",
     "output_type": "stream",
     "text": [
      "\n"
     ]
    }
   ],
   "source": [
    "bm25_with_title_results_bird_val = run_eval_for_top_ks(bm25_with_title, \"bm25_with_title\",top_ks, target_bird, \"bird\", \"validation\")"
   ]
  },
  {
   "cell_type": "code",
   "execution_count": 12,
   "metadata": {},
   "outputs": [
    {
     "data": {
      "text/plain": [
       "[{'Table Retrieval Task': {'bird-validation': TaskResultsDataModel(retrieval_performance=RetrievalPerformanceDataModel(k=1, accuracy=0.7086049543676662, precision=None, recall=None, retrieval_duration_process=3.47387, avg_retrieval_duration_process=0.00226, retrieval_duration_wall_clock=3.4675, avg_retrieval_duration_wall_clock=0.00226), downstream_task_performance=DownstreamTaskPerformanceDataModel(task_name=None, scores=None), embedding_statistics=EmbeddingStatisticsDataModel(embedding_creation_duration_process=29.2025, avg_embedding_creation_duration_process=0.38937, embedding_creation_duration_wall_clock=29.44466, avg_embedding_creation_duration_wall_clock=0.3926, embedding_size=1332.65408, avg_embedding_size=17.76872))}},\n",
       " {'Table Retrieval Task': {'bird-validation': TaskResultsDataModel(retrieval_performance=RetrievalPerformanceDataModel(k=5, accuracy=0.833767926988266, precision=None, recall=None, retrieval_duration_process=1.0968, avg_retrieval_duration_process=0.00071, retrieval_duration_wall_clock=1.09656, avg_retrieval_duration_wall_clock=0.00071), downstream_task_performance=DownstreamTaskPerformanceDataModel(task_name=None, scores=None), embedding_statistics=EmbeddingStatisticsDataModel(embedding_creation_duration_process=13.47446, avg_embedding_creation_duration_process=0.17966, embedding_creation_duration_wall_clock=19.72417, avg_embedding_creation_duration_wall_clock=0.26299, embedding_size=0.00819, avg_embedding_size=0.00011))}},\n",
       " {'Table Retrieval Task': {'bird-validation': TaskResultsDataModel(retrieval_performance=RetrievalPerformanceDataModel(k=10, accuracy=0.8428943937418514, precision=None, recall=None, retrieval_duration_process=1.09612, avg_retrieval_duration_process=0.00071, retrieval_duration_wall_clock=1.09577, avg_retrieval_duration_wall_clock=0.00071), downstream_task_performance=DownstreamTaskPerformanceDataModel(task_name=None, scores=None), embedding_statistics=EmbeddingStatisticsDataModel(embedding_creation_duration_process=13.14943, avg_embedding_creation_duration_process=0.17533, embedding_creation_duration_wall_clock=13.88812, avg_embedding_creation_duration_wall_clock=0.18517, embedding_size=0.0, avg_embedding_size=0.0))}},\n",
       " {'Table Retrieval Task': {'bird-validation': TaskResultsDataModel(retrieval_performance=RetrievalPerformanceDataModel(k=25, accuracy=0.8585397653194263, precision=None, recall=None, retrieval_duration_process=1.10765, avg_retrieval_duration_process=0.00072, retrieval_duration_wall_clock=1.10745, avg_retrieval_duration_wall_clock=0.00072), downstream_task_performance=DownstreamTaskPerformanceDataModel(task_name=None, scores=None), embedding_statistics=EmbeddingStatisticsDataModel(embedding_creation_duration_process=13.05505, avg_embedding_creation_duration_process=0.17407, embedding_creation_duration_wall_clock=13.77149, avg_embedding_creation_duration_wall_clock=0.18362, embedding_size=0.0, avg_embedding_size=0.0))}},\n",
       " {'Table Retrieval Task': {'bird-validation': TaskResultsDataModel(retrieval_performance=RetrievalPerformanceDataModel(k=50, accuracy=0.8585397653194263, precision=None, recall=None, retrieval_duration_process=1.12727, avg_retrieval_duration_process=0.00073, retrieval_duration_wall_clock=1.12697, avg_retrieval_duration_wall_clock=0.00073), downstream_task_performance=DownstreamTaskPerformanceDataModel(task_name=None, scores=None), embedding_statistics=EmbeddingStatisticsDataModel(embedding_creation_duration_process=13.20144, avg_embedding_creation_duration_process=0.17602, embedding_creation_duration_wall_clock=13.91305, avg_embedding_creation_duration_wall_clock=0.18551, embedding_size=0.0041, avg_embedding_size=5e-05))}}]"
      ]
     },
     "execution_count": 12,
     "metadata": {},
     "output_type": "execute_result"
    }
   ],
   "source": [
    "bm25_with_title_results_bird_val"
   ]
  },
  {
   "cell_type": "markdown",
   "metadata": {},
   "source": [
    "# OTTQA bm25 without Title (Done)"
   ]
  },
  {
   "cell_type": "code",
   "execution_count": 13,
   "metadata": {},
   "outputs": [],
   "source": [
    "from target_benchmark.retrievers import OTTQARetriever\n",
    "bm25_no_title = OTTQARetriever(encoding=\"bm25\", withtitle=False)"
   ]
  },
  {
   "cell_type": "code",
   "execution_count": 14,
   "metadata": {},
   "outputs": [
    {
     "name": "stderr",
     "output_type": "stream",
     "text": [
      "1it [00:00, 54.21it/s]00:00<?, ?it/s]\n",
      "100%|██████████| 1/1 [00:00<00:00, 44.64it/s]\n",
      "Retrieving Tables for fetaqa...: 100%|██████████| 2003/2003 [00:01<00:00, 1478.09it/s]\n"
     ]
    },
    {
     "name": "stdout",
     "output_type": "stream",
     "text": [
      "{'Table Retrieval Task': {'fetaqa': TaskResultsDataModel(retrieval_performance=RetrievalPerformanceDataModel(k=1, accuracy=0.0309535696455317, precision=None, recall=None, retrieval_duration_process=1.32609, avg_retrieval_duration_process=0.00066, retrieval_duration_wall_clock=1.32572, avg_retrieval_duration_wall_clock=0.00066), downstream_task_performance=DownstreamTaskPerformanceDataModel(task_name=None, scores=None), embedding_statistics=EmbeddingStatisticsDataModel(embedding_creation_duration_process=5.19459, avg_embedding_creation_duration_process=0.00259, embedding_creation_duration_wall_clock=5.99165, avg_embedding_creation_duration_wall_clock=0.00299, embedding_size=3.41197, avg_embedding_size=0.0017))}}\n"
     ]
    },
    {
     "name": "stderr",
     "output_type": "stream",
     "text": [
      "1it [00:00, 69.27it/s]00:00<?, ?it/s]\n",
      "100%|██████████| 1/1 [00:00<00:00, 54.30it/s]\n",
      "Retrieving Tables for fetaqa...: 100%|██████████| 2003/2003 [00:01<00:00, 1379.08it/s]"
     ]
    },
    {
     "name": "stdout",
     "output_type": "stream",
     "text": [
      "{'Table Retrieval Task': {'fetaqa': TaskResultsDataModel(retrieval_performance=RetrievalPerformanceDataModel(k=5, accuracy=0.06040938592111832, precision=None, recall=None, retrieval_duration_process=1.4196, avg_retrieval_duration_process=0.00071, retrieval_duration_wall_clock=1.41922, avg_retrieval_duration_wall_clock=0.00071), downstream_task_performance=DownstreamTaskPerformanceDataModel(task_name=None, scores=None), embedding_statistics=EmbeddingStatisticsDataModel(embedding_creation_duration_process=4.82474, avg_embedding_creation_duration_process=0.00241, embedding_creation_duration_wall_clock=5.60287, avg_embedding_creation_duration_wall_clock=0.0028, embedding_size=0.00819, avg_embedding_size=0.0))}}\n"
     ]
    },
    {
     "name": "stderr",
     "output_type": "stream",
     "text": [
      "\n",
      "1it [00:00, 74.14it/s]00:00<?, ?it/s]\n",
      "100%|██████████| 1/1 [00:00<00:00, 58.60it/s]\n",
      "Retrieving Tables for fetaqa...: 100%|██████████| 2003/2003 [00:01<00:00, 1350.16it/s]\n"
     ]
    },
    {
     "name": "stdout",
     "output_type": "stream",
     "text": [
      "{'Table Retrieval Task': {'fetaqa': TaskResultsDataModel(retrieval_performance=RetrievalPerformanceDataModel(k=10, accuracy=0.08437343984023964, precision=None, recall=None, retrieval_duration_process=1.45088, avg_retrieval_duration_process=0.00072, retrieval_duration_wall_clock=1.45352, avg_retrieval_duration_wall_clock=0.00073), downstream_task_performance=DownstreamTaskPerformanceDataModel(task_name=None, scores=None), embedding_statistics=EmbeddingStatisticsDataModel(embedding_creation_duration_process=4.63407, avg_embedding_creation_duration_process=0.00231, embedding_creation_duration_wall_clock=5.44848, avg_embedding_creation_duration_wall_clock=0.00272, embedding_size=0.0041, avg_embedding_size=0.0))}}\n"
     ]
    },
    {
     "name": "stderr",
     "output_type": "stream",
     "text": [
      "1it [00:00, 67.84it/s]00:00<?, ?it/s]\n",
      "100%|██████████| 1/1 [00:00<00:00, 54.20it/s]\n",
      "Retrieving Tables for fetaqa...: 100%|██████████| 2003/2003 [00:01<00:00, 1244.97it/s]\n"
     ]
    },
    {
     "name": "stdout",
     "output_type": "stream",
     "text": [
      "{'Table Retrieval Task': {'fetaqa': TaskResultsDataModel(retrieval_performance=RetrievalPerformanceDataModel(k=25, accuracy=0.12830753869196207, precision=None, recall=None, retrieval_duration_process=1.57706, avg_retrieval_duration_process=0.00079, retrieval_duration_wall_clock=1.57676, avg_retrieval_duration_wall_clock=0.00079), downstream_task_performance=DownstreamTaskPerformanceDataModel(task_name=None, scores=None), embedding_statistics=EmbeddingStatisticsDataModel(embedding_creation_duration_process=4.95035, avg_embedding_creation_duration_process=0.00247, embedding_creation_duration_wall_clock=5.65755, avg_embedding_creation_duration_wall_clock=0.00282, embedding_size=0.0041, avg_embedding_size=0.0))}}\n"
     ]
    },
    {
     "name": "stderr",
     "output_type": "stream",
     "text": [
      "1it [00:00, 72.40it/s]00:00<?, ?it/s]\n",
      "100%|██████████| 1/1 [00:00<00:00, 56.53it/s]\n",
      "Retrieving Tables for fetaqa...: 100%|██████████| 2003/2003 [00:01<00:00, 1055.67it/s]"
     ]
    },
    {
     "name": "stdout",
     "output_type": "stream",
     "text": [
      "{'Table Retrieval Task': {'fetaqa': TaskResultsDataModel(retrieval_performance=RetrievalPerformanceDataModel(k=50, accuracy=0.1802296555167249, precision=None, recall=None, retrieval_duration_process=1.7672, avg_retrieval_duration_process=0.00088, retrieval_duration_wall_clock=1.7669, avg_retrieval_duration_wall_clock=0.00088), downstream_task_performance=DownstreamTaskPerformanceDataModel(task_name=None, scores=None), embedding_statistics=EmbeddingStatisticsDataModel(embedding_creation_duration_process=4.60702, avg_embedding_creation_duration_process=0.0023, embedding_creation_duration_wall_clock=5.17875, avg_embedding_creation_duration_wall_clock=0.00259, embedding_size=0.0041, avg_embedding_size=0.0))}}\n"
     ]
    },
    {
     "name": "stderr",
     "output_type": "stream",
     "text": [
      "\n"
     ]
    }
   ],
   "source": [
    "# fetaqa\n",
    "bm25_no_title_results_fetaqa_test = run_eval_for_top_ks(bm25_no_title, \"bm25_no_title\", top_ks, target_fetaqa, \"fetaqa\", \"test\")"
   ]
  },
  {
   "cell_type": "code",
   "execution_count": 15,
   "metadata": {},
   "outputs": [
    {
     "data": {
      "text/plain": [
       "[{'Table Retrieval Task': {'fetaqa': TaskResultsDataModel(retrieval_performance=RetrievalPerformanceDataModel(k=1, accuracy=0.0309535696455317, precision=None, recall=None, retrieval_duration_process=1.32609, avg_retrieval_duration_process=0.00066, retrieval_duration_wall_clock=1.32572, avg_retrieval_duration_wall_clock=0.00066), downstream_task_performance=DownstreamTaskPerformanceDataModel(task_name=None, scores=None), embedding_statistics=EmbeddingStatisticsDataModel(embedding_creation_duration_process=5.19459, avg_embedding_creation_duration_process=0.00259, embedding_creation_duration_wall_clock=5.99165, avg_embedding_creation_duration_wall_clock=0.00299, embedding_size=3.41197, avg_embedding_size=0.0017))}},\n",
       " {'Table Retrieval Task': {'fetaqa': TaskResultsDataModel(retrieval_performance=RetrievalPerformanceDataModel(k=5, accuracy=0.06040938592111832, precision=None, recall=None, retrieval_duration_process=1.4196, avg_retrieval_duration_process=0.00071, retrieval_duration_wall_clock=1.41922, avg_retrieval_duration_wall_clock=0.00071), downstream_task_performance=DownstreamTaskPerformanceDataModel(task_name=None, scores=None), embedding_statistics=EmbeddingStatisticsDataModel(embedding_creation_duration_process=4.82474, avg_embedding_creation_duration_process=0.00241, embedding_creation_duration_wall_clock=5.60287, avg_embedding_creation_duration_wall_clock=0.0028, embedding_size=0.00819, avg_embedding_size=0.0))}},\n",
       " {'Table Retrieval Task': {'fetaqa': TaskResultsDataModel(retrieval_performance=RetrievalPerformanceDataModel(k=10, accuracy=0.08437343984023964, precision=None, recall=None, retrieval_duration_process=1.45088, avg_retrieval_duration_process=0.00072, retrieval_duration_wall_clock=1.45352, avg_retrieval_duration_wall_clock=0.00073), downstream_task_performance=DownstreamTaskPerformanceDataModel(task_name=None, scores=None), embedding_statistics=EmbeddingStatisticsDataModel(embedding_creation_duration_process=4.63407, avg_embedding_creation_duration_process=0.00231, embedding_creation_duration_wall_clock=5.44848, avg_embedding_creation_duration_wall_clock=0.00272, embedding_size=0.0041, avg_embedding_size=0.0))}},\n",
       " {'Table Retrieval Task': {'fetaqa': TaskResultsDataModel(retrieval_performance=RetrievalPerformanceDataModel(k=25, accuracy=0.12830753869196207, precision=None, recall=None, retrieval_duration_process=1.57706, avg_retrieval_duration_process=0.00079, retrieval_duration_wall_clock=1.57676, avg_retrieval_duration_wall_clock=0.00079), downstream_task_performance=DownstreamTaskPerformanceDataModel(task_name=None, scores=None), embedding_statistics=EmbeddingStatisticsDataModel(embedding_creation_duration_process=4.95035, avg_embedding_creation_duration_process=0.00247, embedding_creation_duration_wall_clock=5.65755, avg_embedding_creation_duration_wall_clock=0.00282, embedding_size=0.0041, avg_embedding_size=0.0))}},\n",
       " {'Table Retrieval Task': {'fetaqa': TaskResultsDataModel(retrieval_performance=RetrievalPerformanceDataModel(k=50, accuracy=0.1802296555167249, precision=None, recall=None, retrieval_duration_process=1.7672, avg_retrieval_duration_process=0.00088, retrieval_duration_wall_clock=1.7669, avg_retrieval_duration_wall_clock=0.00088), downstream_task_performance=DownstreamTaskPerformanceDataModel(task_name=None, scores=None), embedding_statistics=EmbeddingStatisticsDataModel(embedding_creation_duration_process=4.60702, avg_embedding_creation_duration_process=0.0023, embedding_creation_duration_wall_clock=5.17875, avg_embedding_creation_duration_wall_clock=0.00259, embedding_size=0.0041, avg_embedding_size=0.0))}}]"
      ]
     },
     "execution_count": 15,
     "metadata": {},
     "output_type": "execute_result"
    }
   ],
   "source": [
    "bm25_no_title_results_fetaqa_test"
   ]
  },
  {
   "cell_type": "code",
   "execution_count": 16,
   "metadata": {},
   "outputs": [
    {
     "name": "stderr",
     "output_type": "stream",
     "text": [
      "1it [00:00, 192.10it/s]0:00<?, ?it/s]\n",
      "100%|██████████| 1/1 [00:00<00:00, 107.36it/s]\n",
      "Retrieving Tables for ottqa...: 100%|██████████| 2214/2214 [00:01<00:00, 1224.39it/s]\n"
     ]
    },
    {
     "name": "stdout",
     "output_type": "stream",
     "text": [
      "{'Table Retrieval Task': {'ottqa': TaskResultsDataModel(retrieval_performance=RetrievalPerformanceDataModel(k=1, accuracy=0.16305329719963865, precision=None, recall=None, retrieval_duration_process=1.77446, avg_retrieval_duration_process=0.0008, retrieval_duration_wall_clock=1.77387, avg_retrieval_duration_wall_clock=0.0008), downstream_task_performance=DownstreamTaskPerformanceDataModel(task_name=None, scores=None), embedding_statistics=EmbeddingStatisticsDataModel(embedding_creation_duration_process=4.30649, avg_embedding_creation_duration_process=0.00546, embedding_creation_duration_wall_clock=4.81245, avg_embedding_creation_duration_wall_clock=0.0061, embedding_size=0.65126, avg_embedding_size=0.00083))}}\n"
     ]
    },
    {
     "name": "stderr",
     "output_type": "stream",
     "text": [
      "1it [00:00, 199.10it/s]0:00<?, ?it/s]\n",
      "100%|██████████| 1/1 [00:00<00:00, 102.13it/s]\n",
      "Retrieving Tables for ottqa...: 100%|██████████| 2214/2214 [00:01<00:00, 1185.45it/s]\n"
     ]
    },
    {
     "name": "stdout",
     "output_type": "stream",
     "text": [
      "{'Table Retrieval Task': {'ottqa': TaskResultsDataModel(retrieval_performance=RetrievalPerformanceDataModel(k=5, accuracy=0.33378500451671184, precision=None, recall=None, retrieval_duration_process=1.83569, avg_retrieval_duration_process=0.00083, retrieval_duration_wall_clock=1.83531, avg_retrieval_duration_wall_clock=0.00083), downstream_task_performance=DownstreamTaskPerformanceDataModel(task_name=None, scores=None), embedding_statistics=EmbeddingStatisticsDataModel(embedding_creation_duration_process=4.12059, avg_embedding_creation_duration_process=0.00522, embedding_creation_duration_wall_clock=5.44381, avg_embedding_creation_duration_wall_clock=0.0069, embedding_size=0.0, avg_embedding_size=0.0))}}\n"
     ]
    },
    {
     "name": "stderr",
     "output_type": "stream",
     "text": [
      "1it [00:00, 197.45it/s]0:00<?, ?it/s]\n",
      "100%|██████████| 1/1 [00:00<00:00, 111.25it/s]\n",
      "Retrieving Tables for ottqa...: 100%|██████████| 2214/2214 [00:02<00:00, 1073.19it/s]\n"
     ]
    },
    {
     "name": "stdout",
     "output_type": "stream",
     "text": [
      "{'Table Retrieval Task': {'ottqa': TaskResultsDataModel(retrieval_performance=RetrievalPerformanceDataModel(k=10, accuracy=0.44308943089430897, precision=None, recall=None, retrieval_duration_process=2.02765, avg_retrieval_duration_process=0.00092, retrieval_duration_wall_clock=2.02704, avg_retrieval_duration_wall_clock=0.00092), downstream_task_performance=DownstreamTaskPerformanceDataModel(task_name=None, scores=None), embedding_statistics=EmbeddingStatisticsDataModel(embedding_creation_duration_process=4.07859, avg_embedding_creation_duration_process=0.00517, embedding_creation_duration_wall_clock=4.85446, avg_embedding_creation_duration_wall_clock=0.00615, embedding_size=0.01229, avg_embedding_size=2e-05))}}\n"
     ]
    },
    {
     "name": "stderr",
     "output_type": "stream",
     "text": [
      "1it [00:00, 187.26it/s]0:00<?, ?it/s]\n",
      "100%|██████████| 1/1 [00:00<00:00, 109.14it/s]\n",
      "Retrieving Tables for ottqa...: 100%|██████████| 2214/2214 [00:02<00:00, 954.08it/s]"
     ]
    },
    {
     "name": "stdout",
     "output_type": "stream",
     "text": [
      "{'Table Retrieval Task': {'ottqa': TaskResultsDataModel(retrieval_performance=RetrievalPerformanceDataModel(k=25, accuracy=0.5790424570912376, precision=None, recall=None, retrieval_duration_process=2.27353, avg_retrieval_duration_process=0.00103, retrieval_duration_wall_clock=2.27192, avg_retrieval_duration_wall_clock=0.00103), downstream_task_performance=DownstreamTaskPerformanceDataModel(task_name=None, scores=None), embedding_statistics=EmbeddingStatisticsDataModel(embedding_creation_duration_process=4.17356, avg_embedding_creation_duration_process=0.00529, embedding_creation_duration_wall_clock=4.60026, avg_embedding_creation_duration_wall_clock=0.00583, embedding_size=0.0041, avg_embedding_size=1e-05))}}\n"
     ]
    },
    {
     "name": "stderr",
     "output_type": "stream",
     "text": [
      "\n",
      "1it [00:00, 164.27it/s]0:00<?, ?it/s]\n",
      "100%|██████████| 1/1 [00:00<00:00, 97.75it/s]\n",
      "Retrieving Tables for ottqa...: 100%|██████████| 2214/2214 [00:02<00:00, 817.25it/s]"
     ]
    },
    {
     "name": "stdout",
     "output_type": "stream",
     "text": [
      "{'Table Retrieval Task': {'ottqa': TaskResultsDataModel(retrieval_performance=RetrievalPerformanceDataModel(k=50, accuracy=0.6495031616982837, precision=None, recall=None, retrieval_duration_process=2.65586, avg_retrieval_duration_process=0.0012, retrieval_duration_wall_clock=2.65505, avg_retrieval_duration_wall_clock=0.0012), downstream_task_performance=DownstreamTaskPerformanceDataModel(task_name=None, scores=None), embedding_statistics=EmbeddingStatisticsDataModel(embedding_creation_duration_process=4.17185, avg_embedding_creation_duration_process=0.00529, embedding_creation_duration_wall_clock=4.81056, avg_embedding_creation_duration_wall_clock=0.0061, embedding_size=0.0041, avg_embedding_size=1e-05))}}\n"
     ]
    },
    {
     "name": "stderr",
     "output_type": "stream",
     "text": [
      "\n"
     ]
    }
   ],
   "source": [
    "# ottqa\n",
    "bm25_no_title_results_ottqa_val = run_eval_for_top_ks(bm25_no_title, \"bm25_no_title\",top_ks, target_ottqa, \"ottqa\", \"validation\")"
   ]
  },
  {
   "cell_type": "code",
   "execution_count": 17,
   "metadata": {},
   "outputs": [
    {
     "data": {
      "text/plain": [
       "[{'Table Retrieval Task': {'ottqa': TaskResultsDataModel(retrieval_performance=RetrievalPerformanceDataModel(k=1, accuracy=0.16305329719963865, precision=None, recall=None, retrieval_duration_process=1.77446, avg_retrieval_duration_process=0.0008, retrieval_duration_wall_clock=1.77387, avg_retrieval_duration_wall_clock=0.0008), downstream_task_performance=DownstreamTaskPerformanceDataModel(task_name=None, scores=None), embedding_statistics=EmbeddingStatisticsDataModel(embedding_creation_duration_process=4.30649, avg_embedding_creation_duration_process=0.00546, embedding_creation_duration_wall_clock=4.81245, avg_embedding_creation_duration_wall_clock=0.0061, embedding_size=0.65126, avg_embedding_size=0.00083))}},\n",
       " {'Table Retrieval Task': {'ottqa': TaskResultsDataModel(retrieval_performance=RetrievalPerformanceDataModel(k=5, accuracy=0.33378500451671184, precision=None, recall=None, retrieval_duration_process=1.83569, avg_retrieval_duration_process=0.00083, retrieval_duration_wall_clock=1.83531, avg_retrieval_duration_wall_clock=0.00083), downstream_task_performance=DownstreamTaskPerformanceDataModel(task_name=None, scores=None), embedding_statistics=EmbeddingStatisticsDataModel(embedding_creation_duration_process=4.12059, avg_embedding_creation_duration_process=0.00522, embedding_creation_duration_wall_clock=5.44381, avg_embedding_creation_duration_wall_clock=0.0069, embedding_size=0.0, avg_embedding_size=0.0))}},\n",
       " {'Table Retrieval Task': {'ottqa': TaskResultsDataModel(retrieval_performance=RetrievalPerformanceDataModel(k=10, accuracy=0.44308943089430897, precision=None, recall=None, retrieval_duration_process=2.02765, avg_retrieval_duration_process=0.00092, retrieval_duration_wall_clock=2.02704, avg_retrieval_duration_wall_clock=0.00092), downstream_task_performance=DownstreamTaskPerformanceDataModel(task_name=None, scores=None), embedding_statistics=EmbeddingStatisticsDataModel(embedding_creation_duration_process=4.07859, avg_embedding_creation_duration_process=0.00517, embedding_creation_duration_wall_clock=4.85446, avg_embedding_creation_duration_wall_clock=0.00615, embedding_size=0.01229, avg_embedding_size=2e-05))}},\n",
       " {'Table Retrieval Task': {'ottqa': TaskResultsDataModel(retrieval_performance=RetrievalPerformanceDataModel(k=25, accuracy=0.5790424570912376, precision=None, recall=None, retrieval_duration_process=2.27353, avg_retrieval_duration_process=0.00103, retrieval_duration_wall_clock=2.27192, avg_retrieval_duration_wall_clock=0.00103), downstream_task_performance=DownstreamTaskPerformanceDataModel(task_name=None, scores=None), embedding_statistics=EmbeddingStatisticsDataModel(embedding_creation_duration_process=4.17356, avg_embedding_creation_duration_process=0.00529, embedding_creation_duration_wall_clock=4.60026, avg_embedding_creation_duration_wall_clock=0.00583, embedding_size=0.0041, avg_embedding_size=1e-05))}},\n",
       " {'Table Retrieval Task': {'ottqa': TaskResultsDataModel(retrieval_performance=RetrievalPerformanceDataModel(k=50, accuracy=0.6495031616982837, precision=None, recall=None, retrieval_duration_process=2.65586, avg_retrieval_duration_process=0.0012, retrieval_duration_wall_clock=2.65505, avg_retrieval_duration_wall_clock=0.0012), downstream_task_performance=DownstreamTaskPerformanceDataModel(task_name=None, scores=None), embedding_statistics=EmbeddingStatisticsDataModel(embedding_creation_duration_process=4.17185, avg_embedding_creation_duration_process=0.00529, embedding_creation_duration_wall_clock=4.81056, avg_embedding_creation_duration_wall_clock=0.0061, embedding_size=0.0041, avg_embedding_size=1e-05))}}]"
      ]
     },
     "execution_count": 17,
     "metadata": {},
     "output_type": "execute_result"
    }
   ],
   "source": [
    "bm25_no_title_results_ottqa_val"
   ]
  },
  {
   "cell_type": "code",
   "execution_count": 18,
   "metadata": {},
   "outputs": [
    {
     "name": "stderr",
     "output_type": "stream",
     "text": [
      "1it [00:00, 82.98it/s]00:00<?, ?it/s]\n",
      "100%|██████████| 1/1 [00:00<00:00, 61.85it/s]\n",
      "Retrieving Tables for tabfact...: 100%|██████████| 12779/12779 [00:08<00:00, 1501.61it/s]"
     ]
    },
    {
     "name": "stdout",
     "output_type": "stream",
     "text": [
      "{'Table Retrieval Task': {'tabfact': TaskResultsDataModel(retrieval_performance=RetrievalPerformanceDataModel(k=1, accuracy=0.1437514672509586, precision=None, recall=None, retrieval_duration_process=8.33625, avg_retrieval_duration_process=0.00065, retrieval_duration_wall_clock=8.34226, avg_retrieval_duration_wall_clock=0.00065), downstream_task_performance=DownstreamTaskPerformanceDataModel(task_name=None, scores=None), embedding_statistics=EmbeddingStatisticsDataModel(embedding_creation_duration_process=5.00091, avg_embedding_creation_duration_process=0.00295, embedding_creation_duration_wall_clock=5.75909, avg_embedding_creation_duration_wall_clock=0.0034, embedding_size=2.50675, avg_embedding_size=0.00148))}}\n"
     ]
    },
    {
     "name": "stderr",
     "output_type": "stream",
     "text": [
      "\n",
      "1it [00:00, 77.06it/s]00:00<?, ?it/s]\n",
      "100%|██████████| 1/1 [00:00<00:00, 60.25it/s]\n",
      "Retrieving Tables for tabfact...: 100%|██████████| 12779/12779 [00:09<00:00, 1391.01it/s]"
     ]
    },
    {
     "name": "stdout",
     "output_type": "stream",
     "text": [
      "{'Table Retrieval Task': {'tabfact': TaskResultsDataModel(retrieval_performance=RetrievalPerformanceDataModel(k=5, accuracy=0.2644964394710071, precision=None, recall=None, retrieval_duration_process=9.00556, avg_retrieval_duration_process=0.0007, retrieval_duration_wall_clock=9.0024, avg_retrieval_duration_wall_clock=0.0007), downstream_task_performance=DownstreamTaskPerformanceDataModel(task_name=None, scores=None), embedding_statistics=EmbeddingStatisticsDataModel(embedding_creation_duration_process=4.62902, avg_embedding_creation_duration_process=0.00273, embedding_creation_duration_wall_clock=5.42987, avg_embedding_creation_duration_wall_clock=0.0032, embedding_size=0.0041, avg_embedding_size=0.0))}}\n"
     ]
    },
    {
     "name": "stderr",
     "output_type": "stream",
     "text": [
      "\n",
      "1it [00:00, 99.78it/s]00:00<?, ?it/s]\n",
      "100%|██████████| 1/1 [00:00<00:00, 67.30it/s]\n",
      "Retrieving Tables for tabfact...: 100%|██████████| 12779/12779 [00:09<00:00, 1300.65it/s]"
     ]
    },
    {
     "name": "stdout",
     "output_type": "stream",
     "text": [
      "{'Table Retrieval Task': {'tabfact': TaskResultsDataModel(retrieval_performance=RetrievalPerformanceDataModel(k=10, accuracy=0.3306205493387589, precision=None, recall=None, retrieval_duration_process=9.64418, avg_retrieval_duration_process=0.00075, retrieval_duration_wall_clock=9.64157, avg_retrieval_duration_wall_clock=0.00075), downstream_task_performance=DownstreamTaskPerformanceDataModel(task_name=None, scores=None), embedding_statistics=EmbeddingStatisticsDataModel(embedding_creation_duration_process=4.66728, avg_embedding_creation_duration_process=0.00275, embedding_creation_duration_wall_clock=5.5203, avg_embedding_creation_duration_wall_clock=0.00326, embedding_size=0.0041, avg_embedding_size=0.0))}}\n"
     ]
    },
    {
     "name": "stderr",
     "output_type": "stream",
     "text": [
      "\n",
      "1it [00:00, 90.82it/s]00:00<?, ?it/s]\n",
      "100%|██████████| 1/1 [00:00<00:00, 66.48it/s]\n",
      "Retrieving Tables for tabfact...: 100%|██████████| 12779/12779 [00:11<00:00, 1097.85it/s]\n"
     ]
    },
    {
     "name": "stdout",
     "output_type": "stream",
     "text": [
      "{'Table Retrieval Task': {'tabfact': TaskResultsDataModel(retrieval_performance=RetrievalPerformanceDataModel(k=25, accuracy=0.43438453713123093, precision=None, recall=None, retrieval_duration_process=11.42474, avg_retrieval_duration_process=0.00089, retrieval_duration_wall_clock=11.42185, avg_retrieval_duration_wall_clock=0.00089), downstream_task_performance=DownstreamTaskPerformanceDataModel(task_name=None, scores=None), embedding_statistics=EmbeddingStatisticsDataModel(embedding_creation_duration_process=4.64391, avg_embedding_creation_duration_process=0.00274, embedding_creation_duration_wall_clock=6.46478, avg_embedding_creation_duration_wall_clock=0.00381, embedding_size=0.01229, avg_embedding_size=1e-05))}}\n"
     ]
    },
    {
     "name": "stderr",
     "output_type": "stream",
     "text": [
      "1it [00:00, 85.80it/s]00:00<?, ?it/s]\n",
      "100%|██████████| 1/1 [00:00<00:00, 63.99it/s]\n",
      "Retrieving Tables for tabfact...: 100%|██████████| 12779/12779 [00:14<00:00, 865.81it/s]"
     ]
    },
    {
     "name": "stdout",
     "output_type": "stream",
     "text": [
      "{'Table Retrieval Task': {'tabfact': TaskResultsDataModel(retrieval_performance=RetrievalPerformanceDataModel(k=50, accuracy=0.5280538383285077, precision=None, recall=None, retrieval_duration_process=14.43949, avg_retrieval_duration_process=0.00113, retrieval_duration_wall_clock=14.43585, avg_retrieval_duration_wall_clock=0.00113), downstream_task_performance=DownstreamTaskPerformanceDataModel(task_name=None, scores=None), embedding_statistics=EmbeddingStatisticsDataModel(embedding_creation_duration_process=4.73338, avg_embedding_creation_duration_process=0.00279, embedding_creation_duration_wall_clock=5.45755, avg_embedding_creation_duration_wall_clock=0.00322, embedding_size=0.0, avg_embedding_size=0.0))}}\n"
     ]
    },
    {
     "name": "stderr",
     "output_type": "stream",
     "text": [
      "\n"
     ]
    }
   ],
   "source": [
    "# tabfact\n",
    "bm25_no_title_results_tabfact_test = run_eval_for_top_ks(bm25_no_title, \"bm25_no_title\",top_ks, target_tabfact, \"tabfact\", \"test\")\n"
   ]
  },
  {
   "cell_type": "code",
   "execution_count": 19,
   "metadata": {},
   "outputs": [
    {
     "data": {
      "text/plain": [
       "[{'Table Retrieval Task': {'tabfact': TaskResultsDataModel(retrieval_performance=RetrievalPerformanceDataModel(k=1, accuracy=0.1437514672509586, precision=None, recall=None, retrieval_duration_process=8.33625, avg_retrieval_duration_process=0.00065, retrieval_duration_wall_clock=8.34226, avg_retrieval_duration_wall_clock=0.00065), downstream_task_performance=DownstreamTaskPerformanceDataModel(task_name=None, scores=None), embedding_statistics=EmbeddingStatisticsDataModel(embedding_creation_duration_process=5.00091, avg_embedding_creation_duration_process=0.00295, embedding_creation_duration_wall_clock=5.75909, avg_embedding_creation_duration_wall_clock=0.0034, embedding_size=2.50675, avg_embedding_size=0.00148))}},\n",
       " {'Table Retrieval Task': {'tabfact': TaskResultsDataModel(retrieval_performance=RetrievalPerformanceDataModel(k=5, accuracy=0.2644964394710071, precision=None, recall=None, retrieval_duration_process=9.00556, avg_retrieval_duration_process=0.0007, retrieval_duration_wall_clock=9.0024, avg_retrieval_duration_wall_clock=0.0007), downstream_task_performance=DownstreamTaskPerformanceDataModel(task_name=None, scores=None), embedding_statistics=EmbeddingStatisticsDataModel(embedding_creation_duration_process=4.62902, avg_embedding_creation_duration_process=0.00273, embedding_creation_duration_wall_clock=5.42987, avg_embedding_creation_duration_wall_clock=0.0032, embedding_size=0.0041, avg_embedding_size=0.0))}},\n",
       " {'Table Retrieval Task': {'tabfact': TaskResultsDataModel(retrieval_performance=RetrievalPerformanceDataModel(k=10, accuracy=0.3306205493387589, precision=None, recall=None, retrieval_duration_process=9.64418, avg_retrieval_duration_process=0.00075, retrieval_duration_wall_clock=9.64157, avg_retrieval_duration_wall_clock=0.00075), downstream_task_performance=DownstreamTaskPerformanceDataModel(task_name=None, scores=None), embedding_statistics=EmbeddingStatisticsDataModel(embedding_creation_duration_process=4.66728, avg_embedding_creation_duration_process=0.00275, embedding_creation_duration_wall_clock=5.5203, avg_embedding_creation_duration_wall_clock=0.00326, embedding_size=0.0041, avg_embedding_size=0.0))}},\n",
       " {'Table Retrieval Task': {'tabfact': TaskResultsDataModel(retrieval_performance=RetrievalPerformanceDataModel(k=25, accuracy=0.43438453713123093, precision=None, recall=None, retrieval_duration_process=11.42474, avg_retrieval_duration_process=0.00089, retrieval_duration_wall_clock=11.42185, avg_retrieval_duration_wall_clock=0.00089), downstream_task_performance=DownstreamTaskPerformanceDataModel(task_name=None, scores=None), embedding_statistics=EmbeddingStatisticsDataModel(embedding_creation_duration_process=4.64391, avg_embedding_creation_duration_process=0.00274, embedding_creation_duration_wall_clock=6.46478, avg_embedding_creation_duration_wall_clock=0.00381, embedding_size=0.01229, avg_embedding_size=1e-05))}},\n",
       " {'Table Retrieval Task': {'tabfact': TaskResultsDataModel(retrieval_performance=RetrievalPerformanceDataModel(k=50, accuracy=0.5280538383285077, precision=None, recall=None, retrieval_duration_process=14.43949, avg_retrieval_duration_process=0.00113, retrieval_duration_wall_clock=14.43585, avg_retrieval_duration_wall_clock=0.00113), downstream_task_performance=DownstreamTaskPerformanceDataModel(task_name=None, scores=None), embedding_statistics=EmbeddingStatisticsDataModel(embedding_creation_duration_process=4.73338, avg_embedding_creation_duration_process=0.00279, embedding_creation_duration_wall_clock=5.45755, avg_embedding_creation_duration_wall_clock=0.00322, embedding_size=0.0, avg_embedding_size=0.0))}}]"
      ]
     },
     "execution_count": 19,
     "metadata": {},
     "output_type": "execute_result"
    }
   ],
   "source": [
    "bm25_no_title_results_tabfact_test\n"
   ]
  },
  {
   "cell_type": "code",
   "execution_count": 20,
   "metadata": {},
   "outputs": [
    {
     "name": "stderr",
     "output_type": "stream",
     "text": [
      "1it [00:00, 798.15it/s]0:00<?, ?it/s]\n",
      "100%|██████████| 1/1 [00:00<00:00, 161.37it/s]\n",
      "Retrieving Tables for spider-test...: 100%|██████████| 2147/2147 [00:01<00:00, 1574.88it/s]\n"
     ]
    },
    {
     "name": "stdout",
     "output_type": "stream",
     "text": [
      "{'Table Retrieval Task': {'spider-test': TaskResultsDataModel(retrieval_performance=RetrievalPerformanceDataModel(k=1, accuracy=0.5002328830926874, precision=None, recall=None, retrieval_duration_process=1.32832, avg_retrieval_duration_process=0.00062, retrieval_duration_wall_clock=1.32781, avg_retrieval_duration_wall_clock=0.00062), downstream_task_performance=DownstreamTaskPerformanceDataModel(task_name=None, scores=None), embedding_statistics=EmbeddingStatisticsDataModel(embedding_creation_duration_process=4.49301, avg_embedding_creation_duration_process=0.02496, embedding_creation_duration_wall_clock=5.16247, avg_embedding_creation_duration_wall_clock=0.02868, embedding_size=8.4951, avg_embedding_size=0.0472))}}\n"
     ]
    },
    {
     "name": "stderr",
     "output_type": "stream",
     "text": [
      "1it [00:00, 530.99it/s]0:00<?, ?it/s]\n",
      "100%|██████████| 1/1 [00:00<00:00, 174.84it/s]\n",
      "Retrieving Tables for spider-test...: 100%|██████████| 2147/2147 [00:01<00:00, 1458.95it/s]\n"
     ]
    },
    {
     "name": "stdout",
     "output_type": "stream",
     "text": [
      "{'Table Retrieval Task': {'spider-test': TaskResultsDataModel(retrieval_performance=RetrievalPerformanceDataModel(k=5, accuracy=0.6837447601304145, precision=None, recall=None, retrieval_duration_process=1.43578, avg_retrieval_duration_process=0.00067, retrieval_duration_wall_clock=1.43543, avg_retrieval_duration_wall_clock=0.00067), downstream_task_performance=DownstreamTaskPerformanceDataModel(task_name=None, scores=None), embedding_statistics=EmbeddingStatisticsDataModel(embedding_creation_duration_process=4.12721, avg_embedding_creation_duration_process=0.02293, embedding_creation_duration_wall_clock=4.69225, avg_embedding_creation_duration_wall_clock=0.02607, embedding_size=0.0041, avg_embedding_size=2e-05))}}\n"
     ]
    },
    {
     "name": "stderr",
     "output_type": "stream",
     "text": [
      "1it [00:00, 525.87it/s]0:00<?, ?it/s]\n",
      "100%|██████████| 1/1 [00:00<00:00, 173.12it/s]\n",
      "Retrieving Tables for spider-test...: 100%|██████████| 2147/2147 [00:01<00:00, 1418.80it/s]\n"
     ]
    },
    {
     "name": "stdout",
     "output_type": "stream",
     "text": [
      "{'Table Retrieval Task': {'spider-test': TaskResultsDataModel(retrieval_performance=RetrievalPerformanceDataModel(k=10, accuracy=0.7238006520726595, precision=None, recall=None, retrieval_duration_process=1.47611, avg_retrieval_duration_process=0.00069, retrieval_duration_wall_clock=1.47538, avg_retrieval_duration_wall_clock=0.00069), downstream_task_performance=DownstreamTaskPerformanceDataModel(task_name=None, scores=None), embedding_statistics=EmbeddingStatisticsDataModel(embedding_creation_duration_process=4.13137, avg_embedding_creation_duration_process=0.02295, embedding_creation_duration_wall_clock=4.77748, avg_embedding_creation_duration_wall_clock=0.02654, embedding_size=0.0041, avg_embedding_size=2e-05))}}\n"
     ]
    },
    {
     "name": "stderr",
     "output_type": "stream",
     "text": [
      "1it [00:00, 396.92it/s]0:00<?, ?it/s]\n",
      "100%|██████████| 1/1 [00:00<00:00, 152.57it/s]\n",
      "Retrieving Tables for spider-test...: 100%|██████████| 2147/2147 [00:01<00:00, 1356.40it/s]\n"
     ]
    },
    {
     "name": "stdout",
     "output_type": "stream",
     "text": [
      "{'Table Retrieval Task': {'spider-test': TaskResultsDataModel(retrieval_performance=RetrievalPerformanceDataModel(k=25, accuracy=0.7480204937121565, precision=None, recall=None, retrieval_duration_process=1.54783, avg_retrieval_duration_process=0.00072, retrieval_duration_wall_clock=1.54744, avg_retrieval_duration_wall_clock=0.00072), downstream_task_performance=DownstreamTaskPerformanceDataModel(task_name=None, scores=None), embedding_statistics=EmbeddingStatisticsDataModel(embedding_creation_duration_process=4.20408, avg_embedding_creation_duration_process=0.02336, embedding_creation_duration_wall_clock=5.36681, avg_embedding_creation_duration_wall_clock=0.02982, embedding_size=0.0041, avg_embedding_size=2e-05))}}\n"
     ]
    },
    {
     "name": "stderr",
     "output_type": "stream",
     "text": [
      "1it [00:00, 679.35it/s]0:00<?, ?it/s]\n",
      "100%|██████████| 1/1 [00:00<00:00, 174.26it/s]\n",
      "Retrieving Tables for spider-test...: 100%|██████████| 2147/2147 [00:01<00:00, 1274.71it/s]"
     ]
    },
    {
     "name": "stdout",
     "output_type": "stream",
     "text": [
      "{'Table Retrieval Task': {'spider-test': TaskResultsDataModel(retrieval_performance=RetrievalPerformanceDataModel(k=50, accuracy=0.7540754541220307, precision=None, recall=None, retrieval_duration_process=1.64895, avg_retrieval_duration_process=0.00077, retrieval_duration_wall_clock=1.64847, avg_retrieval_duration_wall_clock=0.00077), downstream_task_performance=DownstreamTaskPerformanceDataModel(task_name=None, scores=None), embedding_statistics=EmbeddingStatisticsDataModel(embedding_creation_duration_process=4.12034, avg_embedding_creation_duration_process=0.02289, embedding_creation_duration_wall_clock=5.31444, avg_embedding_creation_duration_wall_clock=0.02952, embedding_size=0.0, avg_embedding_size=0.0))}}\n"
     ]
    },
    {
     "name": "stderr",
     "output_type": "stream",
     "text": [
      "\n"
     ]
    }
   ],
   "source": [
    "# spider\n",
    "bm25_no_title_results_spider_test = run_eval_for_top_ks(bm25_no_title, \"bm25_no_title\",top_ks, target_spider, \"spider\", \"test\")"
   ]
  },
  {
   "cell_type": "code",
   "execution_count": 21,
   "metadata": {},
   "outputs": [
    {
     "data": {
      "text/plain": [
       "[{'Table Retrieval Task': {'spider-test': TaskResultsDataModel(retrieval_performance=RetrievalPerformanceDataModel(k=1, accuracy=0.5002328830926874, precision=None, recall=None, retrieval_duration_process=1.32832, avg_retrieval_duration_process=0.00062, retrieval_duration_wall_clock=1.32781, avg_retrieval_duration_wall_clock=0.00062), downstream_task_performance=DownstreamTaskPerformanceDataModel(task_name=None, scores=None), embedding_statistics=EmbeddingStatisticsDataModel(embedding_creation_duration_process=4.49301, avg_embedding_creation_duration_process=0.02496, embedding_creation_duration_wall_clock=5.16247, avg_embedding_creation_duration_wall_clock=0.02868, embedding_size=8.4951, avg_embedding_size=0.0472))}},\n",
       " {'Table Retrieval Task': {'spider-test': TaskResultsDataModel(retrieval_performance=RetrievalPerformanceDataModel(k=5, accuracy=0.6837447601304145, precision=None, recall=None, retrieval_duration_process=1.43578, avg_retrieval_duration_process=0.00067, retrieval_duration_wall_clock=1.43543, avg_retrieval_duration_wall_clock=0.00067), downstream_task_performance=DownstreamTaskPerformanceDataModel(task_name=None, scores=None), embedding_statistics=EmbeddingStatisticsDataModel(embedding_creation_duration_process=4.12721, avg_embedding_creation_duration_process=0.02293, embedding_creation_duration_wall_clock=4.69225, avg_embedding_creation_duration_wall_clock=0.02607, embedding_size=0.0041, avg_embedding_size=2e-05))}},\n",
       " {'Table Retrieval Task': {'spider-test': TaskResultsDataModel(retrieval_performance=RetrievalPerformanceDataModel(k=10, accuracy=0.7238006520726595, precision=None, recall=None, retrieval_duration_process=1.47611, avg_retrieval_duration_process=0.00069, retrieval_duration_wall_clock=1.47538, avg_retrieval_duration_wall_clock=0.00069), downstream_task_performance=DownstreamTaskPerformanceDataModel(task_name=None, scores=None), embedding_statistics=EmbeddingStatisticsDataModel(embedding_creation_duration_process=4.13137, avg_embedding_creation_duration_process=0.02295, embedding_creation_duration_wall_clock=4.77748, avg_embedding_creation_duration_wall_clock=0.02654, embedding_size=0.0041, avg_embedding_size=2e-05))}},\n",
       " {'Table Retrieval Task': {'spider-test': TaskResultsDataModel(retrieval_performance=RetrievalPerformanceDataModel(k=25, accuracy=0.7480204937121565, precision=None, recall=None, retrieval_duration_process=1.54783, avg_retrieval_duration_process=0.00072, retrieval_duration_wall_clock=1.54744, avg_retrieval_duration_wall_clock=0.00072), downstream_task_performance=DownstreamTaskPerformanceDataModel(task_name=None, scores=None), embedding_statistics=EmbeddingStatisticsDataModel(embedding_creation_duration_process=4.20408, avg_embedding_creation_duration_process=0.02336, embedding_creation_duration_wall_clock=5.36681, avg_embedding_creation_duration_wall_clock=0.02982, embedding_size=0.0041, avg_embedding_size=2e-05))}},\n",
       " {'Table Retrieval Task': {'spider-test': TaskResultsDataModel(retrieval_performance=RetrievalPerformanceDataModel(k=50, accuracy=0.7540754541220307, precision=None, recall=None, retrieval_duration_process=1.64895, avg_retrieval_duration_process=0.00077, retrieval_duration_wall_clock=1.64847, avg_retrieval_duration_wall_clock=0.00077), downstream_task_performance=DownstreamTaskPerformanceDataModel(task_name=None, scores=None), embedding_statistics=EmbeddingStatisticsDataModel(embedding_creation_duration_process=4.12034, avg_embedding_creation_duration_process=0.02289, embedding_creation_duration_wall_clock=5.31444, avg_embedding_creation_duration_wall_clock=0.02952, embedding_size=0.0, avg_embedding_size=0.0))}}]"
      ]
     },
     "execution_count": 21,
     "metadata": {},
     "output_type": "execute_result"
    }
   ],
   "source": [
    "bm25_no_title_results_spider_test"
   ]
  },
  {
   "cell_type": "code",
   "execution_count": 22,
   "metadata": {},
   "outputs": [
    {
     "name": "stderr",
     "output_type": "stream",
     "text": [
      "1it [00:00, 856.16it/s]0:00<?, ?it/s]\n",
      "100%|██████████| 1/1 [00:00<00:00, 181.72it/s]\n",
      "Retrieving Tables for bird-validation...: 100%|██████████| 1534/1534 [00:01<00:00, 1434.95it/s]\n"
     ]
    },
    {
     "name": "stdout",
     "output_type": "stream",
     "text": [
      "{'Table Retrieval Task': {'bird-validation': TaskResultsDataModel(retrieval_performance=RetrievalPerformanceDataModel(k=1, accuracy=0.5345501955671447, precision=None, recall=None, retrieval_duration_process=1.04505, avg_retrieval_duration_process=0.00068, retrieval_duration_wall_clock=1.04474, avg_retrieval_duration_wall_clock=0.00068), downstream_task_performance=DownstreamTaskPerformanceDataModel(task_name=None, scores=None), embedding_statistics=EmbeddingStatisticsDataModel(embedding_creation_duration_process=30.32884, avg_embedding_creation_duration_process=0.40438, embedding_creation_duration_wall_clock=31.76885, avg_embedding_creation_duration_wall_clock=0.42358, embedding_size=1131.27834, avg_embedding_size=15.08371))}}\n"
     ]
    },
    {
     "name": "stderr",
     "output_type": "stream",
     "text": [
      "1it [00:00, 1142.86it/s]:00<?, ?it/s]\n",
      "100%|██████████| 1/1 [00:00<00:00, 180.74it/s]\n",
      "Retrieving Tables for bird-validation...: 100%|██████████| 1534/1534 [00:01<00:00, 1391.79it/s]\n"
     ]
    },
    {
     "name": "stdout",
     "output_type": "stream",
     "text": [
      "{'Table Retrieval Task': {'bird-validation': TaskResultsDataModel(retrieval_performance=RetrievalPerformanceDataModel(k=5, accuracy=0.6949152542372882, precision=None, recall=None, retrieval_duration_process=1.07708, avg_retrieval_duration_process=0.0007, retrieval_duration_wall_clock=1.07696, avg_retrieval_duration_wall_clock=0.0007), downstream_task_performance=DownstreamTaskPerformanceDataModel(task_name=None, scores=None), embedding_statistics=EmbeddingStatisticsDataModel(embedding_creation_duration_process=13.55176, avg_embedding_creation_duration_process=0.18069, embedding_creation_duration_wall_clock=14.9108, avg_embedding_creation_duration_wall_clock=0.19881, embedding_size=0.0, avg_embedding_size=0.0))}}\n"
     ]
    },
    {
     "name": "stderr",
     "output_type": "stream",
     "text": [
      "1it [00:00, 943.81it/s]0:00<?, ?it/s]\n",
      "100%|██████████| 1/1 [00:00<00:00, 187.26it/s]\n",
      "Retrieving Tables for bird-validation...: 100%|██████████| 1534/1534 [00:01<00:00, 1358.36it/s]\n"
     ]
    },
    {
     "name": "stdout",
     "output_type": "stream",
     "text": [
      "{'Table Retrieval Task': {'bird-validation': TaskResultsDataModel(retrieval_performance=RetrievalPerformanceDataModel(k=10, accuracy=0.7099087353324641, precision=None, recall=None, retrieval_duration_process=1.10313, avg_retrieval_duration_process=0.00072, retrieval_duration_wall_clock=1.10278, avg_retrieval_duration_wall_clock=0.00072), downstream_task_performance=DownstreamTaskPerformanceDataModel(task_name=None, scores=None), embedding_statistics=EmbeddingStatisticsDataModel(embedding_creation_duration_process=13.33322, avg_embedding_creation_duration_process=0.17778, embedding_creation_duration_wall_clock=14.06583, avg_embedding_creation_duration_wall_clock=0.18754, embedding_size=0.0, avg_embedding_size=0.0))}}\n"
     ]
    },
    {
     "name": "stderr",
     "output_type": "stream",
     "text": [
      "1it [00:00, 649.98it/s]0:00<?, ?it/s]\n",
      "100%|██████████| 1/1 [00:00<00:00, 191.66it/s]\n",
      "Retrieving Tables for bird-validation...: 100%|██████████| 1534/1534 [00:01<00:00, 1317.20it/s]\n"
     ]
    },
    {
     "name": "stdout",
     "output_type": "stream",
     "text": [
      "{'Table Retrieval Task': {'bird-validation': TaskResultsDataModel(retrieval_performance=RetrievalPerformanceDataModel(k=25, accuracy=0.7327249022164276, precision=None, recall=None, retrieval_duration_process=1.13936, avg_retrieval_duration_process=0.00074, retrieval_duration_wall_clock=1.1392, avg_retrieval_duration_wall_clock=0.00074), downstream_task_performance=DownstreamTaskPerformanceDataModel(task_name=None, scores=None), embedding_statistics=EmbeddingStatisticsDataModel(embedding_creation_duration_process=13.16411, avg_embedding_creation_duration_process=0.17552, embedding_creation_duration_wall_clock=14.41287, avg_embedding_creation_duration_wall_clock=0.19217, embedding_size=0.0, avg_embedding_size=0.0))}}\n"
     ]
    },
    {
     "name": "stderr",
     "output_type": "stream",
     "text": [
      "1it [00:00, 1233.98it/s]:00<?, ?it/s]\n",
      "100%|██████████| 1/1 [00:00<00:00, 184.18it/s]\n",
      "Retrieving Tables for bird-validation...: 100%|██████████| 1534/1534 [00:01<00:00, 1306.08it/s]"
     ]
    },
    {
     "name": "stdout",
     "output_type": "stream",
     "text": [
      "{'Table Retrieval Task': {'bird-validation': TaskResultsDataModel(retrieval_performance=RetrievalPerformanceDataModel(k=50, accuracy=0.7327249022164276, precision=None, recall=None, retrieval_duration_process=1.14868, avg_retrieval_duration_process=0.00075, retrieval_duration_wall_clock=1.14846, avg_retrieval_duration_wall_clock=0.00075), downstream_task_performance=DownstreamTaskPerformanceDataModel(task_name=None, scores=None), embedding_statistics=EmbeddingStatisticsDataModel(embedding_creation_duration_process=13.16831, avg_embedding_creation_duration_process=0.17558, embedding_creation_duration_wall_clock=13.91399, avg_embedding_creation_duration_wall_clock=0.18552, embedding_size=0.0, avg_embedding_size=0.0))}}\n"
     ]
    },
    {
     "name": "stderr",
     "output_type": "stream",
     "text": [
      "\n"
     ]
    }
   ],
   "source": [
    "bm25_no_title_results_bird_val = run_eval_for_top_ks(bm25_no_title, \"bm25_no_title\",top_ks, target_bird, \"bird\", \"validation\")"
   ]
  },
  {
   "cell_type": "code",
   "execution_count": 23,
   "metadata": {},
   "outputs": [
    {
     "data": {
      "text/plain": [
       "[{'Table Retrieval Task': {'bird-validation': TaskResultsDataModel(retrieval_performance=RetrievalPerformanceDataModel(k=1, accuracy=0.5345501955671447, precision=None, recall=None, retrieval_duration_process=1.04505, avg_retrieval_duration_process=0.00068, retrieval_duration_wall_clock=1.04474, avg_retrieval_duration_wall_clock=0.00068), downstream_task_performance=DownstreamTaskPerformanceDataModel(task_name=None, scores=None), embedding_statistics=EmbeddingStatisticsDataModel(embedding_creation_duration_process=30.32884, avg_embedding_creation_duration_process=0.40438, embedding_creation_duration_wall_clock=31.76885, avg_embedding_creation_duration_wall_clock=0.42358, embedding_size=1131.27834, avg_embedding_size=15.08371))}},\n",
       " {'Table Retrieval Task': {'bird-validation': TaskResultsDataModel(retrieval_performance=RetrievalPerformanceDataModel(k=5, accuracy=0.6949152542372882, precision=None, recall=None, retrieval_duration_process=1.07708, avg_retrieval_duration_process=0.0007, retrieval_duration_wall_clock=1.07696, avg_retrieval_duration_wall_clock=0.0007), downstream_task_performance=DownstreamTaskPerformanceDataModel(task_name=None, scores=None), embedding_statistics=EmbeddingStatisticsDataModel(embedding_creation_duration_process=13.55176, avg_embedding_creation_duration_process=0.18069, embedding_creation_duration_wall_clock=14.9108, avg_embedding_creation_duration_wall_clock=0.19881, embedding_size=0.0, avg_embedding_size=0.0))}},\n",
       " {'Table Retrieval Task': {'bird-validation': TaskResultsDataModel(retrieval_performance=RetrievalPerformanceDataModel(k=10, accuracy=0.7099087353324641, precision=None, recall=None, retrieval_duration_process=1.10313, avg_retrieval_duration_process=0.00072, retrieval_duration_wall_clock=1.10278, avg_retrieval_duration_wall_clock=0.00072), downstream_task_performance=DownstreamTaskPerformanceDataModel(task_name=None, scores=None), embedding_statistics=EmbeddingStatisticsDataModel(embedding_creation_duration_process=13.33322, avg_embedding_creation_duration_process=0.17778, embedding_creation_duration_wall_clock=14.06583, avg_embedding_creation_duration_wall_clock=0.18754, embedding_size=0.0, avg_embedding_size=0.0))}},\n",
       " {'Table Retrieval Task': {'bird-validation': TaskResultsDataModel(retrieval_performance=RetrievalPerformanceDataModel(k=25, accuracy=0.7327249022164276, precision=None, recall=None, retrieval_duration_process=1.13936, avg_retrieval_duration_process=0.00074, retrieval_duration_wall_clock=1.1392, avg_retrieval_duration_wall_clock=0.00074), downstream_task_performance=DownstreamTaskPerformanceDataModel(task_name=None, scores=None), embedding_statistics=EmbeddingStatisticsDataModel(embedding_creation_duration_process=13.16411, avg_embedding_creation_duration_process=0.17552, embedding_creation_duration_wall_clock=14.41287, avg_embedding_creation_duration_wall_clock=0.19217, embedding_size=0.0, avg_embedding_size=0.0))}},\n",
       " {'Table Retrieval Task': {'bird-validation': TaskResultsDataModel(retrieval_performance=RetrievalPerformanceDataModel(k=50, accuracy=0.7327249022164276, precision=None, recall=None, retrieval_duration_process=1.14868, avg_retrieval_duration_process=0.00075, retrieval_duration_wall_clock=1.14846, avg_retrieval_duration_wall_clock=0.00075), downstream_task_performance=DownstreamTaskPerformanceDataModel(task_name=None, scores=None), embedding_statistics=EmbeddingStatisticsDataModel(embedding_creation_duration_process=13.16831, avg_embedding_creation_duration_process=0.17558, embedding_creation_duration_wall_clock=13.91399, avg_embedding_creation_duration_wall_clock=0.18552, embedding_size=0.0, avg_embedding_size=0.0))}}]"
      ]
     },
     "execution_count": 23,
     "metadata": {},
     "output_type": "execute_result"
    }
   ],
   "source": [
    "bm25_no_title_results_bird_val"
   ]
  },
  {
   "cell_type": "markdown",
   "metadata": {},
   "source": [
    "# TFIDF with Title (Done)"
   ]
  },
  {
   "cell_type": "code",
   "execution_count": 24,
   "metadata": {},
   "outputs": [],
   "source": [
    "from target_benchmark.retrievers import OTTQARetriever\n",
    "tfidf_with_title = OTTQARetriever(encoding=\"tfidf\", withtitle=True)"
   ]
  },
  {
   "cell_type": "code",
   "execution_count": 25,
   "metadata": {},
   "outputs": [
    {
     "name": "stderr",
     "output_type": "stream",
     "text": [
      "1it [00:00, 53.69it/s]00:00<?, ?it/s]\n",
      "100%|██████████| 1/1 [00:00<00:00, 44.72it/s]\n",
      "Retrieving Tables for fetaqa...: 100%|██████████| 2003/2003 [00:01<00:00, 1441.86it/s]\n"
     ]
    },
    {
     "name": "stdout",
     "output_type": "stream",
     "text": [
      "{'Table Retrieval Task': {'fetaqa': TaskResultsDataModel(retrieval_performance=RetrievalPerformanceDataModel(k=1, accuracy=0.028457314028956564, precision=None, recall=None, retrieval_duration_process=1.36138, avg_retrieval_duration_process=0.00068, retrieval_duration_wall_clock=1.36092, avg_retrieval_duration_wall_clock=0.00068), downstream_task_performance=DownstreamTaskPerformanceDataModel(task_name=None, scores=None), embedding_statistics=EmbeddingStatisticsDataModel(embedding_creation_duration_process=5.06125, avg_embedding_creation_duration_process=0.00253, embedding_creation_duration_wall_clock=5.5986, avg_embedding_creation_duration_wall_clock=0.0028, embedding_size=205.4103, avg_embedding_size=0.10255))}}\n"
     ]
    },
    {
     "name": "stderr",
     "output_type": "stream",
     "text": [
      "1it [00:00, 64.33it/s]00:00<?, ?it/s]\n",
      "100%|██████████| 1/1 [00:00<00:00, 51.79it/s]\n",
      "Retrieving Tables for fetaqa...: 100%|██████████| 2003/2003 [00:01<00:00, 1414.47it/s]\n"
     ]
    },
    {
     "name": "stdout",
     "output_type": "stream",
     "text": [
      "{'Table Retrieval Task': {'fetaqa': TaskResultsDataModel(retrieval_performance=RetrievalPerformanceDataModel(k=5, accuracy=0.0619071392910634, precision=None, recall=None, retrieval_duration_process=1.38721, avg_retrieval_duration_process=0.00069, retrieval_duration_wall_clock=1.38631, avg_retrieval_duration_wall_clock=0.00069), downstream_task_performance=DownstreamTaskPerformanceDataModel(task_name=None, scores=None), embedding_statistics=EmbeddingStatisticsDataModel(embedding_creation_duration_process=4.70058, avg_embedding_creation_duration_process=0.00235, embedding_creation_duration_wall_clock=5.61996, avg_embedding_creation_duration_wall_clock=0.00281, embedding_size=-0.0041, avg_embedding_size=-0.0))}}\n"
     ]
    },
    {
     "name": "stderr",
     "output_type": "stream",
     "text": [
      "1it [00:00, 64.08it/s]00:00<?, ?it/s]\n",
      "100%|██████████| 1/1 [00:00<00:00, 51.12it/s]\n",
      "Retrieving Tables for fetaqa...: 100%|██████████| 2003/2003 [00:01<00:00, 1348.59it/s]\n"
     ]
    },
    {
     "name": "stdout",
     "output_type": "stream",
     "text": [
      "{'Table Retrieval Task': {'fetaqa': TaskResultsDataModel(retrieval_performance=RetrievalPerformanceDataModel(k=10, accuracy=0.08287568647029456, precision=None, recall=None, retrieval_duration_process=1.45489, avg_retrieval_duration_process=0.00073, retrieval_duration_wall_clock=1.4547, avg_retrieval_duration_wall_clock=0.00073), downstream_task_performance=DownstreamTaskPerformanceDataModel(task_name=None, scores=None), embedding_statistics=EmbeddingStatisticsDataModel(embedding_creation_duration_process=4.73281, avg_embedding_creation_duration_process=0.00236, embedding_creation_duration_wall_clock=5.64677, avg_embedding_creation_duration_wall_clock=0.00282, embedding_size=0.00819, avg_embedding_size=0.0))}}\n"
     ]
    },
    {
     "name": "stderr",
     "output_type": "stream",
     "text": [
      "1it [00:00, 60.58it/s]00:00<?, ?it/s]\n",
      "100%|██████████| 1/1 [00:00<00:00, 48.20it/s]\n",
      "Retrieving Tables for fetaqa...: 100%|██████████| 2003/2003 [00:01<00:00, 1196.97it/s]"
     ]
    },
    {
     "name": "stdout",
     "output_type": "stream",
     "text": [
      "{'Table Retrieval Task': {'fetaqa': TaskResultsDataModel(retrieval_performance=RetrievalPerformanceDataModel(k=25, accuracy=0.127309036445332, precision=None, recall=None, retrieval_duration_process=1.64097, avg_retrieval_duration_process=0.00082, retrieval_duration_wall_clock=1.64052, avg_retrieval_duration_wall_clock=0.00082), downstream_task_performance=DownstreamTaskPerformanceDataModel(task_name=None, scores=None), embedding_statistics=EmbeddingStatisticsDataModel(embedding_creation_duration_process=4.69514, avg_embedding_creation_duration_process=0.00234, embedding_creation_duration_wall_clock=5.58881, avg_embedding_creation_duration_wall_clock=0.00279, embedding_size=0.0, avg_embedding_size=0.0))}}\n"
     ]
    },
    {
     "name": "stderr",
     "output_type": "stream",
     "text": [
      "\n",
      "1it [00:00, 60.26it/s]00:00<?, ?it/s]\n",
      "100%|██████████| 1/1 [00:00<00:00, 49.21it/s]\n",
      "Retrieving Tables for fetaqa...: 100%|██████████| 2003/2003 [00:01<00:00, 1084.07it/s]"
     ]
    },
    {
     "name": "stdout",
     "output_type": "stream",
     "text": [
      "{'Table Retrieval Task': {'fetaqa': TaskResultsDataModel(retrieval_performance=RetrievalPerformanceDataModel(k=50, accuracy=0.17324013979031452, precision=None, recall=None, retrieval_duration_process=1.81415, avg_retrieval_duration_process=0.00091, retrieval_duration_wall_clock=1.81335, avg_retrieval_duration_wall_clock=0.00091), downstream_task_performance=DownstreamTaskPerformanceDataModel(task_name=None, scores=None), embedding_statistics=EmbeddingStatisticsDataModel(embedding_creation_duration_process=4.68082, avg_embedding_creation_duration_process=0.00234, embedding_creation_duration_wall_clock=5.6118, avg_embedding_creation_duration_wall_clock=0.0028, embedding_size=0.0041, avg_embedding_size=0.0))}}\n"
     ]
    },
    {
     "name": "stderr",
     "output_type": "stream",
     "text": [
      "\n"
     ]
    }
   ],
   "source": [
    "# fetaqa\n",
    "tfidf_with_title_results_fetaqa_test = run_eval_for_top_ks(tfidf_with_title, \"tfidf_with_title\",top_ks, target_fetaqa, \"fetaqa\", \"test\")"
   ]
  },
  {
   "cell_type": "code",
   "execution_count": 26,
   "metadata": {},
   "outputs": [
    {
     "data": {
      "text/plain": [
       "[{'Table Retrieval Task': {'fetaqa': TaskResultsDataModel(retrieval_performance=RetrievalPerformanceDataModel(k=1, accuracy=0.028457314028956564, precision=None, recall=None, retrieval_duration_process=1.36138, avg_retrieval_duration_process=0.00068, retrieval_duration_wall_clock=1.36092, avg_retrieval_duration_wall_clock=0.00068), downstream_task_performance=DownstreamTaskPerformanceDataModel(task_name=None, scores=None), embedding_statistics=EmbeddingStatisticsDataModel(embedding_creation_duration_process=5.06125, avg_embedding_creation_duration_process=0.00253, embedding_creation_duration_wall_clock=5.5986, avg_embedding_creation_duration_wall_clock=0.0028, embedding_size=205.4103, avg_embedding_size=0.10255))}},\n",
       " {'Table Retrieval Task': {'fetaqa': TaskResultsDataModel(retrieval_performance=RetrievalPerformanceDataModel(k=5, accuracy=0.0619071392910634, precision=None, recall=None, retrieval_duration_process=1.38721, avg_retrieval_duration_process=0.00069, retrieval_duration_wall_clock=1.38631, avg_retrieval_duration_wall_clock=0.00069), downstream_task_performance=DownstreamTaskPerformanceDataModel(task_name=None, scores=None), embedding_statistics=EmbeddingStatisticsDataModel(embedding_creation_duration_process=4.70058, avg_embedding_creation_duration_process=0.00235, embedding_creation_duration_wall_clock=5.61996, avg_embedding_creation_duration_wall_clock=0.00281, embedding_size=-0.0041, avg_embedding_size=-0.0))}},\n",
       " {'Table Retrieval Task': {'fetaqa': TaskResultsDataModel(retrieval_performance=RetrievalPerformanceDataModel(k=10, accuracy=0.08287568647029456, precision=None, recall=None, retrieval_duration_process=1.45489, avg_retrieval_duration_process=0.00073, retrieval_duration_wall_clock=1.4547, avg_retrieval_duration_wall_clock=0.00073), downstream_task_performance=DownstreamTaskPerformanceDataModel(task_name=None, scores=None), embedding_statistics=EmbeddingStatisticsDataModel(embedding_creation_duration_process=4.73281, avg_embedding_creation_duration_process=0.00236, embedding_creation_duration_wall_clock=5.64677, avg_embedding_creation_duration_wall_clock=0.00282, embedding_size=0.00819, avg_embedding_size=0.0))}},\n",
       " {'Table Retrieval Task': {'fetaqa': TaskResultsDataModel(retrieval_performance=RetrievalPerformanceDataModel(k=25, accuracy=0.127309036445332, precision=None, recall=None, retrieval_duration_process=1.64097, avg_retrieval_duration_process=0.00082, retrieval_duration_wall_clock=1.64052, avg_retrieval_duration_wall_clock=0.00082), downstream_task_performance=DownstreamTaskPerformanceDataModel(task_name=None, scores=None), embedding_statistics=EmbeddingStatisticsDataModel(embedding_creation_duration_process=4.69514, avg_embedding_creation_duration_process=0.00234, embedding_creation_duration_wall_clock=5.58881, avg_embedding_creation_duration_wall_clock=0.00279, embedding_size=0.0, avg_embedding_size=0.0))}},\n",
       " {'Table Retrieval Task': {'fetaqa': TaskResultsDataModel(retrieval_performance=RetrievalPerformanceDataModel(k=50, accuracy=0.17324013979031452, precision=None, recall=None, retrieval_duration_process=1.81415, avg_retrieval_duration_process=0.00091, retrieval_duration_wall_clock=1.81335, avg_retrieval_duration_wall_clock=0.00091), downstream_task_performance=DownstreamTaskPerformanceDataModel(task_name=None, scores=None), embedding_statistics=EmbeddingStatisticsDataModel(embedding_creation_duration_process=4.68082, avg_embedding_creation_duration_process=0.00234, embedding_creation_duration_wall_clock=5.6118, avg_embedding_creation_duration_wall_clock=0.0028, embedding_size=0.0041, avg_embedding_size=0.0))}}]"
      ]
     },
     "execution_count": 26,
     "metadata": {},
     "output_type": "execute_result"
    }
   ],
   "source": [
    "tfidf_with_title_results_fetaqa_test"
   ]
  },
  {
   "cell_type": "code",
   "execution_count": 27,
   "metadata": {},
   "outputs": [
    {
     "name": "stderr",
     "output_type": "stream",
     "text": [
      "1it [00:00, 158.28it/s]0:00<?, ?it/s]\n",
      "100%|██████████| 1/1 [00:00<00:00, 98.51it/s]\n",
      "Retrieving Tables for ottqa...: 100%|██████████| 2214/2214 [00:01<00:00, 1206.88it/s]"
     ]
    },
    {
     "name": "stdout",
     "output_type": "stream",
     "text": [
      "{'Table Retrieval Task': {'ottqa': TaskResultsDataModel(retrieval_performance=RetrievalPerformanceDataModel(k=1, accuracy=0.7276422764227642, precision=None, recall=None, retrieval_duration_process=1.80376, avg_retrieval_duration_process=0.00081, retrieval_duration_wall_clock=1.80308, avg_retrieval_duration_wall_clock=0.00081), downstream_task_performance=DownstreamTaskPerformanceDataModel(task_name=None, scores=None), embedding_statistics=EmbeddingStatisticsDataModel(embedding_creation_duration_process=3.91402, avg_embedding_creation_duration_process=0.00496, embedding_creation_duration_wall_clock=4.30802, avg_embedding_creation_duration_wall_clock=0.00546, embedding_size=202.1376, avg_embedding_size=0.25619))}}\n"
     ]
    },
    {
     "name": "stderr",
     "output_type": "stream",
     "text": [
      "\n",
      "1it [00:00, 151.22it/s]0:00<?, ?it/s]\n",
      "100%|██████████| 1/1 [00:00<00:00, 94.62it/s]\n",
      "Retrieving Tables for ottqa...: 100%|██████████| 2214/2214 [00:01<00:00, 1140.19it/s]\n"
     ]
    },
    {
     "name": "stdout",
     "output_type": "stream",
     "text": [
      "{'Table Retrieval Task': {'ottqa': TaskResultsDataModel(retrieval_performance=RetrievalPerformanceDataModel(k=5, accuracy=0.9164408310749774, precision=None, recall=None, retrieval_duration_process=1.9082, avg_retrieval_duration_process=0.00086, retrieval_duration_wall_clock=1.90783, avg_retrieval_duration_wall_clock=0.00086), downstream_task_performance=DownstreamTaskPerformanceDataModel(task_name=None, scores=None), embedding_statistics=EmbeddingStatisticsDataModel(embedding_creation_duration_process=3.98942, avg_embedding_creation_duration_process=0.00506, embedding_creation_duration_wall_clock=5.408, avg_embedding_creation_duration_wall_clock=0.00685, embedding_size=0.0, avg_embedding_size=0.0))}}\n"
     ]
    },
    {
     "name": "stderr",
     "output_type": "stream",
     "text": [
      "1it [00:00, 163.20it/s]0:00<?, ?it/s]\n",
      "100%|██████████| 1/1 [00:00<00:00, 93.51it/s]\n",
      "Retrieving Tables for ottqa...: 100%|██████████| 2214/2214 [00:02<00:00, 1099.89it/s]\n"
     ]
    },
    {
     "name": "stdout",
     "output_type": "stream",
     "text": [
      "{'Table Retrieval Task': {'ottqa': TaskResultsDataModel(retrieval_performance=RetrievalPerformanceDataModel(k=10, accuracy=0.950316169828365, precision=None, recall=None, retrieval_duration_process=1.98083, avg_retrieval_duration_process=0.00089, retrieval_duration_wall_clock=1.98028, avg_retrieval_duration_wall_clock=0.00089), downstream_task_performance=DownstreamTaskPerformanceDataModel(task_name=None, scores=None), embedding_statistics=EmbeddingStatisticsDataModel(embedding_creation_duration_process=3.82243, avg_embedding_creation_duration_process=0.00484, embedding_creation_duration_wall_clock=5.29645, avg_embedding_creation_duration_wall_clock=0.00671, embedding_size=0.0, avg_embedding_size=0.0))}}\n"
     ]
    },
    {
     "name": "stderr",
     "output_type": "stream",
     "text": [
      "1it [00:00, 135.19it/s]0:00<?, ?it/s]\n",
      "100%|██████████| 1/1 [00:00<00:00, 86.66it/s]\n",
      "Retrieving Tables for ottqa...: 100%|██████████| 2214/2214 [00:02<00:00, 926.13it/s]"
     ]
    },
    {
     "name": "stdout",
     "output_type": "stream",
     "text": [
      "{'Table Retrieval Task': {'ottqa': TaskResultsDataModel(retrieval_performance=RetrievalPerformanceDataModel(k=25, accuracy=0.971093044263776, precision=None, recall=None, retrieval_duration_process=2.34417, avg_retrieval_duration_process=0.00106, retrieval_duration_wall_clock=2.34334, avg_retrieval_duration_wall_clock=0.00106), downstream_task_performance=DownstreamTaskPerformanceDataModel(task_name=None, scores=None), embedding_statistics=EmbeddingStatisticsDataModel(embedding_creation_duration_process=4.00334, avg_embedding_creation_duration_process=0.00507, embedding_creation_duration_wall_clock=5.42635, avg_embedding_creation_duration_wall_clock=0.00688, embedding_size=0.0041, avg_embedding_size=1e-05))}}\n"
     ]
    },
    {
     "name": "stderr",
     "output_type": "stream",
     "text": [
      "\n",
      "1it [00:00, 154.33it/s]0:00<?, ?it/s]\n",
      "100%|██████████| 1/1 [00:00<00:00, 96.21it/s]\n",
      "Retrieving Tables for ottqa...: 100%|██████████| 2214/2214 [00:02<00:00, 770.84it/s]"
     ]
    },
    {
     "name": "stdout",
     "output_type": "stream",
     "text": [
      "{'Table Retrieval Task': {'ottqa': TaskResultsDataModel(retrieval_performance=RetrievalPerformanceDataModel(k=50, accuracy=0.978319783197832, precision=None, recall=None, retrieval_duration_process=2.81327, avg_retrieval_duration_process=0.00127, retrieval_duration_wall_clock=2.81218, avg_retrieval_duration_wall_clock=0.00127), downstream_task_performance=DownstreamTaskPerformanceDataModel(task_name=None, scores=None), embedding_statistics=EmbeddingStatisticsDataModel(embedding_creation_duration_process=3.7823, avg_embedding_creation_duration_process=0.00479, embedding_creation_duration_wall_clock=4.54304, avg_embedding_creation_duration_wall_clock=0.00576, embedding_size=0.0, avg_embedding_size=0.0))}}\n"
     ]
    },
    {
     "name": "stderr",
     "output_type": "stream",
     "text": [
      "\n"
     ]
    }
   ],
   "source": [
    "# ottqa\n",
    "tfidf_with_title_results_ottqa_val = run_eval_for_top_ks(tfidf_with_title, \"tfidf_with_title\", top_ks, target_ottqa, \"ottqa\", \"validation\")"
   ]
  },
  {
   "cell_type": "code",
   "execution_count": 28,
   "metadata": {},
   "outputs": [
    {
     "data": {
      "text/plain": [
       "[{'Table Retrieval Task': {'ottqa': TaskResultsDataModel(retrieval_performance=RetrievalPerformanceDataModel(k=1, accuracy=0.7276422764227642, precision=None, recall=None, retrieval_duration_process=1.80376, avg_retrieval_duration_process=0.00081, retrieval_duration_wall_clock=1.80308, avg_retrieval_duration_wall_clock=0.00081), downstream_task_performance=DownstreamTaskPerformanceDataModel(task_name=None, scores=None), embedding_statistics=EmbeddingStatisticsDataModel(embedding_creation_duration_process=3.91402, avg_embedding_creation_duration_process=0.00496, embedding_creation_duration_wall_clock=4.30802, avg_embedding_creation_duration_wall_clock=0.00546, embedding_size=202.1376, avg_embedding_size=0.25619))}},\n",
       " {'Table Retrieval Task': {'ottqa': TaskResultsDataModel(retrieval_performance=RetrievalPerformanceDataModel(k=5, accuracy=0.9164408310749774, precision=None, recall=None, retrieval_duration_process=1.9082, avg_retrieval_duration_process=0.00086, retrieval_duration_wall_clock=1.90783, avg_retrieval_duration_wall_clock=0.00086), downstream_task_performance=DownstreamTaskPerformanceDataModel(task_name=None, scores=None), embedding_statistics=EmbeddingStatisticsDataModel(embedding_creation_duration_process=3.98942, avg_embedding_creation_duration_process=0.00506, embedding_creation_duration_wall_clock=5.408, avg_embedding_creation_duration_wall_clock=0.00685, embedding_size=0.0, avg_embedding_size=0.0))}},\n",
       " {'Table Retrieval Task': {'ottqa': TaskResultsDataModel(retrieval_performance=RetrievalPerformanceDataModel(k=10, accuracy=0.950316169828365, precision=None, recall=None, retrieval_duration_process=1.98083, avg_retrieval_duration_process=0.00089, retrieval_duration_wall_clock=1.98028, avg_retrieval_duration_wall_clock=0.00089), downstream_task_performance=DownstreamTaskPerformanceDataModel(task_name=None, scores=None), embedding_statistics=EmbeddingStatisticsDataModel(embedding_creation_duration_process=3.82243, avg_embedding_creation_duration_process=0.00484, embedding_creation_duration_wall_clock=5.29645, avg_embedding_creation_duration_wall_clock=0.00671, embedding_size=0.0, avg_embedding_size=0.0))}},\n",
       " {'Table Retrieval Task': {'ottqa': TaskResultsDataModel(retrieval_performance=RetrievalPerformanceDataModel(k=25, accuracy=0.971093044263776, precision=None, recall=None, retrieval_duration_process=2.34417, avg_retrieval_duration_process=0.00106, retrieval_duration_wall_clock=2.34334, avg_retrieval_duration_wall_clock=0.00106), downstream_task_performance=DownstreamTaskPerformanceDataModel(task_name=None, scores=None), embedding_statistics=EmbeddingStatisticsDataModel(embedding_creation_duration_process=4.00334, avg_embedding_creation_duration_process=0.00507, embedding_creation_duration_wall_clock=5.42635, avg_embedding_creation_duration_wall_clock=0.00688, embedding_size=0.0041, avg_embedding_size=1e-05))}},\n",
       " {'Table Retrieval Task': {'ottqa': TaskResultsDataModel(retrieval_performance=RetrievalPerformanceDataModel(k=50, accuracy=0.978319783197832, precision=None, recall=None, retrieval_duration_process=2.81327, avg_retrieval_duration_process=0.00127, retrieval_duration_wall_clock=2.81218, avg_retrieval_duration_wall_clock=0.00127), downstream_task_performance=DownstreamTaskPerformanceDataModel(task_name=None, scores=None), embedding_statistics=EmbeddingStatisticsDataModel(embedding_creation_duration_process=3.7823, avg_embedding_creation_duration_process=0.00479, embedding_creation_duration_wall_clock=4.54304, avg_embedding_creation_duration_wall_clock=0.00576, embedding_size=0.0, avg_embedding_size=0.0))}}]"
      ]
     },
     "execution_count": 28,
     "metadata": {},
     "output_type": "execute_result"
    }
   ],
   "source": [
    "tfidf_with_title_results_ottqa_val"
   ]
  },
  {
   "cell_type": "code",
   "execution_count": 29,
   "metadata": {},
   "outputs": [
    {
     "name": "stderr",
     "output_type": "stream",
     "text": [
      "1it [00:00, 70.55it/s]00:00<?, ?it/s]\n",
      "100%|██████████| 1/1 [00:00<00:00, 54.52it/s]\n",
      "Retrieving Tables for tabfact...: 100%|██████████| 12779/12779 [00:08<00:00, 1490.33it/s]"
     ]
    },
    {
     "name": "stdout",
     "output_type": "stream",
     "text": [
      "{'Table Retrieval Task': {'tabfact': TaskResultsDataModel(retrieval_performance=RetrievalPerformanceDataModel(k=1, accuracy=0.14257766648407544, precision=None, recall=None, retrieval_duration_process=8.4027, avg_retrieval_duration_process=0.00066, retrieval_duration_wall_clock=8.39943, avg_retrieval_duration_wall_clock=0.00066), downstream_task_performance=DownstreamTaskPerformanceDataModel(task_name=None, scores=None), embedding_statistics=EmbeddingStatisticsDataModel(embedding_creation_duration_process=4.81435, avg_embedding_creation_duration_process=0.00284, embedding_creation_duration_wall_clock=5.29211, avg_embedding_creation_duration_wall_clock=0.00312, embedding_size=204.34534, avg_embedding_size=0.12056))}}\n"
     ]
    },
    {
     "name": "stderr",
     "output_type": "stream",
     "text": [
      "\n",
      "1it [00:00, 75.27it/s]00:00<?, ?it/s]\n",
      "100%|██████████| 1/1 [00:00<00:00, 58.44it/s]\n",
      "Retrieving Tables for tabfact...: 100%|██████████| 12779/12779 [00:11<00:00, 1150.82it/s]"
     ]
    },
    {
     "name": "stdout",
     "output_type": "stream",
     "text": [
      "{'Table Retrieval Task': {'tabfact': TaskResultsDataModel(retrieval_performance=RetrievalPerformanceDataModel(k=5, accuracy=0.2662962673135613, precision=None, recall=None, retrieval_duration_process=10.93745, avg_retrieval_duration_process=0.00086, retrieval_duration_wall_clock=10.92985, avg_retrieval_duration_wall_clock=0.00086), downstream_task_performance=DownstreamTaskPerformanceDataModel(task_name=None, scores=None), embedding_statistics=EmbeddingStatisticsDataModel(embedding_creation_duration_process=4.54446, avg_embedding_creation_duration_process=0.00268, embedding_creation_duration_wall_clock=5.43595, avg_embedding_creation_duration_wall_clock=0.00321, embedding_size=0.0041, avg_embedding_size=0.0))}}\n"
     ]
    },
    {
     "name": "stderr",
     "output_type": "stream",
     "text": [
      "\n",
      "1it [00:00, 76.15it/s]00:00<?, ?it/s]\n",
      "100%|██████████| 1/1 [00:00<00:00, 58.02it/s]\n",
      "Retrieving Tables for tabfact...: 100%|██████████| 12779/12779 [00:09<00:00, 1290.88it/s]"
     ]
    },
    {
     "name": "stdout",
     "output_type": "stream",
     "text": [
      "{'Table Retrieval Task': {'tabfact': TaskResultsDataModel(retrieval_performance=RetrievalPerformanceDataModel(k=10, accuracy=0.3359417794819626, precision=None, recall=None, retrieval_duration_process=9.71667, avg_retrieval_duration_process=0.00076, retrieval_duration_wall_clock=9.71472, avg_retrieval_duration_wall_clock=0.00076), downstream_task_performance=DownstreamTaskPerformanceDataModel(task_name=None, scores=None), embedding_statistics=EmbeddingStatisticsDataModel(embedding_creation_duration_process=4.46808, avg_embedding_creation_duration_process=0.00264, embedding_creation_duration_wall_clock=5.25714, avg_embedding_creation_duration_wall_clock=0.0031, embedding_size=0.0, avg_embedding_size=0.0))}}\n"
     ]
    },
    {
     "name": "stderr",
     "output_type": "stream",
     "text": [
      "\n",
      "1it [00:00, 99.01it/s]00:00<?, ?it/s]\n",
      "100%|██████████| 1/1 [00:00<00:00, 61.15it/s]\n",
      "Retrieving Tables for tabfact...: 100%|██████████| 12779/12779 [00:11<00:00, 1103.31it/s]\n"
     ]
    },
    {
     "name": "stdout",
     "output_type": "stream",
     "text": [
      "{'Table Retrieval Task': {'tabfact': TaskResultsDataModel(retrieval_performance=RetrievalPerformanceDataModel(k=25, accuracy=0.44041004773456455, precision=None, recall=None, retrieval_duration_process=11.37331, avg_retrieval_duration_process=0.00089, retrieval_duration_wall_clock=11.3707, avg_retrieval_duration_wall_clock=0.00089), downstream_task_performance=DownstreamTaskPerformanceDataModel(task_name=None, scores=None), embedding_statistics=EmbeddingStatisticsDataModel(embedding_creation_duration_process=4.56294, avg_embedding_creation_duration_process=0.00269, embedding_creation_duration_wall_clock=5.43681, avg_embedding_creation_duration_wall_clock=0.00321, embedding_size=0.0041, avg_embedding_size=0.0))}}\n"
     ]
    },
    {
     "name": "stderr",
     "output_type": "stream",
     "text": [
      "1it [00:00, 81.20it/s]00:00<?, ?it/s]\n",
      "100%|██████████| 1/1 [00:00<00:00, 63.03it/s]\n",
      "Retrieving Tables for tabfact...: 100%|██████████| 12779/12779 [00:14<00:00, 884.47it/s]"
     ]
    },
    {
     "name": "stdout",
     "output_type": "stream",
     "text": [
      "{'Table Retrieval Task': {'tabfact': TaskResultsDataModel(retrieval_performance=RetrievalPerformanceDataModel(k=50, accuracy=0.534940136160889, precision=None, recall=None, retrieval_duration_process=14.13931, avg_retrieval_duration_process=0.00111, retrieval_duration_wall_clock=14.13602, avg_retrieval_duration_wall_clock=0.00111), downstream_task_performance=DownstreamTaskPerformanceDataModel(task_name=None, scores=None), embedding_statistics=EmbeddingStatisticsDataModel(embedding_creation_duration_process=4.47593, avg_embedding_creation_duration_process=0.00264, embedding_creation_duration_wall_clock=5.35106, avg_embedding_creation_duration_wall_clock=0.00316, embedding_size=0.0041, avg_embedding_size=0.0))}}\n"
     ]
    },
    {
     "name": "stderr",
     "output_type": "stream",
     "text": [
      "\n"
     ]
    }
   ],
   "source": [
    "# tabfact\n",
    "tfidf_with_title_results_tabfact_test = run_eval_for_top_ks(tfidf_with_title, \"tfidf_with_title\", top_ks, target_tabfact, \"tabfact\", \"test\")"
   ]
  },
  {
   "cell_type": "code",
   "execution_count": 30,
   "metadata": {},
   "outputs": [
    {
     "data": {
      "text/plain": [
       "[{'Table Retrieval Task': {'tabfact': TaskResultsDataModel(retrieval_performance=RetrievalPerformanceDataModel(k=1, accuracy=0.14257766648407544, precision=None, recall=None, retrieval_duration_process=8.4027, avg_retrieval_duration_process=0.00066, retrieval_duration_wall_clock=8.39943, avg_retrieval_duration_wall_clock=0.00066), downstream_task_performance=DownstreamTaskPerformanceDataModel(task_name=None, scores=None), embedding_statistics=EmbeddingStatisticsDataModel(embedding_creation_duration_process=4.81435, avg_embedding_creation_duration_process=0.00284, embedding_creation_duration_wall_clock=5.29211, avg_embedding_creation_duration_wall_clock=0.00312, embedding_size=204.34534, avg_embedding_size=0.12056))}},\n",
       " {'Table Retrieval Task': {'tabfact': TaskResultsDataModel(retrieval_performance=RetrievalPerformanceDataModel(k=5, accuracy=0.2662962673135613, precision=None, recall=None, retrieval_duration_process=10.93745, avg_retrieval_duration_process=0.00086, retrieval_duration_wall_clock=10.92985, avg_retrieval_duration_wall_clock=0.00086), downstream_task_performance=DownstreamTaskPerformanceDataModel(task_name=None, scores=None), embedding_statistics=EmbeddingStatisticsDataModel(embedding_creation_duration_process=4.54446, avg_embedding_creation_duration_process=0.00268, embedding_creation_duration_wall_clock=5.43595, avg_embedding_creation_duration_wall_clock=0.00321, embedding_size=0.0041, avg_embedding_size=0.0))}},\n",
       " {'Table Retrieval Task': {'tabfact': TaskResultsDataModel(retrieval_performance=RetrievalPerformanceDataModel(k=10, accuracy=0.3359417794819626, precision=None, recall=None, retrieval_duration_process=9.71667, avg_retrieval_duration_process=0.00076, retrieval_duration_wall_clock=9.71472, avg_retrieval_duration_wall_clock=0.00076), downstream_task_performance=DownstreamTaskPerformanceDataModel(task_name=None, scores=None), embedding_statistics=EmbeddingStatisticsDataModel(embedding_creation_duration_process=4.46808, avg_embedding_creation_duration_process=0.00264, embedding_creation_duration_wall_clock=5.25714, avg_embedding_creation_duration_wall_clock=0.0031, embedding_size=0.0, avg_embedding_size=0.0))}},\n",
       " {'Table Retrieval Task': {'tabfact': TaskResultsDataModel(retrieval_performance=RetrievalPerformanceDataModel(k=25, accuracy=0.44041004773456455, precision=None, recall=None, retrieval_duration_process=11.37331, avg_retrieval_duration_process=0.00089, retrieval_duration_wall_clock=11.3707, avg_retrieval_duration_wall_clock=0.00089), downstream_task_performance=DownstreamTaskPerformanceDataModel(task_name=None, scores=None), embedding_statistics=EmbeddingStatisticsDataModel(embedding_creation_duration_process=4.56294, avg_embedding_creation_duration_process=0.00269, embedding_creation_duration_wall_clock=5.43681, avg_embedding_creation_duration_wall_clock=0.00321, embedding_size=0.0041, avg_embedding_size=0.0))}},\n",
       " {'Table Retrieval Task': {'tabfact': TaskResultsDataModel(retrieval_performance=RetrievalPerformanceDataModel(k=50, accuracy=0.534940136160889, precision=None, recall=None, retrieval_duration_process=14.13931, avg_retrieval_duration_process=0.00111, retrieval_duration_wall_clock=14.13602, avg_retrieval_duration_wall_clock=0.00111), downstream_task_performance=DownstreamTaskPerformanceDataModel(task_name=None, scores=None), embedding_statistics=EmbeddingStatisticsDataModel(embedding_creation_duration_process=4.47593, avg_embedding_creation_duration_process=0.00264, embedding_creation_duration_wall_clock=5.35106, avg_embedding_creation_duration_wall_clock=0.00316, embedding_size=0.0041, avg_embedding_size=0.0))}}]"
      ]
     },
     "execution_count": 30,
     "metadata": {},
     "output_type": "execute_result"
    }
   ],
   "source": [
    "tfidf_with_title_results_tabfact_test"
   ]
  },
  {
   "cell_type": "code",
   "execution_count": 31,
   "metadata": {},
   "outputs": [
    {
     "name": "stderr",
     "output_type": "stream",
     "text": [
      "1it [00:00, 324.03it/s]0:00<?, ?it/s]\n",
      "100%|██████████| 1/1 [00:00<00:00, 148.40it/s]\n",
      "Retrieving Tables for spider-test...: 100%|██████████| 2147/2147 [00:01<00:00, 1571.74it/s]\n"
     ]
    },
    {
     "name": "stdout",
     "output_type": "stream",
     "text": [
      "{'Table Retrieval Task': {'spider-test': TaskResultsDataModel(retrieval_performance=RetrievalPerformanceDataModel(k=1, accuracy=0.6222636236609222, precision=None, recall=None, retrieval_duration_process=1.33582, avg_retrieval_duration_process=0.00062, retrieval_duration_wall_clock=1.33532, avg_retrieval_duration_wall_clock=0.00062), downstream_task_performance=DownstreamTaskPerformanceDataModel(task_name=None, scores=None), embedding_statistics=EmbeddingStatisticsDataModel(embedding_creation_duration_process=4.30385, avg_embedding_creation_duration_process=0.02391, embedding_creation_duration_wall_clock=4.64087, avg_embedding_creation_duration_wall_clock=0.02578, embedding_size=209.79302, avg_embedding_size=1.16552))}}\n"
     ]
    },
    {
     "name": "stderr",
     "output_type": "stream",
     "text": [
      "1it [00:00, 477.11it/s]0:00<?, ?it/s]\n",
      "100%|██████████| 1/1 [00:00<00:00, 159.66it/s]\n",
      "Retrieving Tables for spider-test...: 100%|██████████| 2147/2147 [00:01<00:00, 1504.37it/s]\n"
     ]
    },
    {
     "name": "stdout",
     "output_type": "stream",
     "text": [
      "{'Table Retrieval Task': {'spider-test': TaskResultsDataModel(retrieval_performance=RetrievalPerformanceDataModel(k=5, accuracy=0.832324173265021, precision=None, recall=None, retrieval_duration_process=1.39669, avg_retrieval_duration_process=0.00065, retrieval_duration_wall_clock=1.39613, avg_retrieval_duration_wall_clock=0.00065), downstream_task_performance=DownstreamTaskPerformanceDataModel(task_name=None, scores=None), embedding_statistics=EmbeddingStatisticsDataModel(embedding_creation_duration_process=3.93865, avg_embedding_creation_duration_process=0.02188, embedding_creation_duration_wall_clock=4.6242, avg_embedding_creation_duration_wall_clock=0.02569, embedding_size=0.0041, avg_embedding_size=2e-05))}}\n"
     ]
    },
    {
     "name": "stderr",
     "output_type": "stream",
     "text": [
      "1it [00:00, 393.39it/s]0:00<?, ?it/s]\n",
      "100%|██████████| 1/1 [00:00<00:00, 150.34it/s]\n",
      "Retrieving Tables for spider-test...: 100%|██████████| 2147/2147 [00:01<00:00, 1415.61it/s]\n"
     ]
    },
    {
     "name": "stdout",
     "output_type": "stream",
     "text": [
      "{'Table Retrieval Task': {'spider-test': TaskResultsDataModel(retrieval_performance=RetrievalPerformanceDataModel(k=10, accuracy=0.856078248719143, precision=None, recall=None, retrieval_duration_process=1.48416, avg_retrieval_duration_process=0.00069, retrieval_duration_wall_clock=1.48365, avg_retrieval_duration_wall_clock=0.00069), downstream_task_performance=DownstreamTaskPerformanceDataModel(task_name=None, scores=None), embedding_statistics=EmbeddingStatisticsDataModel(embedding_creation_duration_process=3.96623, avg_embedding_creation_duration_process=0.02203, embedding_creation_duration_wall_clock=4.61306, avg_embedding_creation_duration_wall_clock=0.02563, embedding_size=0.0041, avg_embedding_size=2e-05))}}\n"
     ]
    },
    {
     "name": "stderr",
     "output_type": "stream",
     "text": [
      "1it [00:00, 480.89it/s]0:00<?, ?it/s]\n",
      "100%|██████████| 1/1 [00:00<00:00, 174.62it/s]\n",
      "Retrieving Tables for spider-test...: 100%|██████████| 2147/2147 [00:01<00:00, 1299.77it/s]\n"
     ]
    },
    {
     "name": "stdout",
     "output_type": "stream",
     "text": [
      "{'Table Retrieval Task': {'spider-test': TaskResultsDataModel(retrieval_performance=RetrievalPerformanceDataModel(k=25, accuracy=0.8737773637633908, precision=None, recall=None, retrieval_duration_process=1.61706, avg_retrieval_duration_process=0.00075, retrieval_duration_wall_clock=1.61672, avg_retrieval_duration_wall_clock=0.00075), downstream_task_performance=DownstreamTaskPerformanceDataModel(task_name=None, scores=None), embedding_statistics=EmbeddingStatisticsDataModel(embedding_creation_duration_process=3.8999, avg_embedding_creation_duration_process=0.02167, embedding_creation_duration_wall_clock=4.55038, avg_embedding_creation_duration_wall_clock=0.02528, embedding_size=0.0041, avg_embedding_size=2e-05))}}\n"
     ]
    },
    {
     "name": "stderr",
     "output_type": "stream",
     "text": [
      "1it [00:00, 666.50it/s]0:00<?, ?it/s]\n",
      "100%|██████████| 1/1 [00:00<00:00, 160.89it/s]\n",
      "Retrieving Tables for spider-test...: 100%|██████████| 2147/2147 [00:01<00:00, 1262.24it/s]"
     ]
    },
    {
     "name": "stdout",
     "output_type": "stream",
     "text": [
      "{'Table Retrieval Task': {'spider-test': TaskResultsDataModel(retrieval_performance=RetrievalPerformanceDataModel(k=50, accuracy=0.8789007918025151, precision=None, recall=None, retrieval_duration_process=1.6637, avg_retrieval_duration_process=0.00077, retrieval_duration_wall_clock=1.66327, avg_retrieval_duration_wall_clock=0.00077), downstream_task_performance=DownstreamTaskPerformanceDataModel(task_name=None, scores=None), embedding_statistics=EmbeddingStatisticsDataModel(embedding_creation_duration_process=3.94611, avg_embedding_creation_duration_process=0.02192, embedding_creation_duration_wall_clock=4.46929, avg_embedding_creation_duration_wall_clock=0.02483, embedding_size=0.0, avg_embedding_size=0.0))}}\n"
     ]
    },
    {
     "name": "stderr",
     "output_type": "stream",
     "text": [
      "\n"
     ]
    }
   ],
   "source": [
    "# spider\n",
    "tfidf_with_title_results_spider_test = run_eval_for_top_ks(tfidf_with_title, \"tfidf_with_title\",top_ks, target_spider, \"spider\", \"test\")"
   ]
  },
  {
   "cell_type": "code",
   "execution_count": 32,
   "metadata": {},
   "outputs": [
    {
     "data": {
      "text/plain": [
       "[{'Table Retrieval Task': {'spider-test': TaskResultsDataModel(retrieval_performance=RetrievalPerformanceDataModel(k=1, accuracy=0.6222636236609222, precision=None, recall=None, retrieval_duration_process=1.33582, avg_retrieval_duration_process=0.00062, retrieval_duration_wall_clock=1.33532, avg_retrieval_duration_wall_clock=0.00062), downstream_task_performance=DownstreamTaskPerformanceDataModel(task_name=None, scores=None), embedding_statistics=EmbeddingStatisticsDataModel(embedding_creation_duration_process=4.30385, avg_embedding_creation_duration_process=0.02391, embedding_creation_duration_wall_clock=4.64087, avg_embedding_creation_duration_wall_clock=0.02578, embedding_size=209.79302, avg_embedding_size=1.16552))}},\n",
       " {'Table Retrieval Task': {'spider-test': TaskResultsDataModel(retrieval_performance=RetrievalPerformanceDataModel(k=5, accuracy=0.832324173265021, precision=None, recall=None, retrieval_duration_process=1.39669, avg_retrieval_duration_process=0.00065, retrieval_duration_wall_clock=1.39613, avg_retrieval_duration_wall_clock=0.00065), downstream_task_performance=DownstreamTaskPerformanceDataModel(task_name=None, scores=None), embedding_statistics=EmbeddingStatisticsDataModel(embedding_creation_duration_process=3.93865, avg_embedding_creation_duration_process=0.02188, embedding_creation_duration_wall_clock=4.6242, avg_embedding_creation_duration_wall_clock=0.02569, embedding_size=0.0041, avg_embedding_size=2e-05))}},\n",
       " {'Table Retrieval Task': {'spider-test': TaskResultsDataModel(retrieval_performance=RetrievalPerformanceDataModel(k=10, accuracy=0.856078248719143, precision=None, recall=None, retrieval_duration_process=1.48416, avg_retrieval_duration_process=0.00069, retrieval_duration_wall_clock=1.48365, avg_retrieval_duration_wall_clock=0.00069), downstream_task_performance=DownstreamTaskPerformanceDataModel(task_name=None, scores=None), embedding_statistics=EmbeddingStatisticsDataModel(embedding_creation_duration_process=3.96623, avg_embedding_creation_duration_process=0.02203, embedding_creation_duration_wall_clock=4.61306, avg_embedding_creation_duration_wall_clock=0.02563, embedding_size=0.0041, avg_embedding_size=2e-05))}},\n",
       " {'Table Retrieval Task': {'spider-test': TaskResultsDataModel(retrieval_performance=RetrievalPerformanceDataModel(k=25, accuracy=0.8737773637633908, precision=None, recall=None, retrieval_duration_process=1.61706, avg_retrieval_duration_process=0.00075, retrieval_duration_wall_clock=1.61672, avg_retrieval_duration_wall_clock=0.00075), downstream_task_performance=DownstreamTaskPerformanceDataModel(task_name=None, scores=None), embedding_statistics=EmbeddingStatisticsDataModel(embedding_creation_duration_process=3.8999, avg_embedding_creation_duration_process=0.02167, embedding_creation_duration_wall_clock=4.55038, avg_embedding_creation_duration_wall_clock=0.02528, embedding_size=0.0041, avg_embedding_size=2e-05))}},\n",
       " {'Table Retrieval Task': {'spider-test': TaskResultsDataModel(retrieval_performance=RetrievalPerformanceDataModel(k=50, accuracy=0.8789007918025151, precision=None, recall=None, retrieval_duration_process=1.6637, avg_retrieval_duration_process=0.00077, retrieval_duration_wall_clock=1.66327, avg_retrieval_duration_wall_clock=0.00077), downstream_task_performance=DownstreamTaskPerformanceDataModel(task_name=None, scores=None), embedding_statistics=EmbeddingStatisticsDataModel(embedding_creation_duration_process=3.94611, avg_embedding_creation_duration_process=0.02192, embedding_creation_duration_wall_clock=4.46929, avg_embedding_creation_duration_wall_clock=0.02483, embedding_size=0.0, avg_embedding_size=0.0))}}]"
      ]
     },
     "execution_count": 32,
     "metadata": {},
     "output_type": "execute_result"
    }
   ],
   "source": [
    "tfidf_with_title_results_spider_test"
   ]
  },
  {
   "cell_type": "code",
   "execution_count": 33,
   "metadata": {},
   "outputs": [
    {
     "name": "stderr",
     "output_type": "stream",
     "text": [
      "1it [00:00, 770.87it/s]0:00<?, ?it/s]\n",
      "100%|██████████| 1/1 [00:00<00:00, 182.12it/s]\n",
      "Retrieving Tables for bird-validation...: 100%|██████████| 1534/1534 [00:01<00:00, 1424.17it/s]\n"
     ]
    },
    {
     "name": "stdout",
     "output_type": "stream",
     "text": [
      "{'Table Retrieval Task': {'bird-validation': TaskResultsDataModel(retrieval_performance=RetrievalPerformanceDataModel(k=1, accuracy=0.6401564537157758, precision=None, recall=None, retrieval_duration_process=1.05269, avg_retrieval_duration_process=0.00069, retrieval_duration_wall_clock=1.05228, avg_retrieval_duration_wall_clock=0.00069), downstream_task_performance=DownstreamTaskPerformanceDataModel(task_name=None, scores=None), embedding_statistics=EmbeddingStatisticsDataModel(embedding_creation_duration_process=30.01377, avg_embedding_creation_duration_process=0.40018, embedding_creation_duration_wall_clock=30.49064, avg_embedding_creation_duration_wall_clock=0.40654, embedding_size=1332.6377, avg_embedding_size=17.7685))}}\n"
     ]
    },
    {
     "name": "stderr",
     "output_type": "stream",
     "text": [
      "1it [00:00, 966.88it/s]0:00<?, ?it/s]\n",
      "100%|██████████| 1/1 [00:00<00:00, 183.71it/s]\n",
      "Retrieving Tables for bird-validation...: 100%|██████████| 1534/1534 [00:01<00:00, 1385.93it/s]\n"
     ]
    },
    {
     "name": "stdout",
     "output_type": "stream",
     "text": [
      "{'Table Retrieval Task': {'bird-validation': TaskResultsDataModel(retrieval_performance=RetrievalPerformanceDataModel(k=5, accuracy=0.833116036505867, precision=None, recall=None, retrieval_duration_process=1.08245, avg_retrieval_duration_process=0.00071, retrieval_duration_wall_clock=1.08218, avg_retrieval_duration_wall_clock=0.00071), downstream_task_performance=DownstreamTaskPerformanceDataModel(task_name=None, scores=None), embedding_statistics=EmbeddingStatisticsDataModel(embedding_creation_duration_process=13.08501, avg_embedding_creation_duration_process=0.17447, embedding_creation_duration_wall_clock=14.59024, avg_embedding_creation_duration_wall_clock=0.19454, embedding_size=0.32358, avg_embedding_size=0.00431))}}\n"
     ]
    },
    {
     "name": "stderr",
     "output_type": "stream",
     "text": [
      "1it [00:00, 997.46it/s]0:00<?, ?it/s]\n",
      "100%|██████████| 1/1 [00:00<00:00, 175.33it/s]\n",
      "Retrieving Tables for bird-validation...: 100%|██████████| 1534/1534 [00:01<00:00, 1353.59it/s]\n"
     ]
    },
    {
     "name": "stdout",
     "output_type": "stream",
     "text": [
      "{'Table Retrieval Task': {'bird-validation': TaskResultsDataModel(retrieval_performance=RetrievalPerformanceDataModel(k=10, accuracy=0.8461538461538461, precision=None, recall=None, retrieval_duration_process=1.10678, avg_retrieval_duration_process=0.00072, retrieval_duration_wall_clock=1.10636, avg_retrieval_duration_wall_clock=0.00072), downstream_task_performance=DownstreamTaskPerformanceDataModel(task_name=None, scores=None), embedding_statistics=EmbeddingStatisticsDataModel(embedding_creation_duration_process=12.85712, avg_embedding_creation_duration_process=0.17143, embedding_creation_duration_wall_clock=13.88064, avg_embedding_creation_duration_wall_clock=0.18508, embedding_size=0.0, avg_embedding_size=0.0))}}\n"
     ]
    },
    {
     "name": "stderr",
     "output_type": "stream",
     "text": [
      "1it [00:00, 967.77it/s]0:00<?, ?it/s]\n",
      "100%|██████████| 1/1 [00:00<00:00, 180.23it/s]\n",
      "Retrieving Tables for bird-validation...: 100%|██████████| 1534/1534 [00:01<00:00, 1358.16it/s]\n"
     ]
    },
    {
     "name": "stdout",
     "output_type": "stream",
     "text": [
      "{'Table Retrieval Task': {'bird-validation': TaskResultsDataModel(retrieval_performance=RetrievalPerformanceDataModel(k=25, accuracy=0.8585397653194263, precision=None, recall=None, retrieval_duration_process=1.09735, avg_retrieval_duration_process=0.00072, retrieval_duration_wall_clock=1.09706, avg_retrieval_duration_wall_clock=0.00072), downstream_task_performance=DownstreamTaskPerformanceDataModel(task_name=None, scores=None), embedding_statistics=EmbeddingStatisticsDataModel(embedding_creation_duration_process=12.92022, avg_embedding_creation_duration_process=0.17227, embedding_creation_duration_wall_clock=13.62799, avg_embedding_creation_duration_wall_clock=0.18171, embedding_size=-0.00819, avg_embedding_size=-0.00011))}}\n"
     ]
    },
    {
     "name": "stderr",
     "output_type": "stream",
     "text": [
      "1it [00:00, 1280.70it/s]:00<?, ?it/s]\n",
      "100%|██████████| 1/1 [00:00<00:00, 188.85it/s]\n",
      "Retrieving Tables for bird-validation...: 100%|██████████| 1534/1534 [00:01<00:00, 1318.52it/s]"
     ]
    },
    {
     "name": "stdout",
     "output_type": "stream",
     "text": [
      "{'Table Retrieval Task': {'bird-validation': TaskResultsDataModel(retrieval_performance=RetrievalPerformanceDataModel(k=50, accuracy=0.8585397653194263, precision=None, recall=None, retrieval_duration_process=1.13806, avg_retrieval_duration_process=0.00074, retrieval_duration_wall_clock=1.1378, avg_retrieval_duration_wall_clock=0.00074), downstream_task_performance=DownstreamTaskPerformanceDataModel(task_name=None, scores=None), embedding_statistics=EmbeddingStatisticsDataModel(embedding_creation_duration_process=12.87588, avg_embedding_creation_duration_process=0.17168, embedding_creation_duration_wall_clock=13.59564, avg_embedding_creation_duration_wall_clock=0.18128, embedding_size=0.0, avg_embedding_size=0.0))}}\n"
     ]
    },
    {
     "name": "stderr",
     "output_type": "stream",
     "text": [
      "\n"
     ]
    }
   ],
   "source": [
    "tfidf_with_title_results_bird_val = run_eval_for_top_ks(tfidf_with_title, \"tfidf_with_title\",top_ks, target_bird, \"bird\", \"validation\")"
   ]
  },
  {
   "cell_type": "code",
   "execution_count": 34,
   "metadata": {},
   "outputs": [
    {
     "data": {
      "text/plain": [
       "[{'Table Retrieval Task': {'bird-validation': TaskResultsDataModel(retrieval_performance=RetrievalPerformanceDataModel(k=1, accuracy=0.6401564537157758, precision=None, recall=None, retrieval_duration_process=1.05269, avg_retrieval_duration_process=0.00069, retrieval_duration_wall_clock=1.05228, avg_retrieval_duration_wall_clock=0.00069), downstream_task_performance=DownstreamTaskPerformanceDataModel(task_name=None, scores=None), embedding_statistics=EmbeddingStatisticsDataModel(embedding_creation_duration_process=30.01377, avg_embedding_creation_duration_process=0.40018, embedding_creation_duration_wall_clock=30.49064, avg_embedding_creation_duration_wall_clock=0.40654, embedding_size=1332.6377, avg_embedding_size=17.7685))}},\n",
       " {'Table Retrieval Task': {'bird-validation': TaskResultsDataModel(retrieval_performance=RetrievalPerformanceDataModel(k=5, accuracy=0.833116036505867, precision=None, recall=None, retrieval_duration_process=1.08245, avg_retrieval_duration_process=0.00071, retrieval_duration_wall_clock=1.08218, avg_retrieval_duration_wall_clock=0.00071), downstream_task_performance=DownstreamTaskPerformanceDataModel(task_name=None, scores=None), embedding_statistics=EmbeddingStatisticsDataModel(embedding_creation_duration_process=13.08501, avg_embedding_creation_duration_process=0.17447, embedding_creation_duration_wall_clock=14.59024, avg_embedding_creation_duration_wall_clock=0.19454, embedding_size=0.32358, avg_embedding_size=0.00431))}},\n",
       " {'Table Retrieval Task': {'bird-validation': TaskResultsDataModel(retrieval_performance=RetrievalPerformanceDataModel(k=10, accuracy=0.8461538461538461, precision=None, recall=None, retrieval_duration_process=1.10678, avg_retrieval_duration_process=0.00072, retrieval_duration_wall_clock=1.10636, avg_retrieval_duration_wall_clock=0.00072), downstream_task_performance=DownstreamTaskPerformanceDataModel(task_name=None, scores=None), embedding_statistics=EmbeddingStatisticsDataModel(embedding_creation_duration_process=12.85712, avg_embedding_creation_duration_process=0.17143, embedding_creation_duration_wall_clock=13.88064, avg_embedding_creation_duration_wall_clock=0.18508, embedding_size=0.0, avg_embedding_size=0.0))}},\n",
       " {'Table Retrieval Task': {'bird-validation': TaskResultsDataModel(retrieval_performance=RetrievalPerformanceDataModel(k=25, accuracy=0.8585397653194263, precision=None, recall=None, retrieval_duration_process=1.09735, avg_retrieval_duration_process=0.00072, retrieval_duration_wall_clock=1.09706, avg_retrieval_duration_wall_clock=0.00072), downstream_task_performance=DownstreamTaskPerformanceDataModel(task_name=None, scores=None), embedding_statistics=EmbeddingStatisticsDataModel(embedding_creation_duration_process=12.92022, avg_embedding_creation_duration_process=0.17227, embedding_creation_duration_wall_clock=13.62799, avg_embedding_creation_duration_wall_clock=0.18171, embedding_size=-0.00819, avg_embedding_size=-0.00011))}},\n",
       " {'Table Retrieval Task': {'bird-validation': TaskResultsDataModel(retrieval_performance=RetrievalPerformanceDataModel(k=50, accuracy=0.8585397653194263, precision=None, recall=None, retrieval_duration_process=1.13806, avg_retrieval_duration_process=0.00074, retrieval_duration_wall_clock=1.1378, avg_retrieval_duration_wall_clock=0.00074), downstream_task_performance=DownstreamTaskPerformanceDataModel(task_name=None, scores=None), embedding_statistics=EmbeddingStatisticsDataModel(embedding_creation_duration_process=12.87588, avg_embedding_creation_duration_process=0.17168, embedding_creation_duration_wall_clock=13.59564, avg_embedding_creation_duration_wall_clock=0.18128, embedding_size=0.0, avg_embedding_size=0.0))}}]"
      ]
     },
     "execution_count": 34,
     "metadata": {},
     "output_type": "execute_result"
    }
   ],
   "source": [
    "tfidf_with_title_results_bird_val"
   ]
  },
  {
   "cell_type": "markdown",
   "metadata": {},
   "source": [
    "# TFIDF without Title (Done)"
   ]
  },
  {
   "cell_type": "code",
   "execution_count": 35,
   "metadata": {},
   "outputs": [],
   "source": [
    "from target_benchmark.retrievers import OTTQARetriever\n",
    "tfidf_no_title = OTTQARetriever(encoding=\"tfidf\", withtitle=False)"
   ]
  },
  {
   "cell_type": "code",
   "execution_count": 36,
   "metadata": {},
   "outputs": [
    {
     "name": "stderr",
     "output_type": "stream",
     "text": [
      "1it [00:00, 55.57it/s]00:00<?, ?it/s]\n",
      "100%|██████████| 1/1 [00:00<00:00, 45.07it/s]\n",
      "Retrieving Tables for fetaqa...: 100%|██████████| 2003/2003 [00:01<00:00, 1511.25it/s]"
     ]
    },
    {
     "name": "stdout",
     "output_type": "stream",
     "text": [
      "{'Table Retrieval Task': {'fetaqa': TaskResultsDataModel(retrieval_performance=RetrievalPerformanceDataModel(k=1, accuracy=0.028457314028956564, precision=None, recall=None, retrieval_duration_process=1.29734, avg_retrieval_duration_process=0.00065, retrieval_duration_wall_clock=1.29707, avg_retrieval_duration_wall_clock=0.00065), downstream_task_performance=DownstreamTaskPerformanceDataModel(task_name=None, scores=None), embedding_statistics=EmbeddingStatisticsDataModel(embedding_creation_duration_process=5.0822, avg_embedding_creation_duration_process=0.00254, embedding_creation_duration_wall_clock=5.9209, avg_embedding_creation_duration_wall_clock=0.00296, embedding_size=3.40378, avg_embedding_size=0.0017))}}\n"
     ]
    },
    {
     "name": "stderr",
     "output_type": "stream",
     "text": [
      "\n",
      "1it [00:00, 66.56it/s]00:00<?, ?it/s]\n",
      "100%|██████████| 1/1 [00:00<00:00, 52.77it/s]\n",
      "Retrieving Tables for fetaqa...: 100%|██████████| 2003/2003 [00:01<00:00, 1374.33it/s]"
     ]
    },
    {
     "name": "stdout",
     "output_type": "stream",
     "text": [
      "{'Table Retrieval Task': {'fetaqa': TaskResultsDataModel(retrieval_performance=RetrievalPerformanceDataModel(k=5, accuracy=0.06140788816774838, precision=None, recall=None, retrieval_duration_process=1.39665, avg_retrieval_duration_process=0.0007, retrieval_duration_wall_clock=1.39631, avg_retrieval_duration_wall_clock=0.0007), downstream_task_performance=DownstreamTaskPerformanceDataModel(task_name=None, scores=None), embedding_statistics=EmbeddingStatisticsDataModel(embedding_creation_duration_process=4.66014, avg_embedding_creation_duration_process=0.00233, embedding_creation_duration_wall_clock=5.31823, avg_embedding_creation_duration_wall_clock=0.00266, embedding_size=0.0041, avg_embedding_size=0.0))}}\n"
     ]
    },
    {
     "name": "stderr",
     "output_type": "stream",
     "text": [
      "\n",
      "1it [00:00, 66.20it/s]00:00<?, ?it/s]\n",
      "100%|██████████| 1/1 [00:00<00:00, 53.84it/s]\n",
      "Retrieving Tables for fetaqa...: 100%|██████████| 2003/2003 [00:01<00:00, 1351.94it/s]\n"
     ]
    },
    {
     "name": "stdout",
     "output_type": "stream",
     "text": [
      "{'Table Retrieval Task': {'fetaqa': TaskResultsDataModel(retrieval_performance=RetrievalPerformanceDataModel(k=10, accuracy=0.08337493759360959, precision=None, recall=None, retrieval_duration_process=1.45164, avg_retrieval_duration_process=0.00072, retrieval_duration_wall_clock=1.45109, avg_retrieval_duration_wall_clock=0.00072), downstream_task_performance=DownstreamTaskPerformanceDataModel(task_name=None, scores=None), embedding_statistics=EmbeddingStatisticsDataModel(embedding_creation_duration_process=4.72356, avg_embedding_creation_duration_process=0.00236, embedding_creation_duration_wall_clock=5.6297, avg_embedding_creation_duration_wall_clock=0.00281, embedding_size=0.0041, avg_embedding_size=0.0))}}\n"
     ]
    },
    {
     "name": "stderr",
     "output_type": "stream",
     "text": [
      "1it [00:00, 73.81it/s]00:00<?, ?it/s]\n",
      "100%|██████████| 1/1 [00:00<00:00, 58.28it/s]\n",
      "Retrieving Tables for fetaqa...: 100%|██████████| 2003/2003 [00:01<00:00, 1243.29it/s]\n"
     ]
    },
    {
     "name": "stdout",
     "output_type": "stream",
     "text": [
      "{'Table Retrieval Task': {'fetaqa': TaskResultsDataModel(retrieval_performance=RetrievalPerformanceDataModel(k=25, accuracy=0.12631053419870195, precision=None, recall=None, retrieval_duration_process=1.57759, avg_retrieval_duration_process=0.00079, retrieval_duration_wall_clock=1.57732, avg_retrieval_duration_wall_clock=0.00079), downstream_task_performance=DownstreamTaskPerformanceDataModel(task_name=None, scores=None), embedding_statistics=EmbeddingStatisticsDataModel(embedding_creation_duration_process=4.65139, avg_embedding_creation_duration_process=0.00232, embedding_creation_duration_wall_clock=5.49973, avg_embedding_creation_duration_wall_clock=0.00275, embedding_size=0.0041, avg_embedding_size=0.0))}}\n"
     ]
    },
    {
     "name": "stderr",
     "output_type": "stream",
     "text": [
      "1it [00:00, 68.37it/s]00:00<?, ?it/s]\n",
      "100%|██████████| 1/1 [00:00<00:00, 53.93it/s]\n",
      "Retrieving Tables for fetaqa...: 100%|██████████| 2003/2003 [00:01<00:00, 1107.97it/s]\n"
     ]
    },
    {
     "name": "stdout",
     "output_type": "stream",
     "text": [
      "{'Table Retrieval Task': {'fetaqa': TaskResultsDataModel(retrieval_performance=RetrievalPerformanceDataModel(k=50, accuracy=0.1727408886669995, precision=None, recall=None, retrieval_duration_process=1.77339, avg_retrieval_duration_process=0.00089, retrieval_duration_wall_clock=1.77316, avg_retrieval_duration_wall_clock=0.00089), downstream_task_performance=DownstreamTaskPerformanceDataModel(task_name=None, scores=None), embedding_statistics=EmbeddingStatisticsDataModel(embedding_creation_duration_process=4.71641, avg_embedding_creation_duration_process=0.00235, embedding_creation_duration_wall_clock=5.5802, avg_embedding_creation_duration_wall_clock=0.00279, embedding_size=0.0041, avg_embedding_size=0.0))}}\n"
     ]
    }
   ],
   "source": [
    "# fetaqa\n",
    "tfidf_no_title_results_fetaqa_test = run_eval_for_top_ks(tfidf_no_title, \"tfidf_no_title\", top_ks, target_fetaqa, \"fetaqa\", \"test\")"
   ]
  },
  {
   "cell_type": "code",
   "execution_count": 37,
   "metadata": {},
   "outputs": [
    {
     "data": {
      "text/plain": [
       "[{'Table Retrieval Task': {'fetaqa': TaskResultsDataModel(retrieval_performance=RetrievalPerformanceDataModel(k=1, accuracy=0.028457314028956564, precision=None, recall=None, retrieval_duration_process=1.29734, avg_retrieval_duration_process=0.00065, retrieval_duration_wall_clock=1.29707, avg_retrieval_duration_wall_clock=0.00065), downstream_task_performance=DownstreamTaskPerformanceDataModel(task_name=None, scores=None), embedding_statistics=EmbeddingStatisticsDataModel(embedding_creation_duration_process=5.0822, avg_embedding_creation_duration_process=0.00254, embedding_creation_duration_wall_clock=5.9209, avg_embedding_creation_duration_wall_clock=0.00296, embedding_size=3.40378, avg_embedding_size=0.0017))}},\n",
       " {'Table Retrieval Task': {'fetaqa': TaskResultsDataModel(retrieval_performance=RetrievalPerformanceDataModel(k=5, accuracy=0.06140788816774838, precision=None, recall=None, retrieval_duration_process=1.39665, avg_retrieval_duration_process=0.0007, retrieval_duration_wall_clock=1.39631, avg_retrieval_duration_wall_clock=0.0007), downstream_task_performance=DownstreamTaskPerformanceDataModel(task_name=None, scores=None), embedding_statistics=EmbeddingStatisticsDataModel(embedding_creation_duration_process=4.66014, avg_embedding_creation_duration_process=0.00233, embedding_creation_duration_wall_clock=5.31823, avg_embedding_creation_duration_wall_clock=0.00266, embedding_size=0.0041, avg_embedding_size=0.0))}},\n",
       " {'Table Retrieval Task': {'fetaqa': TaskResultsDataModel(retrieval_performance=RetrievalPerformanceDataModel(k=10, accuracy=0.08337493759360959, precision=None, recall=None, retrieval_duration_process=1.45164, avg_retrieval_duration_process=0.00072, retrieval_duration_wall_clock=1.45109, avg_retrieval_duration_wall_clock=0.00072), downstream_task_performance=DownstreamTaskPerformanceDataModel(task_name=None, scores=None), embedding_statistics=EmbeddingStatisticsDataModel(embedding_creation_duration_process=4.72356, avg_embedding_creation_duration_process=0.00236, embedding_creation_duration_wall_clock=5.6297, avg_embedding_creation_duration_wall_clock=0.00281, embedding_size=0.0041, avg_embedding_size=0.0))}},\n",
       " {'Table Retrieval Task': {'fetaqa': TaskResultsDataModel(retrieval_performance=RetrievalPerformanceDataModel(k=25, accuracy=0.12631053419870195, precision=None, recall=None, retrieval_duration_process=1.57759, avg_retrieval_duration_process=0.00079, retrieval_duration_wall_clock=1.57732, avg_retrieval_duration_wall_clock=0.00079), downstream_task_performance=DownstreamTaskPerformanceDataModel(task_name=None, scores=None), embedding_statistics=EmbeddingStatisticsDataModel(embedding_creation_duration_process=4.65139, avg_embedding_creation_duration_process=0.00232, embedding_creation_duration_wall_clock=5.49973, avg_embedding_creation_duration_wall_clock=0.00275, embedding_size=0.0041, avg_embedding_size=0.0))}},\n",
       " {'Table Retrieval Task': {'fetaqa': TaskResultsDataModel(retrieval_performance=RetrievalPerformanceDataModel(k=50, accuracy=0.1727408886669995, precision=None, recall=None, retrieval_duration_process=1.77339, avg_retrieval_duration_process=0.00089, retrieval_duration_wall_clock=1.77316, avg_retrieval_duration_wall_clock=0.00089), downstream_task_performance=DownstreamTaskPerformanceDataModel(task_name=None, scores=None), embedding_statistics=EmbeddingStatisticsDataModel(embedding_creation_duration_process=4.71641, avg_embedding_creation_duration_process=0.00235, embedding_creation_duration_wall_clock=5.5802, avg_embedding_creation_duration_wall_clock=0.00279, embedding_size=0.0041, avg_embedding_size=0.0))}}]"
      ]
     },
     "execution_count": 37,
     "metadata": {},
     "output_type": "execute_result"
    }
   ],
   "source": [
    "tfidf_no_title_results_fetaqa_test"
   ]
  },
  {
   "cell_type": "code",
   "execution_count": 38,
   "metadata": {},
   "outputs": [
    {
     "name": "stderr",
     "output_type": "stream",
     "text": [
      "1it [00:00, 172.03it/s]0:00<?, ?it/s]\n",
      "100%|██████████| 1/1 [00:00<00:00, 100.96it/s]\n",
      "Retrieving Tables for ottqa...: 100%|██████████| 2214/2214 [00:01<00:00, 1248.11it/s]"
     ]
    },
    {
     "name": "stdout",
     "output_type": "stream",
     "text": [
      "{'Table Retrieval Task': {'ottqa': TaskResultsDataModel(retrieval_performance=RetrievalPerformanceDataModel(k=1, accuracy=0.15537488708220415, precision=None, recall=None, retrieval_duration_process=1.74289, avg_retrieval_duration_process=0.00079, retrieval_duration_wall_clock=1.74236, avg_retrieval_duration_wall_clock=0.00079), downstream_task_performance=DownstreamTaskPerformanceDataModel(task_name=None, scores=None), embedding_statistics=EmbeddingStatisticsDataModel(embedding_creation_duration_process=4.04369, avg_embedding_creation_duration_process=0.00513, embedding_creation_duration_wall_clock=4.55282, avg_embedding_creation_duration_wall_clock=0.00577, embedding_size=0.65126, avg_embedding_size=0.00083))}}\n"
     ]
    },
    {
     "name": "stderr",
     "output_type": "stream",
     "text": [
      "\n",
      "1it [00:00, 171.32it/s]0:00<?, ?it/s]\n",
      "100%|██████████| 1/1 [00:00<00:00, 106.52it/s]\n",
      "Retrieving Tables for ottqa...: 100%|██████████| 2214/2214 [00:01<00:00, 1169.36it/s]\n"
     ]
    },
    {
     "name": "stdout",
     "output_type": "stream",
     "text": [
      "{'Table Retrieval Task': {'ottqa': TaskResultsDataModel(retrieval_performance=RetrievalPerformanceDataModel(k=5, accuracy=0.3215898825654923, precision=None, recall=None, retrieval_duration_process=1.8592, avg_retrieval_duration_process=0.00084, retrieval_duration_wall_clock=1.86014, avg_retrieval_duration_wall_clock=0.00084), downstream_task_performance=DownstreamTaskPerformanceDataModel(task_name=None, scores=None), embedding_statistics=EmbeddingStatisticsDataModel(embedding_creation_duration_process=3.96711, avg_embedding_creation_duration_process=0.00503, embedding_creation_duration_wall_clock=4.87566, avg_embedding_creation_duration_wall_clock=0.00618, embedding_size=0.0041, avg_embedding_size=1e-05))}}\n"
     ]
    },
    {
     "name": "stderr",
     "output_type": "stream",
     "text": [
      "1it [00:00, 173.75it/s]0:00<?, ?it/s]\n",
      "100%|██████████| 1/1 [00:00<00:00, 103.57it/s]\n",
      "Retrieving Tables for ottqa...: 100%|██████████| 2214/2214 [00:02<00:00, 1073.01it/s]"
     ]
    },
    {
     "name": "stdout",
     "output_type": "stream",
     "text": [
      "{'Table Retrieval Task': {'ottqa': TaskResultsDataModel(retrieval_performance=RetrievalPerformanceDataModel(k=10, accuracy=0.42999096657633246, precision=None, recall=None, retrieval_duration_process=2.02809, avg_retrieval_duration_process=0.00092, retrieval_duration_wall_clock=2.02754, avg_retrieval_duration_wall_clock=0.00092), downstream_task_performance=DownstreamTaskPerformanceDataModel(task_name=None, scores=None), embedding_statistics=EmbeddingStatisticsDataModel(embedding_creation_duration_process=4.03039, avg_embedding_creation_duration_process=0.00511, embedding_creation_duration_wall_clock=4.73931, avg_embedding_creation_duration_wall_clock=0.00601, embedding_size=0.00819, avg_embedding_size=1e-05))}}\n"
     ]
    },
    {
     "name": "stderr",
     "output_type": "stream",
     "text": [
      "\n",
      "1it [00:00, 174.46it/s]0:00<?, ?it/s]\n",
      "100%|██████████| 1/1 [00:00<00:00, 106.49it/s]\n",
      "Retrieving Tables for ottqa...: 100%|██████████| 2214/2214 [00:02<00:00, 933.19it/s]"
     ]
    },
    {
     "name": "stdout",
     "output_type": "stream",
     "text": [
      "{'Table Retrieval Task': {'ottqa': TaskResultsDataModel(retrieval_performance=RetrievalPerformanceDataModel(k=25, accuracy=0.5718157181571816, precision=None, recall=None, retrieval_duration_process=2.32245, avg_retrieval_duration_process=0.00105, retrieval_duration_wall_clock=2.32136, avg_retrieval_duration_wall_clock=0.00105), downstream_task_performance=DownstreamTaskPerformanceDataModel(task_name=None, scores=None), embedding_statistics=EmbeddingStatisticsDataModel(embedding_creation_duration_process=4.01452, avg_embedding_creation_duration_process=0.00509, embedding_creation_duration_wall_clock=4.6157, avg_embedding_creation_duration_wall_clock=0.00585, embedding_size=0.0041, avg_embedding_size=1e-05))}}\n"
     ]
    },
    {
     "name": "stderr",
     "output_type": "stream",
     "text": [
      "\n",
      "1it [00:00, 174.05it/s]0:00<?, ?it/s]\n",
      "100%|██████████| 1/1 [00:00<00:00, 106.68it/s]\n",
      "Retrieving Tables for ottqa...: 100%|██████████| 2214/2214 [00:02<00:00, 801.73it/s]"
     ]
    },
    {
     "name": "stdout",
     "output_type": "stream",
     "text": [
      "{'Table Retrieval Task': {'ottqa': TaskResultsDataModel(retrieval_performance=RetrievalPerformanceDataModel(k=50, accuracy=0.6458897922312556, precision=None, recall=None, retrieval_duration_process=2.69382, avg_retrieval_duration_process=0.00122, retrieval_duration_wall_clock=2.70064, avg_retrieval_duration_wall_clock=0.00122), downstream_task_performance=DownstreamTaskPerformanceDataModel(task_name=None, scores=None), embedding_statistics=EmbeddingStatisticsDataModel(embedding_creation_duration_process=3.97409, avg_embedding_creation_duration_process=0.00504, embedding_creation_duration_wall_clock=4.61367, avg_embedding_creation_duration_wall_clock=0.00585, embedding_size=0.0041, avg_embedding_size=1e-05))}}\n"
     ]
    },
    {
     "name": "stderr",
     "output_type": "stream",
     "text": [
      "\n"
     ]
    }
   ],
   "source": [
    "# ottqa\n",
    "tfidf_no_title_results_ottqa_val = run_eval_for_top_ks(tfidf_no_title, \"tfidf_no_title\", top_ks, target_ottqa, \"ottqa\", \"validation\")"
   ]
  },
  {
   "cell_type": "code",
   "execution_count": 39,
   "metadata": {},
   "outputs": [
    {
     "data": {
      "text/plain": [
       "[{'Table Retrieval Task': {'ottqa': TaskResultsDataModel(retrieval_performance=RetrievalPerformanceDataModel(k=1, accuracy=0.15537488708220415, precision=None, recall=None, retrieval_duration_process=1.74289, avg_retrieval_duration_process=0.00079, retrieval_duration_wall_clock=1.74236, avg_retrieval_duration_wall_clock=0.00079), downstream_task_performance=DownstreamTaskPerformanceDataModel(task_name=None, scores=None), embedding_statistics=EmbeddingStatisticsDataModel(embedding_creation_duration_process=4.04369, avg_embedding_creation_duration_process=0.00513, embedding_creation_duration_wall_clock=4.55282, avg_embedding_creation_duration_wall_clock=0.00577, embedding_size=0.65126, avg_embedding_size=0.00083))}},\n",
       " {'Table Retrieval Task': {'ottqa': TaskResultsDataModel(retrieval_performance=RetrievalPerformanceDataModel(k=5, accuracy=0.3215898825654923, precision=None, recall=None, retrieval_duration_process=1.8592, avg_retrieval_duration_process=0.00084, retrieval_duration_wall_clock=1.86014, avg_retrieval_duration_wall_clock=0.00084), downstream_task_performance=DownstreamTaskPerformanceDataModel(task_name=None, scores=None), embedding_statistics=EmbeddingStatisticsDataModel(embedding_creation_duration_process=3.96711, avg_embedding_creation_duration_process=0.00503, embedding_creation_duration_wall_clock=4.87566, avg_embedding_creation_duration_wall_clock=0.00618, embedding_size=0.0041, avg_embedding_size=1e-05))}},\n",
       " {'Table Retrieval Task': {'ottqa': TaskResultsDataModel(retrieval_performance=RetrievalPerformanceDataModel(k=10, accuracy=0.42999096657633246, precision=None, recall=None, retrieval_duration_process=2.02809, avg_retrieval_duration_process=0.00092, retrieval_duration_wall_clock=2.02754, avg_retrieval_duration_wall_clock=0.00092), downstream_task_performance=DownstreamTaskPerformanceDataModel(task_name=None, scores=None), embedding_statistics=EmbeddingStatisticsDataModel(embedding_creation_duration_process=4.03039, avg_embedding_creation_duration_process=0.00511, embedding_creation_duration_wall_clock=4.73931, avg_embedding_creation_duration_wall_clock=0.00601, embedding_size=0.00819, avg_embedding_size=1e-05))}},\n",
       " {'Table Retrieval Task': {'ottqa': TaskResultsDataModel(retrieval_performance=RetrievalPerformanceDataModel(k=25, accuracy=0.5718157181571816, precision=None, recall=None, retrieval_duration_process=2.32245, avg_retrieval_duration_process=0.00105, retrieval_duration_wall_clock=2.32136, avg_retrieval_duration_wall_clock=0.00105), downstream_task_performance=DownstreamTaskPerformanceDataModel(task_name=None, scores=None), embedding_statistics=EmbeddingStatisticsDataModel(embedding_creation_duration_process=4.01452, avg_embedding_creation_duration_process=0.00509, embedding_creation_duration_wall_clock=4.6157, avg_embedding_creation_duration_wall_clock=0.00585, embedding_size=0.0041, avg_embedding_size=1e-05))}},\n",
       " {'Table Retrieval Task': {'ottqa': TaskResultsDataModel(retrieval_performance=RetrievalPerformanceDataModel(k=50, accuracy=0.6458897922312556, precision=None, recall=None, retrieval_duration_process=2.69382, avg_retrieval_duration_process=0.00122, retrieval_duration_wall_clock=2.70064, avg_retrieval_duration_wall_clock=0.00122), downstream_task_performance=DownstreamTaskPerformanceDataModel(task_name=None, scores=None), embedding_statistics=EmbeddingStatisticsDataModel(embedding_creation_duration_process=3.97409, avg_embedding_creation_duration_process=0.00504, embedding_creation_duration_wall_clock=4.61367, avg_embedding_creation_duration_wall_clock=0.00585, embedding_size=0.0041, avg_embedding_size=1e-05))}}]"
      ]
     },
     "execution_count": 39,
     "metadata": {},
     "output_type": "execute_result"
    }
   ],
   "source": [
    "tfidf_no_title_results_ottqa_val"
   ]
  },
  {
   "cell_type": "code",
   "execution_count": 40,
   "metadata": {},
   "outputs": [
    {
     "name": "stderr",
     "output_type": "stream",
     "text": [
      "1it [00:00, 75.49it/s]00:00<?, ?it/s]\n",
      "100%|██████████| 1/1 [00:00<00:00, 59.12it/s]\n",
      "Retrieving Tables for tabfact...: 100%|██████████| 12779/12779 [00:08<00:00, 1496.67it/s]"
     ]
    },
    {
     "name": "stdout",
     "output_type": "stream",
     "text": [
      "{'Table Retrieval Task': {'tabfact': TaskResultsDataModel(retrieval_performance=RetrievalPerformanceDataModel(k=1, accuracy=0.13514359496048203, precision=None, recall=None, retrieval_duration_process=8.36478, avg_retrieval_duration_process=0.00065, retrieval_duration_wall_clock=8.36266, avg_retrieval_duration_wall_clock=0.00065), downstream_task_performance=DownstreamTaskPerformanceDataModel(task_name=None, scores=None), embedding_statistics=EmbeddingStatisticsDataModel(embedding_creation_duration_process=4.81277, avg_embedding_creation_duration_process=0.00284, embedding_creation_duration_wall_clock=5.66627, avg_embedding_creation_duration_wall_clock=0.00334, embedding_size=2.50675, avg_embedding_size=0.00148))}}\n"
     ]
    },
    {
     "name": "stderr",
     "output_type": "stream",
     "text": [
      "\n",
      "1it [00:00, 84.96it/s]00:00<?, ?it/s]\n",
      "100%|██████████| 1/1 [00:00<00:00, 63.77it/s]\n",
      "Retrieving Tables for tabfact...: 100%|██████████| 12779/12779 [00:09<00:00, 1382.57it/s]"
     ]
    },
    {
     "name": "stdout",
     "output_type": "stream",
     "text": [
      "{'Table Retrieval Task': {'tabfact': TaskResultsDataModel(retrieval_performance=RetrievalPerformanceDataModel(k=5, accuracy=0.25588856718053055, precision=None, recall=None, retrieval_duration_process=9.06509, avg_retrieval_duration_process=0.00071, retrieval_duration_wall_clock=9.06224, avg_retrieval_duration_wall_clock=0.00071), downstream_task_performance=DownstreamTaskPerformanceDataModel(task_name=None, scores=None), embedding_statistics=EmbeddingStatisticsDataModel(embedding_creation_duration_process=4.61216, avg_embedding_creation_duration_process=0.00272, embedding_creation_duration_wall_clock=5.50752, avg_embedding_creation_duration_wall_clock=0.00325, embedding_size=0.0041, avg_embedding_size=0.0))}}\n"
     ]
    },
    {
     "name": "stderr",
     "output_type": "stream",
     "text": [
      "\n",
      "1it [00:00, 88.05it/s]00:00<?, ?it/s]\n",
      "100%|██████████| 1/1 [00:00<00:00, 67.25it/s]\n",
      "Retrieving Tables for tabfact...: 100%|██████████| 12779/12779 [00:09<00:00, 1291.06it/s]\n"
     ]
    },
    {
     "name": "stdout",
     "output_type": "stream",
     "text": [
      "{'Table Retrieval Task': {'tabfact': TaskResultsDataModel(retrieval_performance=RetrievalPerformanceDataModel(k=10, accuracy=0.3218561702793646, precision=None, recall=None, retrieval_duration_process=9.7084, avg_retrieval_duration_process=0.00076, retrieval_duration_wall_clock=9.70548, avg_retrieval_duration_wall_clock=0.00076), downstream_task_performance=DownstreamTaskPerformanceDataModel(task_name=None, scores=None), embedding_statistics=EmbeddingStatisticsDataModel(embedding_creation_duration_process=4.52113, avg_embedding_creation_duration_process=0.00267, embedding_creation_duration_wall_clock=5.31478, avg_embedding_creation_duration_wall_clock=0.00314, embedding_size=-0.0041, avg_embedding_size=-0.0))}}\n"
     ]
    },
    {
     "name": "stderr",
     "output_type": "stream",
     "text": [
      "1it [00:00, 88.38it/s]00:00<?, ?it/s]\n",
      "100%|██████████| 1/1 [00:00<00:00, 67.27it/s]\n",
      "Retrieving Tables for tabfact...: 100%|██████████| 12779/12779 [00:11<00:00, 1092.74it/s]"
     ]
    },
    {
     "name": "stdout",
     "output_type": "stream",
     "text": [
      "{'Table Retrieval Task': {'tabfact': TaskResultsDataModel(retrieval_performance=RetrievalPerformanceDataModel(k=25, accuracy=0.4238985836137413, precision=None, recall=None, retrieval_duration_process=11.47113, avg_retrieval_duration_process=0.0009, retrieval_duration_wall_clock=11.46872, avg_retrieval_duration_wall_clock=0.0009), downstream_task_performance=DownstreamTaskPerformanceDataModel(task_name=None, scores=None), embedding_statistics=EmbeddingStatisticsDataModel(embedding_creation_duration_process=4.58838, avg_embedding_creation_duration_process=0.00271, embedding_creation_duration_wall_clock=5.41583, avg_embedding_creation_duration_wall_clock=0.0032, embedding_size=0.0, avg_embedding_size=0.0))}}\n"
     ]
    },
    {
     "name": "stderr",
     "output_type": "stream",
     "text": [
      "\n",
      "1it [00:00, 88.78it/s]00:00<?, ?it/s]\n",
      "100%|██████████| 1/1 [00:00<00:00, 63.87it/s]\n",
      "Retrieving Tables for tabfact...: 100%|██████████| 12779/12779 [00:14<00:00, 882.50it/s]"
     ]
    },
    {
     "name": "stdout",
     "output_type": "stream",
     "text": [
      "{'Table Retrieval Task': {'tabfact': TaskResultsDataModel(retrieval_performance=RetrievalPerformanceDataModel(k=50, accuracy=0.5220283277251742, precision=None, recall=None, retrieval_duration_process=14.16312, avg_retrieval_duration_process=0.00111, retrieval_duration_wall_clock=14.16223, avg_retrieval_duration_wall_clock=0.00111), downstream_task_performance=DownstreamTaskPerformanceDataModel(task_name=None, scores=None), embedding_statistics=EmbeddingStatisticsDataModel(embedding_creation_duration_process=4.51814, avg_embedding_creation_duration_process=0.00267, embedding_creation_duration_wall_clock=5.23976, avg_embedding_creation_duration_wall_clock=0.00309, embedding_size=0.0, avg_embedding_size=0.0))}}\n"
     ]
    },
    {
     "name": "stderr",
     "output_type": "stream",
     "text": [
      "\n"
     ]
    }
   ],
   "source": [
    "# tabfact\n",
    "tfidf_no_title_results_tabfact_test = run_eval_for_top_ks(tfidf_no_title, \"tfidf_no_title\", top_ks, target_tabfact, \"tabfact\", \"test\")"
   ]
  },
  {
   "cell_type": "code",
   "execution_count": 41,
   "metadata": {},
   "outputs": [
    {
     "data": {
      "text/plain": [
       "[{'Table Retrieval Task': {'tabfact': TaskResultsDataModel(retrieval_performance=RetrievalPerformanceDataModel(k=1, accuracy=0.13514359496048203, precision=None, recall=None, retrieval_duration_process=8.36478, avg_retrieval_duration_process=0.00065, retrieval_duration_wall_clock=8.36266, avg_retrieval_duration_wall_clock=0.00065), downstream_task_performance=DownstreamTaskPerformanceDataModel(task_name=None, scores=None), embedding_statistics=EmbeddingStatisticsDataModel(embedding_creation_duration_process=4.81277, avg_embedding_creation_duration_process=0.00284, embedding_creation_duration_wall_clock=5.66627, avg_embedding_creation_duration_wall_clock=0.00334, embedding_size=2.50675, avg_embedding_size=0.00148))}},\n",
       " {'Table Retrieval Task': {'tabfact': TaskResultsDataModel(retrieval_performance=RetrievalPerformanceDataModel(k=5, accuracy=0.25588856718053055, precision=None, recall=None, retrieval_duration_process=9.06509, avg_retrieval_duration_process=0.00071, retrieval_duration_wall_clock=9.06224, avg_retrieval_duration_wall_clock=0.00071), downstream_task_performance=DownstreamTaskPerformanceDataModel(task_name=None, scores=None), embedding_statistics=EmbeddingStatisticsDataModel(embedding_creation_duration_process=4.61216, avg_embedding_creation_duration_process=0.00272, embedding_creation_duration_wall_clock=5.50752, avg_embedding_creation_duration_wall_clock=0.00325, embedding_size=0.0041, avg_embedding_size=0.0))}},\n",
       " {'Table Retrieval Task': {'tabfact': TaskResultsDataModel(retrieval_performance=RetrievalPerformanceDataModel(k=10, accuracy=0.3218561702793646, precision=None, recall=None, retrieval_duration_process=9.7084, avg_retrieval_duration_process=0.00076, retrieval_duration_wall_clock=9.70548, avg_retrieval_duration_wall_clock=0.00076), downstream_task_performance=DownstreamTaskPerformanceDataModel(task_name=None, scores=None), embedding_statistics=EmbeddingStatisticsDataModel(embedding_creation_duration_process=4.52113, avg_embedding_creation_duration_process=0.00267, embedding_creation_duration_wall_clock=5.31478, avg_embedding_creation_duration_wall_clock=0.00314, embedding_size=-0.0041, avg_embedding_size=-0.0))}},\n",
       " {'Table Retrieval Task': {'tabfact': TaskResultsDataModel(retrieval_performance=RetrievalPerformanceDataModel(k=25, accuracy=0.4238985836137413, precision=None, recall=None, retrieval_duration_process=11.47113, avg_retrieval_duration_process=0.0009, retrieval_duration_wall_clock=11.46872, avg_retrieval_duration_wall_clock=0.0009), downstream_task_performance=DownstreamTaskPerformanceDataModel(task_name=None, scores=None), embedding_statistics=EmbeddingStatisticsDataModel(embedding_creation_duration_process=4.58838, avg_embedding_creation_duration_process=0.00271, embedding_creation_duration_wall_clock=5.41583, avg_embedding_creation_duration_wall_clock=0.0032, embedding_size=0.0, avg_embedding_size=0.0))}},\n",
       " {'Table Retrieval Task': {'tabfact': TaskResultsDataModel(retrieval_performance=RetrievalPerformanceDataModel(k=50, accuracy=0.5220283277251742, precision=None, recall=None, retrieval_duration_process=14.16312, avg_retrieval_duration_process=0.00111, retrieval_duration_wall_clock=14.16223, avg_retrieval_duration_wall_clock=0.00111), downstream_task_performance=DownstreamTaskPerformanceDataModel(task_name=None, scores=None), embedding_statistics=EmbeddingStatisticsDataModel(embedding_creation_duration_process=4.51814, avg_embedding_creation_duration_process=0.00267, embedding_creation_duration_wall_clock=5.23976, avg_embedding_creation_duration_wall_clock=0.00309, embedding_size=0.0, avg_embedding_size=0.0))}}]"
      ]
     },
     "execution_count": 41,
     "metadata": {},
     "output_type": "execute_result"
    }
   ],
   "source": [
    "tfidf_no_title_results_tabfact_test"
   ]
  },
  {
   "cell_type": "code",
   "execution_count": 42,
   "metadata": {},
   "outputs": [
    {
     "name": "stderr",
     "output_type": "stream",
     "text": [
      "1it [00:00, 510.26it/s]0:00<?, ?it/s]\n",
      "100%|██████████| 1/1 [00:00<00:00, 168.82it/s]\n",
      "Retrieving Tables for spider-test...: 100%|██████████| 2147/2147 [00:01<00:00, 1516.76it/s]\n"
     ]
    },
    {
     "name": "stdout",
     "output_type": "stream",
     "text": [
      "{'Table Retrieval Task': {'spider-test': TaskResultsDataModel(retrieval_performance=RetrievalPerformanceDataModel(k=1, accuracy=0.4918490917559385, precision=None, recall=None, retrieval_duration_process=1.38296, avg_retrieval_duration_process=0.00064, retrieval_duration_wall_clock=1.38257, avg_retrieval_duration_wall_clock=0.00064), downstream_task_performance=DownstreamTaskPerformanceDataModel(task_name=None, scores=None), embedding_statistics=EmbeddingStatisticsDataModel(embedding_creation_duration_process=4.40389, avg_embedding_creation_duration_process=0.02447, embedding_creation_duration_wall_clock=5.13568, avg_embedding_creation_duration_wall_clock=0.02853, embedding_size=8.4992, avg_embedding_size=0.04722))}}\n"
     ]
    },
    {
     "name": "stderr",
     "output_type": "stream",
     "text": [
      "1it [00:00, 541.97it/s]0:00<?, ?it/s]\n",
      "100%|██████████| 1/1 [00:00<00:00, 183.64it/s]\n",
      "Retrieving Tables for spider-test...: 100%|██████████| 2147/2147 [00:01<00:00, 1485.14it/s]\n"
     ]
    },
    {
     "name": "stdout",
     "output_type": "stream",
     "text": [
      "{'Table Retrieval Task': {'spider-test': TaskResultsDataModel(retrieval_performance=RetrievalPerformanceDataModel(k=5, accuracy=0.6893339543549138, precision=None, recall=None, retrieval_duration_process=1.41183, avg_retrieval_duration_process=0.00066, retrieval_duration_wall_clock=1.41145, avg_retrieval_duration_wall_clock=0.00066), downstream_task_performance=DownstreamTaskPerformanceDataModel(task_name=None, scores=None), embedding_statistics=EmbeddingStatisticsDataModel(embedding_creation_duration_process=3.99338, avg_embedding_creation_duration_process=0.02219, embedding_creation_duration_wall_clock=4.64831, avg_embedding_creation_duration_wall_clock=0.02582, embedding_size=0.0041, avg_embedding_size=2e-05))}}\n"
     ]
    },
    {
     "name": "stderr",
     "output_type": "stream",
     "text": [
      "1it [00:00, 754.78it/s]0:00<?, ?it/s]\n",
      "100%|██████████| 1/1 [00:00<00:00, 162.03it/s]\n",
      "Retrieving Tables for spider-test...: 100%|██████████| 2147/2147 [00:03<00:00, 651.40it/s] \n"
     ]
    },
    {
     "name": "stdout",
     "output_type": "stream",
     "text": [
      "{'Table Retrieval Task': {'spider-test': TaskResultsDataModel(retrieval_performance=RetrievalPerformanceDataModel(k=10, accuracy=0.7158826269212856, precision=None, recall=None, retrieval_duration_process=3.27164, avg_retrieval_duration_process=0.00152, retrieval_duration_wall_clock=3.26356, avg_retrieval_duration_wall_clock=0.00152), downstream_task_performance=DownstreamTaskPerformanceDataModel(task_name=None, scores=None), embedding_statistics=EmbeddingStatisticsDataModel(embedding_creation_duration_process=3.99005, avg_embedding_creation_duration_process=0.02217, embedding_creation_duration_wall_clock=9.69864, avg_embedding_creation_duration_wall_clock=0.05388, embedding_size=0.0041, avg_embedding_size=2e-05))}}\n"
     ]
    },
    {
     "name": "stderr",
     "output_type": "stream",
     "text": [
      "1it [00:00, 689.06it/s]0:00<?, ?it/s]\n",
      "100%|██████████| 1/1 [00:00<00:00, 168.82it/s]\n",
      "Retrieving Tables for spider-test...: 100%|██████████| 2147/2147 [00:01<00:00, 1371.60it/s]\n"
     ]
    },
    {
     "name": "stdout",
     "output_type": "stream",
     "text": [
      "{'Table Retrieval Task': {'spider-test': TaskResultsDataModel(retrieval_performance=RetrievalPerformanceDataModel(k=25, accuracy=0.744294364229157, precision=None, recall=None, retrieval_duration_process=1.53215, avg_retrieval_duration_process=0.00071, retrieval_duration_wall_clock=1.53124, avg_retrieval_duration_wall_clock=0.00071), downstream_task_performance=DownstreamTaskPerformanceDataModel(task_name=None, scores=None), embedding_statistics=EmbeddingStatisticsDataModel(embedding_creation_duration_process=3.96141, avg_embedding_creation_duration_process=0.02201, embedding_creation_duration_wall_clock=4.64167, avg_embedding_creation_duration_wall_clock=0.02579, embedding_size=0.0041, avg_embedding_size=2e-05))}}\n"
     ]
    },
    {
     "name": "stderr",
     "output_type": "stream",
     "text": [
      "1it [00:00, 1050.15it/s]:00<?, ?it/s]\n",
      "100%|██████████| 1/1 [00:00<00:00, 164.01it/s]\n",
      "Retrieving Tables for spider-test...: 100%|██████████| 2147/2147 [00:01<00:00, 1271.63it/s]"
     ]
    },
    {
     "name": "stdout",
     "output_type": "stream",
     "text": [
      "{'Table Retrieval Task': {'spider-test': TaskResultsDataModel(retrieval_performance=RetrievalPerformanceDataModel(k=50, accuracy=0.7564042850489054, precision=None, recall=None, retrieval_duration_process=1.6525, avg_retrieval_duration_process=0.00077, retrieval_duration_wall_clock=1.65192, avg_retrieval_duration_wall_clock=0.00077), downstream_task_performance=DownstreamTaskPerformanceDataModel(task_name=None, scores=None), embedding_statistics=EmbeddingStatisticsDataModel(embedding_creation_duration_process=4.01959, avg_embedding_creation_duration_process=0.02233, embedding_creation_duration_wall_clock=4.67074, avg_embedding_creation_duration_wall_clock=0.02595, embedding_size=0.0, avg_embedding_size=0.0))}}\n"
     ]
    },
    {
     "name": "stderr",
     "output_type": "stream",
     "text": [
      "\n"
     ]
    }
   ],
   "source": [
    "# spider\n",
    "tfidf_no_title_results_spider_test = run_eval_for_top_ks(tfidf_no_title, \"tfidf_no_title\", top_ks, target_spider, \"spider\", \"test\")"
   ]
  },
  {
   "cell_type": "code",
   "execution_count": 43,
   "metadata": {},
   "outputs": [
    {
     "data": {
      "text/plain": [
       "[{'Table Retrieval Task': {'spider-test': TaskResultsDataModel(retrieval_performance=RetrievalPerformanceDataModel(k=1, accuracy=0.4918490917559385, precision=None, recall=None, retrieval_duration_process=1.38296, avg_retrieval_duration_process=0.00064, retrieval_duration_wall_clock=1.38257, avg_retrieval_duration_wall_clock=0.00064), downstream_task_performance=DownstreamTaskPerformanceDataModel(task_name=None, scores=None), embedding_statistics=EmbeddingStatisticsDataModel(embedding_creation_duration_process=4.40389, avg_embedding_creation_duration_process=0.02447, embedding_creation_duration_wall_clock=5.13568, avg_embedding_creation_duration_wall_clock=0.02853, embedding_size=8.4992, avg_embedding_size=0.04722))}},\n",
       " {'Table Retrieval Task': {'spider-test': TaskResultsDataModel(retrieval_performance=RetrievalPerformanceDataModel(k=5, accuracy=0.6893339543549138, precision=None, recall=None, retrieval_duration_process=1.41183, avg_retrieval_duration_process=0.00066, retrieval_duration_wall_clock=1.41145, avg_retrieval_duration_wall_clock=0.00066), downstream_task_performance=DownstreamTaskPerformanceDataModel(task_name=None, scores=None), embedding_statistics=EmbeddingStatisticsDataModel(embedding_creation_duration_process=3.99338, avg_embedding_creation_duration_process=0.02219, embedding_creation_duration_wall_clock=4.64831, avg_embedding_creation_duration_wall_clock=0.02582, embedding_size=0.0041, avg_embedding_size=2e-05))}},\n",
       " {'Table Retrieval Task': {'spider-test': TaskResultsDataModel(retrieval_performance=RetrievalPerformanceDataModel(k=10, accuracy=0.7158826269212856, precision=None, recall=None, retrieval_duration_process=3.27164, avg_retrieval_duration_process=0.00152, retrieval_duration_wall_clock=3.26356, avg_retrieval_duration_wall_clock=0.00152), downstream_task_performance=DownstreamTaskPerformanceDataModel(task_name=None, scores=None), embedding_statistics=EmbeddingStatisticsDataModel(embedding_creation_duration_process=3.99005, avg_embedding_creation_duration_process=0.02217, embedding_creation_duration_wall_clock=9.69864, avg_embedding_creation_duration_wall_clock=0.05388, embedding_size=0.0041, avg_embedding_size=2e-05))}},\n",
       " {'Table Retrieval Task': {'spider-test': TaskResultsDataModel(retrieval_performance=RetrievalPerformanceDataModel(k=25, accuracy=0.744294364229157, precision=None, recall=None, retrieval_duration_process=1.53215, avg_retrieval_duration_process=0.00071, retrieval_duration_wall_clock=1.53124, avg_retrieval_duration_wall_clock=0.00071), downstream_task_performance=DownstreamTaskPerformanceDataModel(task_name=None, scores=None), embedding_statistics=EmbeddingStatisticsDataModel(embedding_creation_duration_process=3.96141, avg_embedding_creation_duration_process=0.02201, embedding_creation_duration_wall_clock=4.64167, avg_embedding_creation_duration_wall_clock=0.02579, embedding_size=0.0041, avg_embedding_size=2e-05))}},\n",
       " {'Table Retrieval Task': {'spider-test': TaskResultsDataModel(retrieval_performance=RetrievalPerformanceDataModel(k=50, accuracy=0.7564042850489054, precision=None, recall=None, retrieval_duration_process=1.6525, avg_retrieval_duration_process=0.00077, retrieval_duration_wall_clock=1.65192, avg_retrieval_duration_wall_clock=0.00077), downstream_task_performance=DownstreamTaskPerformanceDataModel(task_name=None, scores=None), embedding_statistics=EmbeddingStatisticsDataModel(embedding_creation_duration_process=4.01959, avg_embedding_creation_duration_process=0.02233, embedding_creation_duration_wall_clock=4.67074, avg_embedding_creation_duration_wall_clock=0.02595, embedding_size=0.0, avg_embedding_size=0.0))}}]"
      ]
     },
     "execution_count": 43,
     "metadata": {},
     "output_type": "execute_result"
    }
   ],
   "source": [
    "tfidf_no_title_results_spider_test"
   ]
  },
  {
   "cell_type": "code",
   "execution_count": 44,
   "metadata": {},
   "outputs": [
    {
     "name": "stderr",
     "output_type": "stream",
     "text": [
      "1it [00:00, 848.36it/s]0:00<?, ?it/s]\n",
      "100%|██████████| 1/1 [00:00<00:00, 190.69it/s]\n",
      "Retrieving Tables for bird-validation...: 100%|██████████| 1534/1534 [00:01<00:00, 1370.72it/s]\n"
     ]
    },
    {
     "name": "stdout",
     "output_type": "stream",
     "text": [
      "{'Table Retrieval Task': {'bird-validation': TaskResultsDataModel(retrieval_performance=RetrievalPerformanceDataModel(k=1, accuracy=0.4908735332464146, precision=None, recall=None, retrieval_duration_process=1.09313, avg_retrieval_duration_process=0.00071, retrieval_duration_wall_clock=1.09277, avg_retrieval_duration_wall_clock=0.00071), downstream_task_performance=DownstreamTaskPerformanceDataModel(task_name=None, scores=None), embedding_statistics=EmbeddingStatisticsDataModel(embedding_creation_duration_process=30.43369, avg_embedding_creation_duration_process=0.40578, embedding_creation_duration_wall_clock=31.20713, avg_embedding_creation_duration_wall_clock=0.4161, embedding_size=1131.28653, avg_embedding_size=15.08382))}}\n"
     ]
    },
    {
     "name": "stderr",
     "output_type": "stream",
     "text": [
      "1it [00:00, 859.49it/s]0:00<?, ?it/s]\n",
      "100%|██████████| 1/1 [00:00<00:00, 163.58it/s]\n",
      "Retrieving Tables for bird-validation...: 100%|██████████| 1534/1534 [00:02<00:00, 557.71it/s] \n"
     ]
    },
    {
     "name": "stdout",
     "output_type": "stream",
     "text": [
      "{'Table Retrieval Task': {'bird-validation': TaskResultsDataModel(retrieval_performance=RetrievalPerformanceDataModel(k=5, accuracy=0.681877444589309, precision=None, recall=None, retrieval_duration_process=2.72237, avg_retrieval_duration_process=0.00177, retrieval_duration_wall_clock=2.72497, avg_retrieval_duration_wall_clock=0.00178), downstream_task_performance=DownstreamTaskPerformanceDataModel(task_name=None, scores=None), embedding_statistics=EmbeddingStatisticsDataModel(embedding_creation_duration_process=13.41005, avg_embedding_creation_duration_process=0.1788, embedding_creation_duration_wall_clock=18.09589, avg_embedding_creation_duration_wall_clock=0.24128, embedding_size=0.0041, avg_embedding_size=5e-05))}}\n"
     ]
    },
    {
     "name": "stderr",
     "output_type": "stream",
     "text": [
      "1it [00:00, 921.62it/s]0:00<?, ?it/s]\n",
      "100%|██████████| 1/1 [00:00<00:00, 163.54it/s]\n",
      "Retrieving Tables for bird-validation...: 100%|██████████| 1534/1534 [00:01<00:00, 1356.10it/s]\n"
     ]
    },
    {
     "name": "stdout",
     "output_type": "stream",
     "text": [
      "{'Table Retrieval Task': {'bird-validation': TaskResultsDataModel(retrieval_performance=RetrievalPerformanceDataModel(k=10, accuracy=0.7092568448500652, precision=None, recall=None, retrieval_duration_process=1.10686, avg_retrieval_duration_process=0.00072, retrieval_duration_wall_clock=1.10667, avg_retrieval_duration_wall_clock=0.00072), downstream_task_performance=DownstreamTaskPerformanceDataModel(task_name=None, scores=None), embedding_statistics=EmbeddingStatisticsDataModel(embedding_creation_duration_process=12.94022, avg_embedding_creation_duration_process=0.17254, embedding_creation_duration_wall_clock=13.68653, avg_embedding_creation_duration_wall_clock=0.18249, embedding_size=0.0, avg_embedding_size=0.0))}}\n"
     ]
    },
    {
     "name": "stderr",
     "output_type": "stream",
     "text": [
      "1it [00:00, 926.10it/s]0:00<?, ?it/s]\n",
      "100%|██████████| 1/1 [00:00<00:00, 138.57it/s]\n",
      "Retrieving Tables for bird-validation...: 100%|██████████| 1534/1534 [00:01<00:00, 1324.58it/s]\n"
     ]
    },
    {
     "name": "stdout",
     "output_type": "stream",
     "text": [
      "{'Table Retrieval Task': {'bird-validation': TaskResultsDataModel(retrieval_performance=RetrievalPerformanceDataModel(k=25, accuracy=0.7327249022164276, precision=None, recall=None, retrieval_duration_process=1.13001, avg_retrieval_duration_process=0.00074, retrieval_duration_wall_clock=1.1328, avg_retrieval_duration_wall_clock=0.00074), downstream_task_performance=DownstreamTaskPerformanceDataModel(task_name=None, scores=None), embedding_statistics=EmbeddingStatisticsDataModel(embedding_creation_duration_process=12.9388, avg_embedding_creation_duration_process=0.17252, embedding_creation_duration_wall_clock=13.65769, avg_embedding_creation_duration_wall_clock=0.1821, embedding_size=0.0, avg_embedding_size=0.0))}}\n"
     ]
    },
    {
     "name": "stderr",
     "output_type": "stream",
     "text": [
      "1it [00:00, 784.28it/s]0:00<?, ?it/s]\n",
      "100%|██████████| 1/1 [00:00<00:00, 172.85it/s]\n",
      "Retrieving Tables for bird-validation...: 100%|██████████| 1534/1534 [00:01<00:00, 1346.01it/s]"
     ]
    },
    {
     "name": "stdout",
     "output_type": "stream",
     "text": [
      "{'Table Retrieval Task': {'bird-validation': TaskResultsDataModel(retrieval_performance=RetrievalPerformanceDataModel(k=50, accuracy=0.7327249022164276, precision=None, recall=None, retrieval_duration_process=1.10923, avg_retrieval_duration_process=0.00072, retrieval_duration_wall_clock=1.11211, avg_retrieval_duration_wall_clock=0.00072), downstream_task_performance=DownstreamTaskPerformanceDataModel(task_name=None, scores=None), embedding_statistics=EmbeddingStatisticsDataModel(embedding_creation_duration_process=12.99178, avg_embedding_creation_duration_process=0.17322, embedding_creation_duration_wall_clock=13.70233, avg_embedding_creation_duration_wall_clock=0.1827, embedding_size=-0.0041, avg_embedding_size=-5e-05))}}\n"
     ]
    },
    {
     "name": "stderr",
     "output_type": "stream",
     "text": [
      "\n"
     ]
    }
   ],
   "source": [
    "tfidf_no_title_results_bird_val = run_eval_for_top_ks(tfidf_no_title, \"tfidf_no_title\",top_ks, target_bird, \"bird\", \"validation\")"
   ]
  },
  {
   "cell_type": "code",
   "execution_count": 45,
   "metadata": {},
   "outputs": [
    {
     "data": {
      "text/plain": [
       "[{'Table Retrieval Task': {'bird-validation': TaskResultsDataModel(retrieval_performance=RetrievalPerformanceDataModel(k=1, accuracy=0.4908735332464146, precision=None, recall=None, retrieval_duration_process=1.09313, avg_retrieval_duration_process=0.00071, retrieval_duration_wall_clock=1.09277, avg_retrieval_duration_wall_clock=0.00071), downstream_task_performance=DownstreamTaskPerformanceDataModel(task_name=None, scores=None), embedding_statistics=EmbeddingStatisticsDataModel(embedding_creation_duration_process=30.43369, avg_embedding_creation_duration_process=0.40578, embedding_creation_duration_wall_clock=31.20713, avg_embedding_creation_duration_wall_clock=0.4161, embedding_size=1131.28653, avg_embedding_size=15.08382))}},\n",
       " {'Table Retrieval Task': {'bird-validation': TaskResultsDataModel(retrieval_performance=RetrievalPerformanceDataModel(k=5, accuracy=0.681877444589309, precision=None, recall=None, retrieval_duration_process=2.72237, avg_retrieval_duration_process=0.00177, retrieval_duration_wall_clock=2.72497, avg_retrieval_duration_wall_clock=0.00178), downstream_task_performance=DownstreamTaskPerformanceDataModel(task_name=None, scores=None), embedding_statistics=EmbeddingStatisticsDataModel(embedding_creation_duration_process=13.41005, avg_embedding_creation_duration_process=0.1788, embedding_creation_duration_wall_clock=18.09589, avg_embedding_creation_duration_wall_clock=0.24128, embedding_size=0.0041, avg_embedding_size=5e-05))}},\n",
       " {'Table Retrieval Task': {'bird-validation': TaskResultsDataModel(retrieval_performance=RetrievalPerformanceDataModel(k=10, accuracy=0.7092568448500652, precision=None, recall=None, retrieval_duration_process=1.10686, avg_retrieval_duration_process=0.00072, retrieval_duration_wall_clock=1.10667, avg_retrieval_duration_wall_clock=0.00072), downstream_task_performance=DownstreamTaskPerformanceDataModel(task_name=None, scores=None), embedding_statistics=EmbeddingStatisticsDataModel(embedding_creation_duration_process=12.94022, avg_embedding_creation_duration_process=0.17254, embedding_creation_duration_wall_clock=13.68653, avg_embedding_creation_duration_wall_clock=0.18249, embedding_size=0.0, avg_embedding_size=0.0))}},\n",
       " {'Table Retrieval Task': {'bird-validation': TaskResultsDataModel(retrieval_performance=RetrievalPerformanceDataModel(k=25, accuracy=0.7327249022164276, precision=None, recall=None, retrieval_duration_process=1.13001, avg_retrieval_duration_process=0.00074, retrieval_duration_wall_clock=1.1328, avg_retrieval_duration_wall_clock=0.00074), downstream_task_performance=DownstreamTaskPerformanceDataModel(task_name=None, scores=None), embedding_statistics=EmbeddingStatisticsDataModel(embedding_creation_duration_process=12.9388, avg_embedding_creation_duration_process=0.17252, embedding_creation_duration_wall_clock=13.65769, avg_embedding_creation_duration_wall_clock=0.1821, embedding_size=0.0, avg_embedding_size=0.0))}},\n",
       " {'Table Retrieval Task': {'bird-validation': TaskResultsDataModel(retrieval_performance=RetrievalPerformanceDataModel(k=50, accuracy=0.7327249022164276, precision=None, recall=None, retrieval_duration_process=1.10923, avg_retrieval_duration_process=0.00072, retrieval_duration_wall_clock=1.11211, avg_retrieval_duration_wall_clock=0.00072), downstream_task_performance=DownstreamTaskPerformanceDataModel(task_name=None, scores=None), embedding_statistics=EmbeddingStatisticsDataModel(embedding_creation_duration_process=12.99178, avg_embedding_creation_duration_process=0.17322, embedding_creation_duration_wall_clock=13.70233, avg_embedding_creation_duration_wall_clock=0.1827, embedding_size=-0.0041, avg_embedding_size=-5e-05))}}]"
      ]
     },
     "execution_count": 45,
     "metadata": {},
     "output_type": "execute_result"
    }
   ],
   "source": [
    "tfidf_no_title_results_bird_val"
   ]
  },
  {
   "cell_type": "markdown",
   "metadata": {},
   "source": [
    "# HNSW OpenAI (Done)"
   ]
  },
  {
   "cell_type": "code",
   "execution_count": 4,
   "metadata": {},
   "outputs": [],
   "source": [
    "from target_benchmark.retrievers import HNSWOpenAIEmbeddingRetriever\n",
    "hnsw_openai = HNSWOpenAIEmbeddingRetriever(num_rows=100)"
   ]
  },
  {
   "cell_type": "code",
   "execution_count": 5,
   "metadata": {},
   "outputs": [
    {
     "name": "stderr",
     "output_type": "stream",
     "text": [
      "Retrieving Tables for fetaqa...: 100%|██████████| 2003/2003 [04:59<00:00,  6.70it/s]\n"
     ]
    },
    {
     "name": "stdout",
     "output_type": "stream",
     "text": [
      "{'Table Retrieval Task': {'fetaqa': TaskResultsDataModel(retrieval_performance=RetrievalPerformanceDataModel(k=1, accuracy=0.42236645032451325, precision=None, recall=None, retrieval_time=34.79087, avg_retrieval_time=0.01737), downstream_task_performance=DownstreamTaskPerformanceDataModel(task_name=None, scores=None), embedding_statistics=EmbeddingStatisticsDataModel(embedding_creation_duration=4e-05, avg_embedding_creation_duration=0.0, embedding_size=0.0, avg_embedding_size=0.0))}}\n"
     ]
    },
    {
     "name": "stderr",
     "output_type": "stream",
     "text": [
      "Retrieving Tables for fetaqa...: 100%|██████████| 2003/2003 [04:57<00:00,  6.73it/s]\n"
     ]
    },
    {
     "name": "stdout",
     "output_type": "stream",
     "text": [
      "{'Table Retrieval Task': {'fetaqa': TaskResultsDataModel(retrieval_performance=RetrievalPerformanceDataModel(k=5, accuracy=0.6425361957064404, precision=None, recall=None, retrieval_time=34.3127, avg_retrieval_time=0.01713), downstream_task_performance=DownstreamTaskPerformanceDataModel(task_name=None, scores=None), embedding_statistics=EmbeddingStatisticsDataModel(embedding_creation_duration=4e-05, avg_embedding_creation_duration=0.0, embedding_size=0.0, avg_embedding_size=0.0))}}\n"
     ]
    },
    {
     "name": "stderr",
     "output_type": "stream",
     "text": [
      "Retrieving Tables for fetaqa...: 100%|██████████| 2003/2003 [05:28<00:00,  6.09it/s]\n"
     ]
    },
    {
     "name": "stdout",
     "output_type": "stream",
     "text": [
      "{'Table Retrieval Task': {'fetaqa': TaskResultsDataModel(retrieval_performance=RetrievalPerformanceDataModel(k=10, accuracy=0.7224163754368448, precision=None, recall=None, retrieval_time=49.65952, avg_retrieval_time=0.02479), downstream_task_performance=DownstreamTaskPerformanceDataModel(task_name=None, scores=None), embedding_statistics=EmbeddingStatisticsDataModel(embedding_creation_duration=3e-05, avg_embedding_creation_duration=0.0, embedding_size=0.0, avg_embedding_size=0.0))}}\n"
     ]
    },
    {
     "name": "stderr",
     "output_type": "stream",
     "text": [
      "Retrieving Tables for fetaqa...: 100%|██████████| 2003/2003 [05:28<00:00,  6.11it/s]\n"
     ]
    },
    {
     "name": "stdout",
     "output_type": "stream",
     "text": [
      "{'Table Retrieval Task': {'fetaqa': TaskResultsDataModel(retrieval_performance=RetrievalPerformanceDataModel(k=25, accuracy=0.8272591113330005, precision=None, recall=None, retrieval_time=35.30908, avg_retrieval_time=0.01763), downstream_task_performance=DownstreamTaskPerformanceDataModel(task_name=None, scores=None), embedding_statistics=EmbeddingStatisticsDataModel(embedding_creation_duration=3e-05, avg_embedding_creation_duration=0.0, embedding_size=0.0, avg_embedding_size=0.0))}}\n"
     ]
    },
    {
     "name": "stderr",
     "output_type": "stream",
     "text": [
      "Retrieving Tables for fetaqa...: 100%|██████████| 2003/2003 [05:10<00:00,  6.45it/s]"
     ]
    },
    {
     "name": "stdout",
     "output_type": "stream",
     "text": [
      "{'Table Retrieval Task': {'fetaqa': TaskResultsDataModel(retrieval_performance=RetrievalPerformanceDataModel(k=50, accuracy=0.8851722416375437, precision=None, recall=None, retrieval_time=36.31675, avg_retrieval_time=0.01813), downstream_task_performance=DownstreamTaskPerformanceDataModel(task_name=None, scores=None), embedding_statistics=EmbeddingStatisticsDataModel(embedding_creation_duration=3e-05, avg_embedding_creation_duration=0.0, embedding_size=0.0, avg_embedding_size=0.0))}}\n"
     ]
    },
    {
     "name": "stderr",
     "output_type": "stream",
     "text": [
      "\n"
     ]
    }
   ],
   "source": [
    "# fetaqa\n",
    "hnsw_openai_results_fetaqa_test = run_eval_for_top_ks(hnsw_openai, \"hnsw_openai\", top_ks, target_fetaqa, \"fetaqa\", \"test\")"
   ]
  },
  {
   "cell_type": "code",
   "execution_count": 6,
   "metadata": {},
   "outputs": [
    {
     "data": {
      "text/plain": [
       "[{'Table Retrieval Task': {'fetaqa': TaskResultsDataModel(retrieval_performance=RetrievalPerformanceDataModel(k=1, accuracy=0.42236645032451325, precision=None, recall=None, retrieval_time=34.79087, avg_retrieval_time=0.01737), downstream_task_performance=DownstreamTaskPerformanceDataModel(task_name=None, scores=None), embedding_statistics=EmbeddingStatisticsDataModel(embedding_creation_duration=4e-05, avg_embedding_creation_duration=0.0, embedding_size=0.0, avg_embedding_size=0.0))}},\n",
       " {'Table Retrieval Task': {'fetaqa': TaskResultsDataModel(retrieval_performance=RetrievalPerformanceDataModel(k=5, accuracy=0.6425361957064404, precision=None, recall=None, retrieval_time=34.3127, avg_retrieval_time=0.01713), downstream_task_performance=DownstreamTaskPerformanceDataModel(task_name=None, scores=None), embedding_statistics=EmbeddingStatisticsDataModel(embedding_creation_duration=4e-05, avg_embedding_creation_duration=0.0, embedding_size=0.0, avg_embedding_size=0.0))}},\n",
       " {'Table Retrieval Task': {'fetaqa': TaskResultsDataModel(retrieval_performance=RetrievalPerformanceDataModel(k=10, accuracy=0.7224163754368448, precision=None, recall=None, retrieval_time=49.65952, avg_retrieval_time=0.02479), downstream_task_performance=DownstreamTaskPerformanceDataModel(task_name=None, scores=None), embedding_statistics=EmbeddingStatisticsDataModel(embedding_creation_duration=3e-05, avg_embedding_creation_duration=0.0, embedding_size=0.0, avg_embedding_size=0.0))}},\n",
       " {'Table Retrieval Task': {'fetaqa': TaskResultsDataModel(retrieval_performance=RetrievalPerformanceDataModel(k=25, accuracy=0.8272591113330005, precision=None, recall=None, retrieval_time=35.30908, avg_retrieval_time=0.01763), downstream_task_performance=DownstreamTaskPerformanceDataModel(task_name=None, scores=None), embedding_statistics=EmbeddingStatisticsDataModel(embedding_creation_duration=3e-05, avg_embedding_creation_duration=0.0, embedding_size=0.0, avg_embedding_size=0.0))}},\n",
       " {'Table Retrieval Task': {'fetaqa': TaskResultsDataModel(retrieval_performance=RetrievalPerformanceDataModel(k=50, accuracy=0.8851722416375437, precision=None, recall=None, retrieval_time=36.31675, avg_retrieval_time=0.01813), downstream_task_performance=DownstreamTaskPerformanceDataModel(task_name=None, scores=None), embedding_statistics=EmbeddingStatisticsDataModel(embedding_creation_duration=3e-05, avg_embedding_creation_duration=0.0, embedding_size=0.0, avg_embedding_size=0.0))}}]"
      ]
     },
     "execution_count": 6,
     "metadata": {},
     "output_type": "execute_result"
    }
   ],
   "source": [
    "hnsw_openai_results_fetaqa_test"
   ]
  },
  {
   "cell_type": "code",
   "execution_count": 7,
   "metadata": {},
   "outputs": [
    {
     "name": "stderr",
     "output_type": "stream",
     "text": [
      "8it [01:49, 13.75s/it]\n",
      "Retrieving Tables for ottqa...: 100%|██████████| 2214/2214 [05:10<00:00,  7.12it/s]\n"
     ]
    },
    {
     "name": "stdout",
     "output_type": "stream",
     "text": [
      "{'Table Retrieval Task': {'ottqa': TaskResultsDataModel(retrieval_performance=RetrievalPerformanceDataModel(k=1, accuracy=0.6644083107497741, precision=None, recall=None, retrieval_time=14.40323, avg_retrieval_time=0.00651), downstream_task_performance=DownstreamTaskPerformanceDataModel(task_name=None, scores=None), embedding_statistics=EmbeddingStatisticsDataModel(embedding_creation_duration=3.14826, avg_embedding_creation_duration=0.00399, embedding_size=5.0176, avg_embedding_size=0.00636))}}\n"
     ]
    },
    {
     "name": "stderr",
     "output_type": "stream",
     "text": [
      "Retrieving Tables for ottqa...: 100%|██████████| 2214/2214 [05:04<00:00,  7.26it/s]\n"
     ]
    },
    {
     "name": "stdout",
     "output_type": "stream",
     "text": [
      "{'Table Retrieval Task': {'ottqa': TaskResultsDataModel(retrieval_performance=RetrievalPerformanceDataModel(k=5, accuracy=0.9015356820234869, precision=None, recall=None, retrieval_time=14.46007, avg_retrieval_time=0.00653), downstream_task_performance=DownstreamTaskPerformanceDataModel(task_name=None, scores=None), embedding_statistics=EmbeddingStatisticsDataModel(embedding_creation_duration=3e-05, avg_embedding_creation_duration=0.0, embedding_size=0.0, avg_embedding_size=0.0))}}\n"
     ]
    },
    {
     "name": "stderr",
     "output_type": "stream",
     "text": [
      "Retrieving Tables for ottqa...: 100%|██████████| 2214/2214 [05:32<00:00,  6.65it/s]\n"
     ]
    },
    {
     "name": "stdout",
     "output_type": "stream",
     "text": [
      "{'Table Retrieval Task': {'ottqa': TaskResultsDataModel(retrieval_performance=RetrievalPerformanceDataModel(k=10, accuracy=0.9498644986449865, precision=None, recall=None, retrieval_time=25.10111, avg_retrieval_time=0.01134), downstream_task_performance=DownstreamTaskPerformanceDataModel(task_name=None, scores=None), embedding_statistics=EmbeddingStatisticsDataModel(embedding_creation_duration=3e-05, avg_embedding_creation_duration=0.0, embedding_size=0.0, avg_embedding_size=0.0))}}\n"
     ]
    },
    {
     "name": "stderr",
     "output_type": "stream",
     "text": [
      "Retrieving Tables for ottqa...: 100%|██████████| 2214/2214 [05:15<00:00,  7.03it/s]\n"
     ]
    },
    {
     "name": "stdout",
     "output_type": "stream",
     "text": [
      "{'Table Retrieval Task': {'ottqa': TaskResultsDataModel(retrieval_performance=RetrievalPerformanceDataModel(k=25, accuracy=0.9832881662149955, precision=None, recall=None, retrieval_time=14.55493, avg_retrieval_time=0.00657), downstream_task_performance=DownstreamTaskPerformanceDataModel(task_name=None, scores=None), embedding_statistics=EmbeddingStatisticsDataModel(embedding_creation_duration=3e-05, avg_embedding_creation_duration=0.0, embedding_size=0.0, avg_embedding_size=0.0))}}\n"
     ]
    },
    {
     "name": "stderr",
     "output_type": "stream",
     "text": [
      "Retrieving Tables for ottqa...: 100%|██████████| 2214/2214 [05:11<00:00,  7.12it/s]"
     ]
    },
    {
     "name": "stdout",
     "output_type": "stream",
     "text": [
      "{'Table Retrieval Task': {'ottqa': TaskResultsDataModel(retrieval_performance=RetrievalPerformanceDataModel(k=50, accuracy=0.993676603432701, precision=None, recall=None, retrieval_time=14.50772, avg_retrieval_time=0.00655), downstream_task_performance=DownstreamTaskPerformanceDataModel(task_name=None, scores=None), embedding_statistics=EmbeddingStatisticsDataModel(embedding_creation_duration=3e-05, avg_embedding_creation_duration=0.0, embedding_size=0.0, avg_embedding_size=0.0))}}\n"
     ]
    },
    {
     "name": "stderr",
     "output_type": "stream",
     "text": [
      "\n"
     ]
    }
   ],
   "source": [
    "# ottqa\n",
    "hnsw_openai_results_ottqa_val = run_eval_for_top_ks(hnsw_openai, \"hnsw_openai\", top_ks, target_ottqa, \"ottqa\", \"validation\")"
   ]
  },
  {
   "cell_type": "code",
   "execution_count": 8,
   "metadata": {},
   "outputs": [
    {
     "data": {
      "text/plain": [
       "[{'Table Retrieval Task': {'ottqa': TaskResultsDataModel(retrieval_performance=RetrievalPerformanceDataModel(k=1, accuracy=0.6644083107497741, precision=None, recall=None, retrieval_time=14.40323, avg_retrieval_time=0.00651), downstream_task_performance=DownstreamTaskPerformanceDataModel(task_name=None, scores=None), embedding_statistics=EmbeddingStatisticsDataModel(embedding_creation_duration=3.14826, avg_embedding_creation_duration=0.00399, embedding_size=5.0176, avg_embedding_size=0.00636))}},\n",
       " {'Table Retrieval Task': {'ottqa': TaskResultsDataModel(retrieval_performance=RetrievalPerformanceDataModel(k=5, accuracy=0.9015356820234869, precision=None, recall=None, retrieval_time=14.46007, avg_retrieval_time=0.00653), downstream_task_performance=DownstreamTaskPerformanceDataModel(task_name=None, scores=None), embedding_statistics=EmbeddingStatisticsDataModel(embedding_creation_duration=3e-05, avg_embedding_creation_duration=0.0, embedding_size=0.0, avg_embedding_size=0.0))}},\n",
       " {'Table Retrieval Task': {'ottqa': TaskResultsDataModel(retrieval_performance=RetrievalPerformanceDataModel(k=10, accuracy=0.9498644986449865, precision=None, recall=None, retrieval_time=25.10111, avg_retrieval_time=0.01134), downstream_task_performance=DownstreamTaskPerformanceDataModel(task_name=None, scores=None), embedding_statistics=EmbeddingStatisticsDataModel(embedding_creation_duration=3e-05, avg_embedding_creation_duration=0.0, embedding_size=0.0, avg_embedding_size=0.0))}},\n",
       " {'Table Retrieval Task': {'ottqa': TaskResultsDataModel(retrieval_performance=RetrievalPerformanceDataModel(k=25, accuracy=0.9832881662149955, precision=None, recall=None, retrieval_time=14.55493, avg_retrieval_time=0.00657), downstream_task_performance=DownstreamTaskPerformanceDataModel(task_name=None, scores=None), embedding_statistics=EmbeddingStatisticsDataModel(embedding_creation_duration=3e-05, avg_embedding_creation_duration=0.0, embedding_size=0.0, avg_embedding_size=0.0))}},\n",
       " {'Table Retrieval Task': {'ottqa': TaskResultsDataModel(retrieval_performance=RetrievalPerformanceDataModel(k=50, accuracy=0.993676603432701, precision=None, recall=None, retrieval_time=14.50772, avg_retrieval_time=0.00655), downstream_task_performance=DownstreamTaskPerformanceDataModel(task_name=None, scores=None), embedding_statistics=EmbeddingStatisticsDataModel(embedding_creation_duration=3e-05, avg_embedding_creation_duration=0.0, embedding_size=0.0, avg_embedding_size=0.0))}}]"
      ]
     },
     "execution_count": 8,
     "metadata": {},
     "output_type": "execute_result"
    }
   ],
   "source": [
    "hnsw_openai_results_ottqa_val"
   ]
  },
  {
   "cell_type": "code",
   "execution_count": 9,
   "metadata": {},
   "outputs": [
    {
     "name": "stderr",
     "output_type": "stream",
     "text": [
      "17it [03:57, 13.95s/it]\n",
      "Retrieving Tables for tabfact...: 100%|██████████| 12779/12779 [31:36<00:00,  6.74it/s]\n"
     ]
    },
    {
     "name": "stdout",
     "output_type": "stream",
     "text": [
      "{'Table Retrieval Task': {'tabfact': TaskResultsDataModel(retrieval_performance=RetrievalPerformanceDataModel(k=1, accuracy=0.4923702950152594, precision=None, recall=None, retrieval_time=129.74416, avg_retrieval_time=0.01015), downstream_task_performance=DownstreamTaskPerformanceDataModel(task_name=None, scores=None), embedding_statistics=EmbeddingStatisticsDataModel(embedding_creation_duration=6.36884, avg_embedding_creation_duration=0.00376, embedding_size=10.7479, avg_embedding_size=0.00634))}}\n"
     ]
    },
    {
     "name": "stderr",
     "output_type": "stream",
     "text": [
      "Retrieving Tables for tabfact...: 100%|██████████| 12779/12779 [29:51<00:00,  7.13it/s]\n"
     ]
    },
    {
     "name": "stdout",
     "output_type": "stream",
     "text": [
      "{'Table Retrieval Task': {'tabfact': TaskResultsDataModel(retrieval_performance=RetrievalPerformanceDataModel(k=5, accuracy=0.7005242976758744, precision=None, recall=None, retrieval_time=127.69664, avg_retrieval_time=0.00999), downstream_task_performance=DownstreamTaskPerformanceDataModel(task_name=None, scores=None), embedding_statistics=EmbeddingStatisticsDataModel(embedding_creation_duration=3e-05, avg_embedding_creation_duration=0.0, embedding_size=0.0, avg_embedding_size=0.0))}}\n"
     ]
    },
    {
     "name": "stderr",
     "output_type": "stream",
     "text": [
      "Retrieving Tables for tabfact...: 100%|██████████| 12779/12779 [30:06<00:00,  7.07it/s]\n"
     ]
    },
    {
     "name": "stdout",
     "output_type": "stream",
     "text": [
      "{'Table Retrieval Task': {'tabfact': TaskResultsDataModel(retrieval_performance=RetrievalPerformanceDataModel(k=10, accuracy=0.7791689490570467, precision=None, recall=None, retrieval_time=117.32653, avg_retrieval_time=0.00918), downstream_task_performance=DownstreamTaskPerformanceDataModel(task_name=None, scores=None), embedding_statistics=EmbeddingStatisticsDataModel(embedding_creation_duration=4e-05, avg_embedding_creation_duration=0.0, embedding_size=0.0, avg_embedding_size=0.0))}}\n"
     ]
    },
    {
     "name": "stderr",
     "output_type": "stream",
     "text": [
      "Retrieving Tables for tabfact...: 100%|██████████| 12779/12779 [30:12<00:00,  7.05it/s]\n"
     ]
    },
    {
     "name": "stdout",
     "output_type": "stream",
     "text": [
      "{'Table Retrieval Task': {'tabfact': TaskResultsDataModel(retrieval_performance=RetrievalPerformanceDataModel(k=25, accuracy=0.8679082870334142, precision=None, recall=None, retrieval_time=125.59404, avg_retrieval_time=0.00983), downstream_task_performance=DownstreamTaskPerformanceDataModel(task_name=None, scores=None), embedding_statistics=EmbeddingStatisticsDataModel(embedding_creation_duration=3e-05, avg_embedding_creation_duration=0.0, embedding_size=0.0, avg_embedding_size=0.0))}}\n"
     ]
    },
    {
     "name": "stderr",
     "output_type": "stream",
     "text": [
      "Retrieving Tables for tabfact...: 100%|██████████| 12779/12779 [31:19<00:00,  6.80it/s]"
     ]
    },
    {
     "name": "stdout",
     "output_type": "stream",
     "text": [
      "{'Table Retrieval Task': {'tabfact': TaskResultsDataModel(retrieval_performance=RetrievalPerformanceDataModel(k=50, accuracy=0.9247202441505595, precision=None, recall=None, retrieval_time=122.10146, avg_retrieval_time=0.00955), downstream_task_performance=DownstreamTaskPerformanceDataModel(task_name=None, scores=None), embedding_statistics=EmbeddingStatisticsDataModel(embedding_creation_duration=3e-05, avg_embedding_creation_duration=0.0, embedding_size=0.0, avg_embedding_size=0.0))}}\n"
     ]
    },
    {
     "name": "stderr",
     "output_type": "stream",
     "text": [
      "\n"
     ]
    }
   ],
   "source": [
    "# tabfact\n",
    "hnsw_openai_results_tabfact_test = run_eval_for_top_ks(hnsw_openai, \"hnsw_openai\", top_ks, target_tabfact, \"tabfact\", \"test\")"
   ]
  },
  {
   "cell_type": "code",
   "execution_count": 10,
   "metadata": {},
   "outputs": [
    {
     "data": {
      "text/plain": [
       "[{'Table Retrieval Task': {'tabfact': TaskResultsDataModel(retrieval_performance=RetrievalPerformanceDataModel(k=1, accuracy=0.4923702950152594, precision=None, recall=None, retrieval_time=129.74416, avg_retrieval_time=0.01015), downstream_task_performance=DownstreamTaskPerformanceDataModel(task_name=None, scores=None), embedding_statistics=EmbeddingStatisticsDataModel(embedding_creation_duration=6.36884, avg_embedding_creation_duration=0.00376, embedding_size=10.7479, avg_embedding_size=0.00634))}},\n",
       " {'Table Retrieval Task': {'tabfact': TaskResultsDataModel(retrieval_performance=RetrievalPerformanceDataModel(k=5, accuracy=0.7005242976758744, precision=None, recall=None, retrieval_time=127.69664, avg_retrieval_time=0.00999), downstream_task_performance=DownstreamTaskPerformanceDataModel(task_name=None, scores=None), embedding_statistics=EmbeddingStatisticsDataModel(embedding_creation_duration=3e-05, avg_embedding_creation_duration=0.0, embedding_size=0.0, avg_embedding_size=0.0))}},\n",
       " {'Table Retrieval Task': {'tabfact': TaskResultsDataModel(retrieval_performance=RetrievalPerformanceDataModel(k=10, accuracy=0.7791689490570467, precision=None, recall=None, retrieval_time=117.32653, avg_retrieval_time=0.00918), downstream_task_performance=DownstreamTaskPerformanceDataModel(task_name=None, scores=None), embedding_statistics=EmbeddingStatisticsDataModel(embedding_creation_duration=4e-05, avg_embedding_creation_duration=0.0, embedding_size=0.0, avg_embedding_size=0.0))}},\n",
       " {'Table Retrieval Task': {'tabfact': TaskResultsDataModel(retrieval_performance=RetrievalPerformanceDataModel(k=25, accuracy=0.8679082870334142, precision=None, recall=None, retrieval_time=125.59404, avg_retrieval_time=0.00983), downstream_task_performance=DownstreamTaskPerformanceDataModel(task_name=None, scores=None), embedding_statistics=EmbeddingStatisticsDataModel(embedding_creation_duration=3e-05, avg_embedding_creation_duration=0.0, embedding_size=0.0, avg_embedding_size=0.0))}},\n",
       " {'Table Retrieval Task': {'tabfact': TaskResultsDataModel(retrieval_performance=RetrievalPerformanceDataModel(k=50, accuracy=0.9247202441505595, precision=None, recall=None, retrieval_time=122.10146, avg_retrieval_time=0.00955), downstream_task_performance=DownstreamTaskPerformanceDataModel(task_name=None, scores=None), embedding_statistics=EmbeddingStatisticsDataModel(embedding_creation_duration=3e-05, avg_embedding_creation_duration=0.0, embedding_size=0.0, avg_embedding_size=0.0))}}]"
      ]
     },
     "execution_count": 10,
     "metadata": {},
     "output_type": "execute_result"
    }
   ],
   "source": [
    "hnsw_openai_results_tabfact_test"
   ]
  },
  {
   "cell_type": "code",
   "execution_count": 8,
   "metadata": {},
   "outputs": [
    {
     "data": {
      "application/vnd.jupyter.widget-view+json": {
       "model_id": "a349a9cd708a4805b10901b3629fd1fe",
       "version_major": 2,
       "version_minor": 0
      },
      "text/plain": [
       "Fetching 132 files:   0%|          | 0/132 [00:00<?, ?it/s]"
      ]
     },
     "metadata": {},
     "output_type": "display_data"
    },
    {
     "name": "stderr",
     "output_type": "stream",
     "text": [
      "2it [00:30, 15.36s/it]\n",
      "Retrieving Tables for spider-test...: 100%|██████████| 2147/2147 [05:38<00:00,  6.34it/s]\n"
     ]
    },
    {
     "name": "stdout",
     "output_type": "stream",
     "text": [
      "{'Table Retrieval Task': {'spider-test': TaskResultsDataModel(retrieval_performance=RetrievalPerformanceDataModel(k=1, accuracy=0.768048439683279, precision=None, recall=None, retrieval_time=9.69517, avg_retrieval_time=0.00452), downstream_task_performance=DownstreamTaskPerformanceDataModel(task_name=None, scores=None), embedding_statistics=EmbeddingStatisticsDataModel(embedding_creation_duration=0.56571, avg_embedding_creation_duration=0.00314, embedding_size=1.15098, avg_embedding_size=0.00639))}}\n"
     ]
    },
    {
     "name": "stderr",
     "output_type": "stream",
     "text": [
      "Retrieving Tables for spider-test...: 100%|██████████| 2147/2147 [05:08<00:00,  6.97it/s]\n"
     ]
    },
    {
     "name": "stdout",
     "output_type": "stream",
     "text": [
      "{'Table Retrieval Task': {'spider-test': TaskResultsDataModel(retrieval_performance=RetrievalPerformanceDataModel(k=5, accuracy=0.9417792268281323, precision=None, recall=None, retrieval_time=9.73731, avg_retrieval_time=0.00454), downstream_task_performance=DownstreamTaskPerformanceDataModel(task_name=None, scores=None), embedding_statistics=EmbeddingStatisticsDataModel(embedding_creation_duration=4e-05, avg_embedding_creation_duration=0.0, embedding_size=0.0, avg_embedding_size=0.0))}}\n"
     ]
    },
    {
     "name": "stderr",
     "output_type": "stream",
     "text": [
      "Retrieving Tables for spider-test...: 100%|██████████| 2147/2147 [10:31<00:00,  3.40it/s]\n"
     ]
    },
    {
     "name": "stdout",
     "output_type": "stream",
     "text": [
      "{'Table Retrieval Task': {'spider-test': TaskResultsDataModel(retrieval_performance=RetrievalPerformanceDataModel(k=10, accuracy=0.9687936655798789, precision=None, recall=None, retrieval_time=15.72271, avg_retrieval_time=0.00732), downstream_task_performance=DownstreamTaskPerformanceDataModel(task_name=None, scores=None), embedding_statistics=EmbeddingStatisticsDataModel(embedding_creation_duration=3e-05, avg_embedding_creation_duration=0.0, embedding_size=0.0, avg_embedding_size=0.0))}}\n"
     ]
    },
    {
     "name": "stderr",
     "output_type": "stream",
     "text": [
      "Retrieving Tables for spider-test...: 100%|██████████| 2147/2147 [10:38<00:00,  3.36it/s]\n"
     ]
    },
    {
     "name": "stdout",
     "output_type": "stream",
     "text": [
      "{'Table Retrieval Task': {'spider-test': TaskResultsDataModel(retrieval_performance=RetrievalPerformanceDataModel(k=25, accuracy=0.9827666511411272, precision=None, recall=None, retrieval_time=9.92283, avg_retrieval_time=0.00462), downstream_task_performance=DownstreamTaskPerformanceDataModel(task_name=None, scores=None), embedding_statistics=EmbeddingStatisticsDataModel(embedding_creation_duration=3e-05, avg_embedding_creation_duration=0.0, embedding_size=0.0, avg_embedding_size=0.0))}}\n"
     ]
    },
    {
     "name": "stderr",
     "output_type": "stream",
     "text": [
      "Retrieving Tables for spider-test...: 100%|██████████| 2147/2147 [05:15<00:00,  6.81it/s]"
     ]
    },
    {
     "name": "stdout",
     "output_type": "stream",
     "text": [
      "{'Table Retrieval Task': {'spider-test': TaskResultsDataModel(retrieval_performance=RetrievalPerformanceDataModel(k=50, accuracy=0.9911504424778761, precision=None, recall=None, retrieval_time=9.86789, avg_retrieval_time=0.0046), downstream_task_performance=DownstreamTaskPerformanceDataModel(task_name=None, scores=None), embedding_statistics=EmbeddingStatisticsDataModel(embedding_creation_duration=3e-05, avg_embedding_creation_duration=0.0, embedding_size=0.0, avg_embedding_size=0.0))}}\n"
     ]
    },
    {
     "name": "stderr",
     "output_type": "stream",
     "text": [
      "\n"
     ]
    }
   ],
   "source": [
    "# spider\n",
    "hnsw_openai_results_spider_test = run_eval_for_top_ks(hnsw_openai, \"hnsw_openai\", top_ks, target_spider, \"spider\", \"test\")"
   ]
  },
  {
   "cell_type": "code",
   "execution_count": 9,
   "metadata": {},
   "outputs": [
    {
     "data": {
      "text/plain": [
       "[{'Table Retrieval Task': {'spider-test': TaskResultsDataModel(retrieval_performance=RetrievalPerformanceDataModel(k=1, accuracy=0.768048439683279, precision=None, recall=None, retrieval_time=9.69517, avg_retrieval_time=0.00452), downstream_task_performance=DownstreamTaskPerformanceDataModel(task_name=None, scores=None), embedding_statistics=EmbeddingStatisticsDataModel(embedding_creation_duration=0.56571, avg_embedding_creation_duration=0.00314, embedding_size=1.15098, avg_embedding_size=0.00639))}},\n",
       " {'Table Retrieval Task': {'spider-test': TaskResultsDataModel(retrieval_performance=RetrievalPerformanceDataModel(k=5, accuracy=0.9417792268281323, precision=None, recall=None, retrieval_time=9.73731, avg_retrieval_time=0.00454), downstream_task_performance=DownstreamTaskPerformanceDataModel(task_name=None, scores=None), embedding_statistics=EmbeddingStatisticsDataModel(embedding_creation_duration=4e-05, avg_embedding_creation_duration=0.0, embedding_size=0.0, avg_embedding_size=0.0))}},\n",
       " {'Table Retrieval Task': {'spider-test': TaskResultsDataModel(retrieval_performance=RetrievalPerformanceDataModel(k=10, accuracy=0.9687936655798789, precision=None, recall=None, retrieval_time=15.72271, avg_retrieval_time=0.00732), downstream_task_performance=DownstreamTaskPerformanceDataModel(task_name=None, scores=None), embedding_statistics=EmbeddingStatisticsDataModel(embedding_creation_duration=3e-05, avg_embedding_creation_duration=0.0, embedding_size=0.0, avg_embedding_size=0.0))}},\n",
       " {'Table Retrieval Task': {'spider-test': TaskResultsDataModel(retrieval_performance=RetrievalPerformanceDataModel(k=25, accuracy=0.9827666511411272, precision=None, recall=None, retrieval_time=9.92283, avg_retrieval_time=0.00462), downstream_task_performance=DownstreamTaskPerformanceDataModel(task_name=None, scores=None), embedding_statistics=EmbeddingStatisticsDataModel(embedding_creation_duration=3e-05, avg_embedding_creation_duration=0.0, embedding_size=0.0, avg_embedding_size=0.0))}},\n",
       " {'Table Retrieval Task': {'spider-test': TaskResultsDataModel(retrieval_performance=RetrievalPerformanceDataModel(k=50, accuracy=0.9911504424778761, precision=None, recall=None, retrieval_time=9.86789, avg_retrieval_time=0.0046), downstream_task_performance=DownstreamTaskPerformanceDataModel(task_name=None, scores=None), embedding_statistics=EmbeddingStatisticsDataModel(embedding_creation_duration=3e-05, avg_embedding_creation_duration=0.0, embedding_size=0.0, avg_embedding_size=0.0))}}]"
      ]
     },
     "execution_count": 9,
     "metadata": {},
     "output_type": "execute_result"
    }
   ],
   "source": [
    "hnsw_openai_results_spider_test"
   ]
  },
  {
   "cell_type": "code",
   "execution_count": null,
   "metadata": {},
   "outputs": [],
   "source": [
    "# Bird\n",
    "hnsw_openai_results_bird_val = run_eval_for_top_ks(hnsw_openai, \"hnsw_openai\",top_ks, target_bird, \"bird\", \"validation\")"
   ]
  },
  {
   "cell_type": "code",
   "execution_count": 6,
   "metadata": {},
   "outputs": [
    {
     "data": {
      "text/plain": [
       "[{'Table Retrieval Task': {'bird-validation': TaskResultsDataModel(retrieval_performance=RetrievalPerformanceDataModel(k=1, accuracy=0.9256844850065189, precision=None, recall=None, retrieval_time=6.34834, avg_retrieval_time=0.00414), downstream_task_performance=DownstreamTaskPerformanceDataModel(task_name=None, scores=None), embedding_statistics=EmbeddingStatisticsDataModel(embedding_creation_duration=4.09669, avg_embedding_creation_duration=0.05462, embedding_size=0.47923, avg_embedding_size=0.00639))}},\n",
       " {'Table Retrieval Task': {'bird-validation': TaskResultsDataModel(retrieval_performance=RetrievalPerformanceDataModel(k=5, accuracy=0.9915254237288136, precision=None, recall=None, retrieval_time=6.41543, avg_retrieval_time=0.00418), downstream_task_performance=DownstreamTaskPerformanceDataModel(task_name=None, scores=None), embedding_statistics=EmbeddingStatisticsDataModel(embedding_creation_duration=4e-05, avg_embedding_creation_duration=0.0, embedding_size=0.0, avg_embedding_size=0.0))}},\n",
       " {'Table Retrieval Task': {'bird-validation': TaskResultsDataModel(retrieval_performance=RetrievalPerformanceDataModel(k=10, accuracy=0.9986962190352021, precision=None, recall=None, retrieval_time=6.46084, avg_retrieval_time=0.00421), downstream_task_performance=DownstreamTaskPerformanceDataModel(task_name=None, scores=None), embedding_statistics=EmbeddingStatisticsDataModel(embedding_creation_duration=3e-05, avg_embedding_creation_duration=0.0, embedding_size=0.0, avg_embedding_size=0.0))}},\n",
       " {'Table Retrieval Task': {'bird-validation': TaskResultsDataModel(retrieval_performance=RetrievalPerformanceDataModel(k=25, accuracy=1.0, precision=None, recall=None, retrieval_time=6.43778, avg_retrieval_time=0.0042), downstream_task_performance=DownstreamTaskPerformanceDataModel(task_name=None, scores=None), embedding_statistics=EmbeddingStatisticsDataModel(embedding_creation_duration=3e-05, avg_embedding_creation_duration=0.0, embedding_size=0.0, avg_embedding_size=0.0))}},\n",
       " {'Table Retrieval Task': {'bird-validation': TaskResultsDataModel(retrieval_performance=RetrievalPerformanceDataModel(k=50, accuracy=1.0, precision=None, recall=None, retrieval_time=6.57199, avg_retrieval_time=0.00428), downstream_task_performance=DownstreamTaskPerformanceDataModel(task_name=None, scores=None), embedding_statistics=EmbeddingStatisticsDataModel(embedding_creation_duration=3e-05, avg_embedding_creation_duration=0.0, embedding_size=0.0, avg_embedding_size=0.0))}}]"
      ]
     },
     "execution_count": 6,
     "metadata": {},
     "output_type": "execute_result"
    }
   ],
   "source": [
    "hnsw_openai_results_bird_val"
   ]
  }
 ],
 "metadata": {
  "kernelspec": {
   "display_name": "target",
   "language": "python",
   "name": "python3"
  },
  "language_info": {
   "codemirror_mode": {
    "name": "ipython",
    "version": 3
   },
   "file_extension": ".py",
   "mimetype": "text/x-python",
   "name": "python",
   "nbconvert_exporter": "python",
   "pygments_lexer": "ipython3",
   "version": "3.12.2"
  }
 },
 "nbformat": 4,
 "nbformat_minor": 2
}
